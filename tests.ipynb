{
 "cells": [
  {
   "cell_type": "code",
   "execution_count": 1,
   "metadata": {},
   "outputs": [],
   "source": [
    "import datetime\n",
    "import matplotlib.pyplot as plt\n",
    "import math\n",
    "import numpy as np\n",
    "import os"
   ]
  },
  {
   "cell_type": "code",
   "execution_count": 2,
   "metadata": {},
   "outputs": [],
   "source": [
    "import torch\n",
    "from torchvision import datasets"
   ]
  },
  {
   "cell_type": "markdown",
   "metadata": {},
   "source": [
    "# Get MNIST data"
   ]
  },
  {
   "cell_type": "code",
   "execution_count": 3,
   "metadata": {},
   "outputs": [],
   "source": [
    "def generate_pair_sets():\n",
    "    data_dir = os.environ.get('PYTORCH_DATA_DIR')\n",
    "    if data_dir is None:\n",
    "        data_dir = './data'\n",
    "\n",
    "    train_set = datasets.MNIST(data_dir + '/mnist/', train = True, download = True)\n",
    "    train_features = train_set.train_data.view(-1, 1, 28, 28).float()\n",
    "    train_target = train_set.train_labels\n",
    "    train_features = torch.functional.F.avg_pool2d(train_features, kernel_size = 2)\n",
    "\n",
    "    test_set = datasets.MNIST(data_dir + '/mnist/', train = False, download = True)\n",
    "    test_features = test_set.test_data.view(-1, 1, 28, 28).float()\n",
    "    test_target = test_set.test_labels\n",
    "    test_features = torch.functional.F.avg_pool2d(test_features, kernel_size = 2)\n",
    "\n",
    "    return train_features, train_target, test_features, test_target"
   ]
  },
  {
   "cell_type": "code",
   "execution_count": 4,
   "metadata": {},
   "outputs": [],
   "source": [
    "import warnings\n",
    "warnings.filterwarnings('ignore')\n",
    "train_features, train_target, test_features, test_target = generate_pair_sets()"
   ]
  },
  {
   "cell_type": "code",
   "execution_count": 5,
   "metadata": {},
   "outputs": [
    {
     "name": "stdout",
     "output_type": "stream",
     "text": [
      "torch.Size([60000, 1, 14, 14]) torch.Size([60000])\n",
      "torch.Size([10000, 1, 14, 14]) torch.Size([10000])\n"
     ]
    }
   ],
   "source": [
    "print(train_features.shape, train_target.shape)\n",
    "print(test_features.shape, test_target.shape)"
   ]
  },
  {
   "cell_type": "code",
   "execution_count": 6,
   "metadata": {},
   "outputs": [],
   "source": [
    "data_size = 1000\n",
    "train_perm = torch.randperm(train_features.size(0))\n",
    "idx = train_perm[:data_size]\n",
    "train_features = train_features[idx].reshape([data_size, train_features.size(2)**2])\n",
    "train_target = train_target[idx]\n",
    "\n",
    "test_perm = torch.randperm(test_features.size(0))\n",
    "idx = test_perm[:data_size]\n",
    "test_features = test_features[idx].reshape([data_size, test_features.size(2)**2])\n",
    "test_target = test_target[idx]"
   ]
  },
  {
   "cell_type": "code",
   "execution_count": 7,
   "metadata": {},
   "outputs": [
    {
     "name": "stdout",
     "output_type": "stream",
     "text": [
      "torch.Size([1000, 196]) torch.Size([1000])\n",
      "torch.Size([1000, 196]) torch.Size([1000])\n"
     ]
    }
   ],
   "source": [
    "def normalize(tensor):\n",
    "    mean, std = tensor.mean(), tensor.std()\n",
    "    return tensor.sub_(mean).div_(std)\n",
    "\n",
    "normalize(train_features)\n",
    "normalize(test_features)\n",
    "print(train_features.shape, train_target.shape)\n",
    "print(test_features.shape, test_target.shape)"
   ]
  },
  {
   "cell_type": "code",
   "execution_count": 8,
   "metadata": {},
   "outputs": [
    {
     "data": {
      "image/png": "[encoded data removed]",
      "text/plain": [
       "<Figure size 432x288 with 6 Axes>"
      ]
     },
     "metadata": {},
     "output_type": "display_data"
    }
   ],
   "source": [
    "# displaying samples of data\n",
    "fig = plt.figure()\n",
    "for i in range(6):\n",
    "    plt.subplot(2,3,i+1)\n",
    "    plt.imshow(test_features[i].reshape([14, 14]), cmap='gray', interpolation='none')\n",
    "    plt.title(\"Value: {}\".format(test_target[i]))  \n",
    "    plt.tight_layout()\n",
    "    plt.xticks([])\n",
    "    plt.yticks([])"
   ]
  },
  {
   "cell_type": "markdown",
   "metadata": {},
   "source": [
    "# Pytorch model"
   ]
  },
  {
   "cell_type": "code",
   "execution_count": 9,
   "metadata": {},
   "outputs": [],
   "source": [
    "# device\n",
    "# device = torch.device('cuda' if torch.cuda.is_available() else 'cpu')\n",
    "\n",
    "# Fully connected neural network\n",
    "class NeuralNet(torch.nn.Module):\n",
    "    def __init__(self, input_size, hidden_size, num_class, dropout_p):\n",
    "        super(NeuralNet, self).__init__()\n",
    "        self.fc1 = torch.nn.Linear(input_size, hidden_size) \n",
    "        self.ReLU = torch.nn.ReLU() \n",
    "        self.softmax = torch.nn.Softmax(dim=1)\n",
    "        self.fc2 = torch.nn.Linear(hidden_size, hidden_size)  \n",
    "        self.fc3 = torch.nn.Linear(hidden_size, num_class) \n",
    "        self.dropout = torch.nn.Dropout(dropout_p) \n",
    "    \n",
    "    def forward(self, x):\n",
    "        x = self.ReLU(self.fc1(x))\n",
    "        x = self.ReLU(self.fc2(x))\n",
    "        x = self.softmax(self.fc3(x))\n",
    "        return x"
   ]
  },
  {
   "cell_type": "code",
   "execution_count": 10,
   "metadata": {},
   "outputs": [],
   "source": [
    "# function to train each model\n",
    "def train_model(model_, train_features_, train_target_, criterion_, optimizer_, num_epochs_, batch_size_, learning_rate_decay):\n",
    "    # getting start time of train to get the train time at the end thanks to \"end_time\"\n",
    "    start_time = datetime.datetime.now()\n",
    "    # list to get train and test errors at each epoch\n",
    "    train_error = []\n",
    "    test_error = []\n",
    "    # train function\n",
    "    # Learning rate decay can be enabled or disabled than to an input in the function's parameters\n",
    "    if learning_rate_decay:\n",
    "        lambda_ = lambda epoch: 0.8 ** epoch\n",
    "        scheduler = torch.optim.lr_scheduler.LambdaLR(optimizer_, lr_lambda=lambda_)\n",
    "    for epoch in range(1, num_epochs_+1):\n",
    "        # using technique of mini batch (size of the batch in the function's parameters)\n",
    "        for i in range(int(len(train_features_)/batch_size_)):  \n",
    "            # getting images and labels in right format\n",
    "            images = train_features_.narrow(0,i*batch_size_,batch_size_)\n",
    "            labels = train_target_.narrow(0,i*batch_size_,batch_size_)\n",
    "\n",
    "            # Forward pass\n",
    "            outputs = model_(images)\n",
    "            loss = criterion_(outputs, labels)\n",
    "\n",
    "            # Backward and optimize\n",
    "            optimizer_.zero_grad()\n",
    "            loss.backward()\n",
    "            optimizer_.step()\n",
    "\n",
    "        if learning_rate_decay:\n",
    "            scheduler.step()\n",
    "        # getting train error at each epoch\n",
    "        train_error.append(test_accuracy(model_, train_features_, train_target_))\n",
    "        test_error.append(test_accuracy(model_, test_features, test_target))\n",
    "    # getting end time and training time\n",
    "    training_time = datetime.datetime.now() - start_time\n",
    "    print('Training time: {}'.format(training_time))\n",
    "    print('Loss: {:.4f} on final epoch: {}. Train error: {:.5f}%, Test error: {:.5f}%'.format(loss.item(),epoch,train_error[-1],test_error[-1]))\n",
    "    return train_error, test_error, training_time"
   ]
  },
  {
   "cell_type": "code",
   "execution_count": 11,
   "metadata": {},
   "outputs": [],
   "source": [
    "def test_accuracy(model_, my_test_features_, my_test_target_):\n",
    "    outputs = model_(my_test_features_)\n",
    "    _, predictions = torch.max(outputs.data, 1)\n",
    "    count_errors = (predictions.long() != my_test_target_.long()).sum().item()\n",
    "    return count_errors / my_test_features_.size(0) * 100"
   ]
  },
  {
   "cell_type": "markdown",
   "metadata": {},
   "source": [
    "# Homemade framework"
   ]
  },
  {
   "cell_type": "code",
   "execution_count": 12,
   "metadata": {},
   "outputs": [],
   "source": [
    "%load_ext autoreload\n",
    "%autoreload 2\n",
    "from homemade_framework import framework as NN"
   ]
  },
  {
   "cell_type": "markdown",
   "metadata": {},
   "source": [
    "# Models parameters"
   ]
  },
  {
   "cell_type": "code",
   "execution_count": 13,
   "metadata": {},
   "outputs": [],
   "source": [
    "# number of epoch\n",
    "num_epochs = 50\n",
    "# batch size to compute mini-batch\n",
    "batch_size = 10\n",
    "# number of pixels in the image \n",
    "input_size = 196\n",
    "# number of possible digit: 0 to 9 \n",
    "num_class = 10\n",
    "# small step to find a minima\n",
    "learning_rate = 0.01\n",
    "# hidden size\n",
    "hidden_size = 128\n",
    "# p dropout\n",
    "p_dropout = 0\n",
    "# learning rate decay\n",
    "LRD = False"
   ]
  },
  {
   "cell_type": "markdown",
   "metadata": {},
   "source": [
    "# Train pytorch model"
   ]
  },
  {
   "cell_type": "code",
   "execution_count": 14,
   "metadata": {},
   "outputs": [
    {
     "name": "stdout",
     "output_type": "stream",
     "text": [
      "Training time: 0:00:18.332975\n",
      "Loss: 1.5780 on final epoch: 50. Train error: 17.00000%, Test error: 21.70000%\n"
     ]
    }
   ],
   "source": [
    "model = NeuralNet(input_size, hidden_size, num_class, p_dropout)\n",
    "criterion = torch.nn.CrossEntropyLoss()\n",
    "optimizer = torch.optim.SGD(model.parameters(), lr=learning_rate)  \n",
    "train_error, test_error, train_time = train_model(model, train_features, train_target, criterion, optimizer, num_epochs, batch_size, LRD)"
   ]
  },
  {
   "cell_type": "markdown",
   "metadata": {},
   "source": [
    "# Train FCN homemade model"
   ]
  },
  {
   "cell_type": "code",
   "execution_count": 14,
   "metadata": {},
   "outputs": [],
   "source": [
    "# convert data to numpy array\n",
    "train_features_np, train_target_np = train_features.numpy(), train_target.numpy()\n",
    "test_features_np, test_target_np = test_features.numpy(), test_target.numpy()"
   ]
  },
  {
   "cell_type": "code",
   "execution_count": 16,
   "metadata": {},
   "outputs": [
    {
     "name": "stdout",
     "output_type": "stream",
     "text": [
      "Model description: Linear in green, Activation in blue, Loss in magenta, Softmax in red, Flatten in Gray, Convolution in Cyan, Batch_normalization in Black\n",
      "\u001b[32m\tLinear layer shape: [196, 128]\u001b[0m\n",
      "\u001b[34m\tLeakyReLU activation, a=0.01\u001b[0m\n",
      "\u001b[32m\tLinear layer shape: [128, 128]\u001b[0m\n",
      "\u001b[34m\tLeakyReLU activation, a=0.01\u001b[0m\n",
      "\u001b[39m\tBatch normalization function: a=1, b=0\u001b[0m\n",
      "\u001b[32m\tLinear layer shape: [128, 10]\u001b[0m\n",
      "\u001b[31m\tSoftmax function\u001b[0m\n",
      "\u001b[35m\tMSE\u001b[0m\n",
      "Before training: Epoch: 0, Train Error: 92.7000%,        Test Error: 91.9000%, Loss  0.0000\n",
      "Epoch: 1, Train Error: 22.8000%,        Test Error: 27.9000%, Loss  69.1958\n",
      "Epoch: 2, Train Error: 13.0000%,        Test Error: 19.1000%, Loss  30.7547\n",
      "Epoch: 3, Train Error: 8.8000%,        Test Error: 17.1000%, Loss  19.2120\n",
      "Epoch: 4, Train Error: 6.9000%,        Test Error: 15.0000%, Loss  13.4910\n",
      "Epoch: 5, Train Error: 5.4000%,        Test Error: 15.0000%, Loss  9.7248\n",
      "Epoch: 6, Train Error: 4.9000%,        Test Error: 15.0000%, Loss  7.4992\n",
      "Epoch: 7, Train Error: 4.5000%,        Test Error: 14.4000%, Loss  5.9970\n",
      "Epoch: 8, Train Error: 4.4000%,        Test Error: 14.3000%, Loss  4.7790\n",
      "Epoch: 9, Train Error: 3.8000%,        Test Error: 14.5000%, Loss  4.0358\n",
      "Epoch: 10, Train Error: 3.2000%,        Test Error: 14.2000%, Loss  3.4523\n",
      "Epoch: 11, Train Error: 2.8000%,        Test Error: 14.1000%, Loss  2.9152\n",
      "Epoch: 12, Train Error: 2.7000%,        Test Error: 14.1000%, Loss  2.5028\n",
      "Epoch: 13, Train Error: 2.1000%,        Test Error: 13.7000%, Loss  2.2178\n",
      "Epoch: 14, Train Error: 2.4000%,        Test Error: 14.4000%, Loss  1.9349\n",
      "Epoch: 15, Train Error: 2.3000%,        Test Error: 14.3000%, Loss  1.7480\n",
      "Epoch: 16, Train Error: 2.1000%,        Test Error: 14.1000%, Loss  1.5215\n",
      "Epoch: 17, Train Error: 1.9000%,        Test Error: 14.0000%, Loss  1.3685\n",
      "Epoch: 18, Train Error: 1.9000%,        Test Error: 14.1000%, Loss  1.2381\n",
      "Epoch: 19, Train Error: 2.0000%,        Test Error: 14.5000%, Loss  1.2053\n",
      "Epoch: 20, Train Error: 1.7000%,        Test Error: 14.6000%, Loss  1.0794\n",
      "\n",
      "Training time: 0:00:07.437527\n",
      "After training: Epoch: 19, Train Error: 1.7000%,        Test Error: 14.6000%, Loss  1.0794\n"
     ]
    }
   ],
   "source": [
    "# Build the model\n",
    "Model = NN.Sequential([NN.Linear(input_size, hidden_size), NN.LeakyReLU(),\n",
    "                       NN.Linear(hidden_size, hidden_size), NN.LeakyReLU(), NN.Batch_normalization(),\n",
    "                       NN.Linear(hidden_size, num_class), NN.Softmax()], NN.LossMSE())\n",
    "# Set the learning rate\n",
    "Model.set_Lr(learning_rate)\n",
    "# Print model's parameters\n",
    "Model.print(print_color=True)\n",
    "\n",
    "NN.train_homemade_model(Model, 20, train_features_np, train_target_np, test_features_np, test_target_np, batch_size)"
   ]
  },
  {
   "cell_type": "markdown",
   "metadata": {},
   "source": [
    "# Save and load model"
   ]
  },
  {
   "cell_type": "code",
   "execution_count": 17,
   "metadata": {},
   "outputs": [
    {
     "data": {
      "text/plain": [
       "43020"
      ]
     },
     "execution_count": 17,
     "metadata": {},
     "output_type": "execute_result"
    }
   ],
   "source": [
    "Model.getParametersCount()"
   ]
  },
  {
   "cell_type": "code",
   "execution_count": 19,
   "metadata": {},
   "outputs": [],
   "source": [
    "Model.save('model/')"
   ]
  },
  {
   "cell_type": "code",
   "execution_count": 20,
   "metadata": {},
   "outputs": [
    {
     "name": "stdout",
     "output_type": "stream",
     "text": [
      "Epoch: 0, Train Error: 1.7000%,        Test Error: 14.6000%, Loss  0.0000\n"
     ]
    }
   ],
   "source": [
    "NN.print_current_results(0, Model, train_features_np, train_target_np,\n",
    "                          test_features_np, test_target_np, 0)"
   ]
  },
  {
   "cell_type": "code",
   "execution_count": 21,
   "metadata": {},
   "outputs": [],
   "source": [
    "Model2 = NN.Sequential([NN.Linear(input_size, hidden_size), NN.LeakyReLU(),\n",
    "                       NN.Linear(hidden_size, hidden_size), NN.LeakyReLU(), NN.Batch_normalization(),\n",
    "                       NN.Linear(hidden_size, num_class), NN.Softmax()], NN.LossMSE())"
   ]
  },
  {
   "cell_type": "code",
   "execution_count": 22,
   "metadata": {},
   "outputs": [],
   "source": [
    "Model2.load('model/')"
   ]
  },
  {
   "cell_type": "code",
   "execution_count": 23,
   "metadata": {},
   "outputs": [
    {
     "name": "stdout",
     "output_type": "stream",
     "text": [
      "Epoch: 0, Train Error: 1.7000%,        Test Error: 14.6000%, Loss  0.0000\n"
     ]
    }
   ],
   "source": [
    "NN.print_current_results(0, Model2, train_features_np, train_target_np,\n",
    "                          test_features_np, test_target_np, 0)"
   ]
  },
  {
   "cell_type": "markdown",
   "metadata": {},
   "source": [
    "# test convolution function"
   ]
  },
  {
   "cell_type": "code",
   "execution_count": 21,
   "metadata": {},
   "outputs": [],
   "source": [
    "nb = 5\n",
    "train_features_tmp, train_target_tmp = train_features_np.reshape([1000,1,14,14])[0:nb], train_target_np[0:nb]\n",
    "test_features_tmp, test_target_tmp = test_features_np.reshape([1000,1,14,14])[0:nb], test_target_np[0:nb]"
   ]
  },
  {
   "cell_type": "code",
   "execution_count": 22,
   "metadata": {},
   "outputs": [
    {
     "data": {
      "image/png": "[encoded data removed]",
      "text/plain": [
       "<Figure size 504x504 with 5 Axes>"
      ]
     },
     "metadata": {},
     "output_type": "display_data"
    }
   ],
   "source": [
    "fig = plt.figure(figsize=(7,7))\n",
    "for i in range(nb):\n",
    "    plt.subplot(1,nb,i+1)\n",
    "    plt.imshow(train_features_tmp[i][0], cmap='gray', interpolation='none')\n",
    "    plt.title(\"Value: {}\".format(train_target_tmp[i]))  \n",
    "    plt.tight_layout()\n",
    "    plt.xticks([])\n",
    "    plt.yticks([])"
   ]
  },
  {
   "cell_type": "code",
   "execution_count": 24,
   "metadata": {},
   "outputs": [
    {
     "name": "stdout",
     "output_type": "stream",
     "text": [
      "kernel shape: (3, 1, 1, 1)\n",
      "result shape: (5, 3, 14, 14)\n",
      "kernel shape: (3, 1, 2, 2)\n",
      "result shape: (5, 3, 13, 13)\n",
      "kernel shape: (3, 1, 3, 3)\n",
      "result shape: (5, 3, 12, 12)\n",
      "kernel shape: (3, 1, 4, 4)\n",
      "result shape: (5, 3, 11, 11)\n"
     ]
    },
    {
     "data": {
      "image/png": "[encoded data removed]",
      "text/plain": [
       "<Figure size 504x504 with 5 Axes>"
      ]
     },
     "metadata": {},
     "output_type": "display_data"
    },
    {
     "data": {
      "image/png": "[encoded data removed]",
      "text/plain": [
       "<Figure size 504x504 with 5 Axes>"
      ]
     },
     "metadata": {},
     "output_type": "display_data"
    },
    {
     "data": {
      "image/png": "[encoded data removed]",
      "text/plain": [
       "<Figure size 504x504 with 5 Axes>"
      ]
     },
     "metadata": {},
     "output_type": "display_data"
    },
    {
     "data": {
      "image/png": "[encoded data removed]",
      "text/plain": [
       "<Figure size 504x504 with 5 Axes>"
      ]
     },
     "metadata": {},
     "output_type": "display_data"
    }
   ],
   "source": [
    "conv = NN.Convolution(in_channels=1, out_channels=3, kernel_size=3)\n",
    "for k_size in range(1,5):\n",
    "    kernel = np.identity(k_size)\n",
    "    kernel_r = np.repeat(kernel.reshape([1,1,k_size,k_size]), 3, axis=0)\n",
    "    print(\"kernel shape:\", kernel_r.shape)\n",
    "    result = conv.convolution(train_features_tmp, kernel_r)\n",
    "    print(\"result shape:\", result.shape)\n",
    "    fig = plt.figure(figsize=(7,7))\n",
    "    for i in range(nb):\n",
    "        plt.subplot(1,nb,i+1)\n",
    "        plt.imshow(result[i][0], cmap='gray', interpolation='none')\n",
    "        plt.title(\"kernel size: {}\".format(k_size))  \n",
    "        plt.tight_layout()\n",
    "        plt.xticks([])\n",
    "        plt.yticks([])\n"
   ]
  },
  {
   "cell_type": "markdown",
   "metadata": {},
   "source": [
    "# train CNN model"
   ]
  },
  {
   "cell_type": "code",
   "execution_count": 16,
   "metadata": {},
   "outputs": [],
   "source": [
    "nb = 1000\n",
    "batch_size = 100\n",
    "train_features_tmp, train_target_tmp = train_features_np.reshape([1000,1,14,14])[0:nb], train_target_np[0:nb]\n",
    "test_features_tmp, test_target_tmp = test_features_np.reshape([1000,1,14,14])[0:nb], test_target_np[0:nb]"
   ]
  },
  {
   "cell_type": "code",
   "execution_count": 21,
   "metadata": {},
   "outputs": [
    {
     "name": "stdout",
     "output_type": "stream",
     "text": [
      "train features shape: (1000, 1, 14, 14) \n",
      "train target shape: (1000,),      \n",
      "test features shape: (1000, 1, 14, 14),\n",
      "test target shape: (1000,)\n"
     ]
    }
   ],
   "source": [
    "print(\"train features shape: {} \\ntrain target shape: {},\\\n",
    "      \\ntest features shape: {},\\ntest target shape: {}\".format(train_features_tmp.shape, train_target_tmp.shape,\n",
    "                                                             test_features_tmp.shape, test_target_tmp.shape))"
   ]
  },
  {
   "cell_type": "code",
   "execution_count": 28,
   "metadata": {},
   "outputs": [
    {
     "name": "stdout",
     "output_type": "stream",
     "text": [
      "Model description: Linear in green, Activation in blue, Loss in magenta, Softmax in red, Flatten in Gray, Convolution in Cyan, Batch_normalization in Black\n",
      "\u001b[36m\tConvolution feature maps: 2, kernel size: (2, 1, 3, 3)\u001b[0m\n",
      "\u001b[34m\tLeakyReLU activation, a=0.01\u001b[0m\n",
      "\u001b[36m\tConvolution feature maps: 2, kernel size: (2, 2, 3, 3)\u001b[0m\n",
      "\u001b[34m\tLeakyReLU activation, a=0.01\u001b[0m\n",
      "\u001b[37m\tFlatten function\u001b[0m\n",
      "\u001b[39m\tBatch normalization function: a=1, b=0\u001b[0m\n",
      "\u001b[32m\tLinear layer shape: [200, 128]\u001b[0m\n",
      "\u001b[34m\tLeakyReLU activation, a=0.01\u001b[0m\n",
      "\u001b[39m\tBatch normalization function: a=1, b=0\u001b[0m\n",
      "\u001b[32m\tLinear layer shape: [128, 10]\u001b[0m\n",
      "\u001b[31m\tSoftmax function\u001b[0m\n",
      "\u001b[35m\tMSE\u001b[0m\n",
      "Before training: Epoch: 0, Train Error: 91.2000%,        Test Error: 90.8000%, Loss  0.0000\n",
      "Epoch: 1, Train Error: 30.5000%,        Test Error: 40.3000%, Loss  80.1151\n",
      "Epoch: 2, Train Error: 15.2000%,        Test Error: 27.2000%, Loss  35.6997\n",
      "Epoch: 3, Train Error: 10.5000%,        Test Error: 22.7000%, Loss  22.2842\n",
      "Epoch: 4, Train Error: 7.5000%,        Test Error: 20.7000%, Loss  16.0536\n",
      "Epoch: 5, Train Error: 5.1000%,        Test Error: 17.9000%, Loss  12.3299\n",
      "Epoch: 6, Train Error: 3.5000%,        Test Error: 17.1000%, Loss  9.7348\n",
      "Epoch: 7, Train Error: 3.2000%,        Test Error: 16.5000%, Loss  7.7442\n",
      "Epoch: 8, Train Error: 2.7000%,        Test Error: 16.3000%, Loss  6.3582\n",
      "Epoch: 9, Train Error: 2.3000%,        Test Error: 15.6000%, Loss  5.4211\n",
      "Epoch: 10, Train Error: 1.5000%,        Test Error: 15.6000%, Loss  4.7098\n",
      "\n",
      "Training time: 0:01:33.213551\n",
      "After training: Epoch: 9, Train Error: 1.5000%,        Test Error: 15.6000%, Loss  4.7098\n"
     ]
    }
   ],
   "source": [
    "# Build the model\n",
    "kernel_size = 3\n",
    "in_channels = 1\n",
    "out_channels = 2\n",
    "data_size = train_features_tmp.shape[2]\n",
    "out_first_conv = data_size - kernel_size + 1 - kernel_size + 1 \n",
    "\n",
    "# Build the model\n",
    "Model = NN.Sequential([NN.Convolution(in_channels=in_channels, out_channels=out_channels, kernel_size=kernel_size),\n",
    "                       NN.LeakyReLU(), NN.Convolution(in_channels=out_channels, out_channels=out_channels, kernel_size=kernel_size),\n",
    "                       NN.LeakyReLU(), NN.Flatten(), NN.Batch_normalization(),\n",
    "                       NN.Linear((out_first_conv**2)*out_channels, hidden_size), NN.LeakyReLU(), NN.Batch_normalization(),\n",
    "                       NN.Linear(hidden_size, num_class), NN.Softmax()], NN.LossMSE())\n",
    "# Set the learning rate\n",
    "Model.set_Lr(learning_rate)\n",
    "# Print model's parameters\n",
    "Model.print(print_color=True)\n",
    "\n",
    "NN.train_homemade_model(Model, 10, train_features_tmp, train_target_tmp, test_features_tmp, test_target_tmp, batch_size)"
   ]
  },
  {
   "cell_type": "code",
   "execution_count": null,
   "metadata": {},
   "outputs": [],
   "source": []
  },
  {
   "cell_type": "code",
   "execution_count": 28,
   "metadata": {},
   "outputs": [
    {
     "name": "stdout",
     "output_type": "stream",
     "text": [
      "Model description: Linear in green, Activation in blue, Loss in magenta, Softmax in red, Flatten in Gray, Convolution in Cyan, BatchNormalization in Black, MaxPooling2D in Yellow, AveragePooling2D in highlight\n",
      "\u001b[36m\tConvolution feature maps: 2, kernel size: (2, 1, 3, 3)\u001b[0m\n",
      "\u001b[34m\tLeakyReLU activation, a=0.01\u001b[0m\n",
      "\u001b[40m\tAverage Pooling layer\u001b[0m\n",
      "\u001b[36m\tConvolution feature maps: 2, kernel size: (2, 2, 3, 3)\u001b[0m\n",
      "\u001b[34m\tLeakyReLU activation, a=0.01\u001b[0m\n",
      "\u001b[37m\tFlatten function\u001b[0m\n",
      "\u001b[39m\tBatch normalization function: a=1, b=0\u001b[0m\n",
      "\u001b[32m\tLinear layer shape: [32, 128]\u001b[0m\n",
      "\u001b[34m\tLeakyReLU activation, a=0.01\u001b[0m\n",
      "\u001b[39m\tBatch normalization function: a=1, b=0\u001b[0m\n",
      "\u001b[32m\tLinear layer shape: [128, 10]\u001b[0m\n",
      "\u001b[31m\tSoftmax function\u001b[0m\n",
      "\u001b[35m\tMSE\u001b[0m\n",
      "Before training: Epoch: 0, Train Error: 93.1000%,        Test Error: 94.1000%, Loss  0.0000\n",
      "Epoch: 1, Train Error: 26.1000%,        Test Error: 32.0000%, Loss  75.1438\n",
      "Epoch: 2, Train Error: 20.1000%,        Test Error: 26.5000%, Loss  37.3854\n",
      "Epoch: 3, Train Error: 16.7000%,        Test Error: 23.8000%, Loss  28.6214\n",
      "Epoch: 4, Train Error: 15.5000%,        Test Error: 22.1000%, Loss  24.6171\n",
      "Epoch: 5, Train Error: 13.5000%,        Test Error: 20.7000%, Loss  22.0536\n",
      "Epoch: 6, Train Error: 13.3000%,        Test Error: 20.5000%, Loss  20.1456\n",
      "Epoch: 7, Train Error: 12.3000%,        Test Error: 19.5000%, Loss  18.5829\n",
      "Epoch: 8, Train Error: 11.7000%,        Test Error: 19.4000%, Loss  17.3571\n",
      "Epoch: 9, Train Error: 11.2000%,        Test Error: 19.1000%, Loss  16.3253\n",
      "Epoch: 10, Train Error: 11.3000%,        Test Error: 19.4000%, Loss  15.3713\n",
      "\n",
      "Training time: 0:02:03.608058\n",
      "After training: Epoch: 9, Train Error: 11.3000%,        Test Error: 19.4000%, Loss  15.3713\n"
     ]
    }
   ],
   "source": [
    "# Build the model\n",
    "kernel_size = 3\n",
    "in_channels = 1\n",
    "out_channels = 2\n",
    "data_size = train_features_tmp.shape[2]\n",
    "nb_maxpool = 1\n",
    "out_first_conv = (data_size - kernel_size + 1) // (2*nb_maxpool) - kernel_size + 1\n",
    "\n",
    "# Build the model\n",
    "Model = NN.Sequential([NN.Convolution(in_channels=in_channels, out_channels=out_channels, kernel_size=kernel_size),\n",
    "                       NN.LeakyReLU(), NN.MaxPooling2D(2),\n",
    "                       NN.Convolution(in_channels=out_channels, out_channels=out_channels, kernel_size=kernel_size),\n",
    "                       NN.LeakyReLU(), NN.Flatten(), NN.BatchNorm(),\n",
    "                       NN.Linear((out_first_conv**2)*out_channels, hidden_size), NN.LeakyReLU(), NN.BatchNorm(),\n",
    "                       NN.Linear(hidden_size, num_class), NN.Softmax()], NN.LossMSE())\n",
    "# Set the learning rate\n",
    "Model.set_Lr(learning_rate)\n",
    "# Print model's parameters\n",
    "Model.print(print_color=True)\n",
    "\n",
    "NN.train_homemade_model(Model, 10, train_features_tmp, train_target_tmp, test_features_tmp, test_target_tmp, batch_size)"
   ]
  },
  {
   "cell_type": "code",
   "execution_count": 43,
   "metadata": {},
   "outputs": [
    {
     "data": {
      "image/png": "[encoded data removed]",
      "text/plain": [
       "<Figure size 432x288 with 1 Axes>"
      ]
     },
     "metadata": {
      "needs_background": "light"
     },
     "output_type": "display_data"
    }
   ],
   "source": [
    "NN.learning_curves(Model)"
   ]
  },
  {
   "cell_type": "code",
   "execution_count": 21,
   "metadata": {},
   "outputs": [
    {
     "data": {
      "text/plain": [
       "27080"
      ]
     },
     "execution_count": 21,
     "metadata": {},
     "output_type": "execute_result"
    }
   ],
   "source": [
    "Model.getParametersCount()"
   ]
  },
  {
   "cell_type": "code",
   "execution_count": 29,
   "metadata": {},
   "outputs": [
    {
     "name": "stdout",
     "output_type": "stream",
     "text": [
      "Epoch: 0, Train Error: 1.5000%,        Test Error: 15.6000%, Loss  0.0000\n"
     ]
    }
   ],
   "source": [
    "NN.print_current_results(0, Model, train_features_tmp, train_target_tmp, test_features_tmp, test_target_tmp, 0)"
   ]
  },
  {
   "cell_type": "code",
   "execution_count": 30,
   "metadata": {},
   "outputs": [],
   "source": [
    "Model.save('model_cnn/')"
   ]
  },
  {
   "cell_type": "code",
   "execution_count": 31,
   "metadata": {},
   "outputs": [],
   "source": [
    "Model2 = NN.Sequential([NN.Convolution(in_channels=in_channels, out_channels=out_channels, kernel_size=kernel_size),\n",
    "                       NN.LeakyReLU(), NN.Convolution(in_channels=out_channels, out_channels=out_channels, kernel_size=kernel_size),\n",
    "                       NN.LeakyReLU(), NN.Flatten(), NN.Batch_normalization(),\n",
    "                       NN.Linear((out_first_conv**2)*out_channels, hidden_size), NN.LeakyReLU(), NN.Batch_normalization(),\n",
    "                       NN.Linear(hidden_size, num_class), NN.Softmax()], NN.LossMSE())"
   ]
  },
  {
   "cell_type": "code",
   "execution_count": 32,
   "metadata": {},
   "outputs": [],
   "source": [
    "Model2.load('model_cnn/')"
   ]
  },
  {
   "cell_type": "code",
   "execution_count": 33,
   "metadata": {},
   "outputs": [
    {
     "name": "stdout",
     "output_type": "stream",
     "text": [
      "Epoch: 0, Train Error: 1.5000%,        Test Error: 15.6000%, Loss  0.0000\n"
     ]
    }
   ],
   "source": [
    "NN.print_current_results(0, Model2, train_features_tmp, train_target_tmp, test_features_tmp, test_target_tmp, 0)"
   ]
  },
  {
   "cell_type": "markdown",
   "metadata": {},
   "source": [
    "# Forward pass: 1 channel data, 1 feature map"
   ]
  },
  {
   "cell_type": "code",
   "execution_count": 69,
   "metadata": {},
   "outputs": [
    {
     "data": {
      "text/plain": [
       "array([[ 1,  2,  3,  4],\n",
       "       [ 5,  6,  7,  8],\n",
       "       [ 9, 10, 11, 12],\n",
       "       [13, 14, 15, 16],\n",
       "       [13, 14, 15, 16],\n",
       "       [ 1,  2,  3,  4]])"
      ]
     },
     "execution_count": 69,
     "metadata": {},
     "output_type": "execute_result"
    }
   ],
   "source": [
    "x = np.array([[1,2,3,4], [5,6,7,8], [9,10,11,12], [13,14,15,16], [13,14,15,16], [1,2,3,4]])\n",
    "x"
   ]
  },
  {
   "cell_type": "code",
   "execution_count": 70,
   "metadata": {},
   "outputs": [
    {
     "data": {
      "text/plain": [
       "array([[1, 2, 3],\n",
       "       [4, 5, 6],\n",
       "       [7, 8, 9]])"
      ]
     },
     "execution_count": 70,
     "metadata": {},
     "output_type": "execute_result"
    }
   ],
   "source": [
    "kernel = np.array([[1,2,3], [4,5,6], [7,8,9]])\n",
    "kernel"
   ]
  },
  {
   "cell_type": "code",
   "execution_count": 71,
   "metadata": {},
   "outputs": [
    {
     "data": {
      "text/plain": [
       "285"
      ]
     },
     "execution_count": 71,
     "metadata": {},
     "output_type": "execute_result"
    }
   ],
   "source": [
    "np.matmul(kernel.reshape([np.prod(kernel.shape)]), kernel.reshape([np.prod(kernel.shape)]))"
   ]
  },
  {
   "cell_type": "code",
   "execution_count": 72,
   "metadata": {},
   "outputs": [
    {
     "data": {
      "text/plain": [
       "3"
      ]
     },
     "execution_count": 72,
     "metadata": {},
     "output_type": "execute_result"
    }
   ],
   "source": [
    "math.ceil(x.shape[0]/2)"
   ]
  },
  {
   "cell_type": "code",
   "execution_count": 73,
   "metadata": {},
   "outputs": [
    {
     "data": {
      "text/plain": [
       "array([[[ 1,  2,  3],\n",
       "        [ 5,  6,  7],\n",
       "        [ 9, 10, 11]],\n",
       "\n",
       "       [[ 2,  3,  4],\n",
       "        [ 6,  7,  8],\n",
       "        [10, 11, 12]],\n",
       "\n",
       "       [[ 5,  6,  7],\n",
       "        [ 9, 10, 11],\n",
       "        [13, 14, 15]],\n",
       "\n",
       "       [[ 6,  7,  8],\n",
       "        [10, 11, 12],\n",
       "        [14, 15, 16]],\n",
       "\n",
       "       [[ 9, 10, 11],\n",
       "        [13, 14, 15],\n",
       "        [13, 14, 15]],\n",
       "\n",
       "       [[10, 11, 12],\n",
       "        [14, 15, 16],\n",
       "        [14, 15, 16]],\n",
       "\n",
       "       [[13, 14, 15],\n",
       "        [13, 14, 15],\n",
       "        [ 1,  2,  3]],\n",
       "\n",
       "       [[14, 15, 16],\n",
       "        [14, 15, 16],\n",
       "        [ 2,  3,  4]]])"
      ]
     },
     "execution_count": 73,
     "metadata": {},
     "output_type": "execute_result"
    }
   ],
   "source": [
    "kernel_size = 3\n",
    "stride = 1\n",
    "\n",
    "patches = np.asarray([x[stride*j:stride*j+kernel.shape[0], stride*k:stride*k+kernel.shape[1]] \n",
    "                      for j in range(x.shape[0]-kernel.shape[0]+1)\n",
    "                      for k in range(x.shape[1]-kernel.shape[1]+1)])\n",
    "patches"
   ]
  },
  {
   "cell_type": "code",
   "execution_count": 74,
   "metadata": {},
   "outputs": [
    {
     "data": {
      "text/plain": [
       "array([[ 1,  2,  3,  5,  6,  7,  9, 10, 11],\n",
       "       [ 2,  3,  4,  6,  7,  8, 10, 11, 12],\n",
       "       [ 5,  6,  7,  9, 10, 11, 13, 14, 15],\n",
       "       [ 6,  7,  8, 10, 11, 12, 14, 15, 16],\n",
       "       [ 9, 10, 11, 13, 14, 15, 13, 14, 15],\n",
       "       [10, 11, 12, 14, 15, 16, 14, 15, 16],\n",
       "       [13, 14, 15, 13, 14, 15,  1,  2,  3],\n",
       "       [14, 15, 16, 14, 15, 16,  2,  3,  4]])"
      ]
     },
     "execution_count": 74,
     "metadata": {},
     "output_type": "execute_result"
    }
   ],
   "source": [
    "patches = patches.reshape([patches.shape[0], kernel.shape[0]*kernel.shape[1]])\n",
    "patches"
   ]
  },
  {
   "cell_type": "code",
   "execution_count": 75,
   "metadata": {},
   "outputs": [
    {
     "data": {
      "text/plain": [
       "array([[1, 2, 3, 4, 5, 6, 7, 8, 9],\n",
       "       [1, 2, 3, 4, 5, 6, 7, 8, 9],\n",
       "       [1, 2, 3, 4, 5, 6, 7, 8, 9],\n",
       "       [1, 2, 3, 4, 5, 6, 7, 8, 9],\n",
       "       [1, 2, 3, 4, 5, 6, 7, 8, 9],\n",
       "       [1, 2, 3, 4, 5, 6, 7, 8, 9],\n",
       "       [1, 2, 3, 4, 5, 6, 7, 8, 9],\n",
       "       [1, 2, 3, 4, 5, 6, 7, 8, 9]])"
      ]
     },
     "execution_count": 75,
     "metadata": {},
     "output_type": "execute_result"
    }
   ],
   "source": [
    "kernel_repeat = np.repeat(kernel.reshape([1, np.prod(kernel.shape)]), patches.shape[0], axis=0)\n",
    "kernel_repeat"
   ]
  },
  {
   "cell_type": "code",
   "execution_count": 76,
   "metadata": {},
   "outputs": [
    {
     "data": {
      "text/plain": [
       "array([348, 393, 528, 573, 612, 657, 348, 393])"
      ]
     },
     "execution_count": 76,
     "metadata": {},
     "output_type": "execute_result"
    }
   ],
   "source": [
    "result = np.asarray([np.matmul(kernel_repeat[i,:], patches[i,:]) for i in range(kernel_repeat.shape[0])])\n",
    "result"
   ]
  },
  {
   "cell_type": "code",
   "execution_count": 77,
   "metadata": {},
   "outputs": [
    {
     "data": {
      "text/plain": [
       "array([[348, 393],\n",
       "       [528, 573],\n",
       "       [612, 657],\n",
       "       [348, 393]])"
      ]
     },
     "execution_count": 77,
     "metadata": {},
     "output_type": "execute_result"
    }
   ],
   "source": [
    "result = result.reshape([x.shape[0]-kernel.shape[0]+1, x.shape[1]-kernel.shape[1]+1])\n",
    "result"
   ]
  },
  {
   "cell_type": "code",
   "execution_count": null,
   "metadata": {},
   "outputs": [],
   "source": []
  },
  {
   "cell_type": "code",
   "execution_count": 107,
   "metadata": {},
   "outputs": [
    {
     "data": {
      "text/plain": [
       "array([[348, 393],\n",
       "       [528, 573],\n",
       "       [612, 657],\n",
       "       [348, 393],\n",
       "       [168, 213],\n",
       "       [ 96, 141]])"
      ]
     },
     "execution_count": 107,
     "metadata": {},
     "output_type": "execute_result"
    }
   ],
   "source": [
    "x = np.array([[1,2,3,4], [5,6,7,8], [9,10,11,12], [13,14,15,16], [13,14,15,16], [1,2,3,4], [1,2,3,4], [1,2,3,4]])\n",
    "kernel = np.array([[1,2,3], [4,5,6], [7,8,9]])\n",
    "patches = np.asarray([x[stride*j:stride*j+kernel.shape[0], stride*k:stride*k+kernel.shape[1]] \n",
    "                      for j in range(x.shape[0]-kernel.shape[0]+1)\n",
    "                      for k in range(x.shape[1]-kernel.shape[1]+1)])\n",
    "patches = patches.reshape([patches.shape[0], kernel.shape[0]*kernel.shape[1]])\n",
    "kernel_repeat = np.repeat(kernel.reshape([1, np.prod(kernel.shape)]), patches.shape[0], axis=0)\n",
    "result = np.asarray([np.matmul(kernel_repeat[i,:], patches[i,:]) for i in range(kernel_repeat.shape[0])])\n",
    "result = result.reshape([x.shape[0]-kernel.shape[0]+1, x.shape[1]-kernel.shape[1]+1])\n",
    "result"
   ]
  },
  {
   "cell_type": "markdown",
   "metadata": {},
   "source": [
    "# Forward pass: 1 channel data, several feature maps"
   ]
  },
  {
   "cell_type": "code",
   "execution_count": 108,
   "metadata": {},
   "outputs": [
    {
     "data": {
      "text/plain": [
       "(2, 3, 3)"
      ]
     },
     "execution_count": 108,
     "metadata": {},
     "output_type": "execute_result"
    }
   ],
   "source": [
    "kernel = np.array([[[1,2,3], [4,5,6], [7,8,9]], [[10,20,30], [40,50,60], [70,80,90]]])\n",
    "kernel.shape"
   ]
  },
  {
   "cell_type": "code",
   "execution_count": 109,
   "metadata": {},
   "outputs": [
    {
     "data": {
      "text/plain": [
       "array([[[ 1,  2,  3],\n",
       "        [ 5,  6,  7],\n",
       "        [ 9, 10, 11]],\n",
       "\n",
       "       [[ 2,  3,  4],\n",
       "        [ 6,  7,  8],\n",
       "        [10, 11, 12]],\n",
       "\n",
       "       [[ 5,  6,  7],\n",
       "        [ 9, 10, 11],\n",
       "        [13, 14, 15]],\n",
       "\n",
       "       [[ 6,  7,  8],\n",
       "        [10, 11, 12],\n",
       "        [14, 15, 16]],\n",
       "\n",
       "       [[ 9, 10, 11],\n",
       "        [13, 14, 15],\n",
       "        [13, 14, 15]],\n",
       "\n",
       "       [[10, 11, 12],\n",
       "        [14, 15, 16],\n",
       "        [14, 15, 16]],\n",
       "\n",
       "       [[13, 14, 15],\n",
       "        [13, 14, 15],\n",
       "        [ 1,  2,  3]],\n",
       "\n",
       "       [[14, 15, 16],\n",
       "        [14, 15, 16],\n",
       "        [ 2,  3,  4]],\n",
       "\n",
       "       [[13, 14, 15],\n",
       "        [ 1,  2,  3],\n",
       "        [ 1,  2,  3]],\n",
       "\n",
       "       [[14, 15, 16],\n",
       "        [ 2,  3,  4],\n",
       "        [ 2,  3,  4]],\n",
       "\n",
       "       [[ 1,  2,  3],\n",
       "        [ 1,  2,  3],\n",
       "        [ 1,  2,  3]],\n",
       "\n",
       "       [[ 2,  3,  4],\n",
       "        [ 2,  3,  4],\n",
       "        [ 2,  3,  4]]])"
      ]
     },
     "execution_count": 109,
     "metadata": {},
     "output_type": "execute_result"
    }
   ],
   "source": [
    "depth = kernel.shape[0]\n",
    "k_height = kernel.shape[1]\n",
    "k_width = kernel.shape[2]\n",
    "\n",
    "patches = np.asarray([x[stride*j:stride*j+k_height, stride*k:stride*k+k_width] \n",
    "                      for j in range(x.shape[0]-k_height+1)\n",
    "                      for k in range(x.shape[1]-k_width+1)])\n",
    "patches"
   ]
  },
  {
   "cell_type": "code",
   "execution_count": 110,
   "metadata": {},
   "outputs": [
    {
     "data": {
      "text/plain": [
       "array([[ 1,  2,  3,  5,  6,  7,  9, 10, 11],\n",
       "       [ 2,  3,  4,  6,  7,  8, 10, 11, 12],\n",
       "       [ 5,  6,  7,  9, 10, 11, 13, 14, 15],\n",
       "       [ 6,  7,  8, 10, 11, 12, 14, 15, 16],\n",
       "       [ 9, 10, 11, 13, 14, 15, 13, 14, 15],\n",
       "       [10, 11, 12, 14, 15, 16, 14, 15, 16],\n",
       "       [13, 14, 15, 13, 14, 15,  1,  2,  3],\n",
       "       [14, 15, 16, 14, 15, 16,  2,  3,  4],\n",
       "       [13, 14, 15,  1,  2,  3,  1,  2,  3],\n",
       "       [14, 15, 16,  2,  3,  4,  2,  3,  4],\n",
       "       [ 1,  2,  3,  1,  2,  3,  1,  2,  3],\n",
       "       [ 2,  3,  4,  2,  3,  4,  2,  3,  4]])"
      ]
     },
     "execution_count": 110,
     "metadata": {},
     "output_type": "execute_result"
    }
   ],
   "source": [
    "patches = patches.reshape([patches.shape[0], k_height*k_width])\n",
    "patches"
   ]
  },
  {
   "cell_type": "code",
   "execution_count": 111,
   "metadata": {},
   "outputs": [
    {
     "data": {
      "text/plain": [
       "(2, 12, 9)"
      ]
     },
     "execution_count": 111,
     "metadata": {},
     "output_type": "execute_result"
    }
   ],
   "source": [
    "kernel_repeat = np.repeat(kernel.reshape([depth, 1, k_height*k_width]), patches.shape[0], axis=1)\n",
    "kernel_repeat.shape"
   ]
  },
  {
   "cell_type": "code",
   "execution_count": 112,
   "metadata": {},
   "outputs": [
    {
     "data": {
      "text/plain": [
       "array([[[ 1,  2,  3,  4,  5,  6,  7,  8,  9],\n",
       "        [ 1,  2,  3,  4,  5,  6,  7,  8,  9],\n",
       "        [ 1,  2,  3,  4,  5,  6,  7,  8,  9],\n",
       "        [ 1,  2,  3,  4,  5,  6,  7,  8,  9],\n",
       "        [ 1,  2,  3,  4,  5,  6,  7,  8,  9],\n",
       "        [ 1,  2,  3,  4,  5,  6,  7,  8,  9],\n",
       "        [ 1,  2,  3,  4,  5,  6,  7,  8,  9],\n",
       "        [ 1,  2,  3,  4,  5,  6,  7,  8,  9],\n",
       "        [ 1,  2,  3,  4,  5,  6,  7,  8,  9],\n",
       "        [ 1,  2,  3,  4,  5,  6,  7,  8,  9],\n",
       "        [ 1,  2,  3,  4,  5,  6,  7,  8,  9],\n",
       "        [ 1,  2,  3,  4,  5,  6,  7,  8,  9]],\n",
       "\n",
       "       [[10, 20, 30, 40, 50, 60, 70, 80, 90],\n",
       "        [10, 20, 30, 40, 50, 60, 70, 80, 90],\n",
       "        [10, 20, 30, 40, 50, 60, 70, 80, 90],\n",
       "        [10, 20, 30, 40, 50, 60, 70, 80, 90],\n",
       "        [10, 20, 30, 40, 50, 60, 70, 80, 90],\n",
       "        [10, 20, 30, 40, 50, 60, 70, 80, 90],\n",
       "        [10, 20, 30, 40, 50, 60, 70, 80, 90],\n",
       "        [10, 20, 30, 40, 50, 60, 70, 80, 90],\n",
       "        [10, 20, 30, 40, 50, 60, 70, 80, 90],\n",
       "        [10, 20, 30, 40, 50, 60, 70, 80, 90],\n",
       "        [10, 20, 30, 40, 50, 60, 70, 80, 90],\n",
       "        [10, 20, 30, 40, 50, 60, 70, 80, 90]]])"
      ]
     },
     "execution_count": 112,
     "metadata": {},
     "output_type": "execute_result"
    }
   ],
   "source": [
    "kernel_repeat"
   ]
  },
  {
   "cell_type": "code",
   "execution_count": 113,
   "metadata": {},
   "outputs": [
    {
     "data": {
      "text/plain": [
       "array([ 348,  393,  528,  573,  612,  657,  348,  393,  168,  213,   96,\n",
       "        141, 3480, 3930, 5280, 5730, 6120, 6570, 3480, 3930, 1680, 2130,\n",
       "        960, 1410])"
      ]
     },
     "execution_count": 113,
     "metadata": {},
     "output_type": "execute_result"
    }
   ],
   "source": [
    "result = np.asarray([np.matmul(kernel_repeat[i, j,:], patches[j,:]) for i in range(kernel_repeat.shape[0]) for j in range(kernel_repeat.shape[1])])\n",
    "result"
   ]
  },
  {
   "cell_type": "code",
   "execution_count": 114,
   "metadata": {},
   "outputs": [
    {
     "data": {
      "text/plain": [
       "array([[[ 348,  393],\n",
       "        [ 528,  573],\n",
       "        [ 612,  657],\n",
       "        [ 348,  393],\n",
       "        [ 168,  213],\n",
       "        [  96,  141]],\n",
       "\n",
       "       [[3480, 3930],\n",
       "        [5280, 5730],\n",
       "        [6120, 6570],\n",
       "        [3480, 3930],\n",
       "        [1680, 2130],\n",
       "        [ 960, 1410]]])"
      ]
     },
     "execution_count": 114,
     "metadata": {},
     "output_type": "execute_result"
    }
   ],
   "source": [
    "result = result.reshape([kernel_repeat.shape[0], x.shape[0]-k_height+1, x.shape[1]-k_width+1])\n",
    "result"
   ]
  },
  {
   "cell_type": "code",
   "execution_count": 115,
   "metadata": {},
   "outputs": [
    {
     "data": {
      "text/plain": [
       "(2, 6, 2)"
      ]
     },
     "execution_count": 115,
     "metadata": {},
     "output_type": "execute_result"
    }
   ],
   "source": [
    "result.shape"
   ]
  },
  {
   "cell_type": "markdown",
   "metadata": {},
   "source": [
    "# Forward pass: several channels input, several feature maps"
   ]
  },
  {
   "cell_type": "code",
   "execution_count": 64,
   "metadata": {},
   "outputs": [
    {
     "data": {
      "text/plain": [
       "(2, 4, 6, 4)"
      ]
     },
     "execution_count": 64,
     "metadata": {},
     "output_type": "execute_result"
    }
   ],
   "source": [
    "x = np.array([[[[1,2,3,4], [5,6,7,8], [9,10,11,12], [13,14,15,16], [13,14,15,16], [1,2,3,4]],\n",
    "              [[10,20,30,40], [50,60,70,80], [90,100,110,120], [130,140,150,160], [130,140,150,160], [10,20,30,40]],\n",
    "              [[100,200,300,400], [500,600,700,800], [900,1000,1100,1200], [1300,1400,1500,1600], [1300,1400,1500,1600], [100,200,300,400]],\n",
    "             [[1,2,3,4], [5,6,7,8], [9,10,11,12], [13,14,15,16], [13,14,15,16], [1,2,3,4]],\n",
    "              ],\n",
    "             [[[1,2,3,4], [5,6,7,8], [9,10,11,12], [13,14,15,16], [13,14,15,16], [1,2,3,4]],\n",
    "              [[10,20,30,40], [50,60,70,80], [90,100,110,120], [130,140,150,160], [130,140,150,160], [10,20,30,40]],\n",
    "              [[100,200,300,400], [500,600,700,800], [900,1000,1100,1200], [1300,1400,1500,1600], [1300,1400,1500,1600], [100,200,300,400]],\n",
    "             [[1,2,3,4], [5,6,7,8], [9,10,11,12], [13,14,15,16], [13,14,15,16], [1,2,3,4]],\n",
    "              ]])\n",
    "x.shape"
   ]
  },
  {
   "cell_type": "code",
   "execution_count": 65,
   "metadata": {},
   "outputs": [
    {
     "data": {
      "text/plain": [
       "array([[[[ 1000,     2,     3],\n",
       "         [    4,     5,     6],\n",
       "         [    7,     8,     9]],\n",
       "\n",
       "        [[10000,    20,    30],\n",
       "         [   40,    50,    60],\n",
       "         [   70,    80,    90]],\n",
       "\n",
       "        [[10000,    20,    30],\n",
       "         [   40,    50,    60],\n",
       "         [   70,    80,    90]],\n",
       "\n",
       "        [[10000,    20,    30],\n",
       "         [   40,    50,    60],\n",
       "         [   70,    80,    90]]],\n",
       "\n",
       "\n",
       "       [[[    1,     2,     3],\n",
       "         [    4,     5,     6],\n",
       "         [    7,     8,     9]],\n",
       "\n",
       "        [[   10,    20,    30],\n",
       "         [   40,    50,    60],\n",
       "         [   70,    80,    90]],\n",
       "\n",
       "        [[   10,    20,    30],\n",
       "         [   40,    50,    60],\n",
       "         [   70,    80,    90]],\n",
       "\n",
       "        [[   10,    20,    30],\n",
       "         [   40,    50,    60],\n",
       "         [   70,    80,    90]]]])"
      ]
     },
     "execution_count": 65,
     "metadata": {},
     "output_type": "execute_result"
    }
   ],
   "source": [
    "kernel = np.array([[[[1000,2,3], [4,5,6], [7,8,9]],\n",
    "                   [[10000,20,30], [40,50,60], [70,80,90]],\n",
    "                   [[10000,20,30], [40,50,60], [70,80,90]],\n",
    "                   [[10000,20,30], [40,50,60], [70,80,90]]],\n",
    "                   [[[1,2,3], [4,5,6], [7,8,9]],\n",
    "                   [[10,20,30], [40,50,60], [70,80,90]],\n",
    "                   [[10,20,30], [40,50,60], [70,80,90]],\n",
    "                   [[10,20,30], [40,50,60], [70,80,90]]]])\n",
    "kernel"
   ]
  },
  {
   "cell_type": "code",
   "execution_count": 66,
   "metadata": {},
   "outputs": [],
   "source": [
    "k_reshaped = np.ones([kernel.shape[1], kernel.shape[0], kernel.shape[2], kernel.shape[3]])"
   ]
  },
  {
   "cell_type": "code",
   "execution_count": 67,
   "metadata": {},
   "outputs": [
    {
     "data": {
      "text/plain": [
       "array([[[[9.e+00, 8.e+00, 7.e+00],\n",
       "         [6.e+00, 5.e+00, 4.e+00],\n",
       "         [3.e+00, 2.e+00, 1.e+03]],\n",
       "\n",
       "        [[9.e+00, 8.e+00, 7.e+00],\n",
       "         [6.e+00, 5.e+00, 4.e+00],\n",
       "         [3.e+00, 2.e+00, 1.e+00]]],\n",
       "\n",
       "\n",
       "       [[[9.e+01, 8.e+01, 7.e+01],\n",
       "         [6.e+01, 5.e+01, 4.e+01],\n",
       "         [3.e+01, 2.e+01, 1.e+04]],\n",
       "\n",
       "        [[9.e+01, 8.e+01, 7.e+01],\n",
       "         [6.e+01, 5.e+01, 4.e+01],\n",
       "         [3.e+01, 2.e+01, 1.e+01]]],\n",
       "\n",
       "\n",
       "       [[[9.e+01, 8.e+01, 7.e+01],\n",
       "         [6.e+01, 5.e+01, 4.e+01],\n",
       "         [3.e+01, 2.e+01, 1.e+04]],\n",
       "\n",
       "        [[9.e+01, 8.e+01, 7.e+01],\n",
       "         [6.e+01, 5.e+01, 4.e+01],\n",
       "         [3.e+01, 2.e+01, 1.e+01]]],\n",
       "\n",
       "\n",
       "       [[[9.e+01, 8.e+01, 7.e+01],\n",
       "         [6.e+01, 5.e+01, 4.e+01],\n",
       "         [3.e+01, 2.e+01, 1.e+04]],\n",
       "\n",
       "        [[9.e+01, 8.e+01, 7.e+01],\n",
       "         [6.e+01, 5.e+01, 4.e+01],\n",
       "         [3.e+01, 2.e+01, 1.e+01]]]])"
      ]
     },
     "execution_count": 67,
     "metadata": {},
     "output_type": "execute_result"
    }
   ],
   "source": [
    "k_reshaped = np.ones([kernel.shape[1], kernel.shape[0], kernel.shape[2], kernel.shape[3]])\n",
    "for i in range(kernel.shape[0]):\n",
    "    for j in range(kernel.shape[1]):\n",
    "        k_reshaped[j, i, :, :] = np.flip(kernel[i, j, :, :])\n",
    "k_reshaped"
   ]
  },
  {
   "cell_type": "code",
   "execution_count": 176,
   "metadata": {},
   "outputs": [],
   "source": [
    "x_depth = x.shape[0]\n",
    "x_height = x.shape[1]\n",
    "x_width = x.shape[2]\n",
    "\n",
    "k_output = kernel.shape[0]\n",
    "k_depth = kernel.shape[1]\n",
    "k_height = kernel.shape[2]\n",
    "k_width = kernel.shape[3]"
   ]
  },
  {
   "cell_type": "code",
   "execution_count": 177,
   "metadata": {},
   "outputs": [
    {
     "data": {
      "text/plain": [
       "(32, 3, 3)"
      ]
     },
     "execution_count": 177,
     "metadata": {},
     "output_type": "execute_result"
    }
   ],
   "source": [
    "patches = np.asarray([x[c, stride*j:stride*j+k_height, stride*k:stride*k+k_width] \n",
    "                      for c in range(x_depth)\n",
    "                      for j in range(x_height-k_height+1)\n",
    "                      for k in range(x_width-k_width+1)])\n",
    "patches.shape"
   ]
  },
  {
   "cell_type": "code",
   "execution_count": 178,
   "metadata": {},
   "outputs": [
    {
     "data": {
      "text/plain": [
       "(32, 3, 3)"
      ]
     },
     "execution_count": 178,
     "metadata": {},
     "output_type": "execute_result"
    }
   ],
   "source": [
    "patches.shape"
   ]
  },
  {
   "cell_type": "code",
   "execution_count": 179,
   "metadata": {},
   "outputs": [
    {
     "data": {
      "text/plain": [
       "array([[[   1,    2,    3,    5,    6,    7,    9,   10,   11],\n",
       "        [   2,    3,    4,    6,    7,    8,   10,   11,   12],\n",
       "        [   5,    6,    7,    9,   10,   11,   13,   14,   15],\n",
       "        [   6,    7,    8,   10,   11,   12,   14,   15,   16],\n",
       "        [   9,   10,   11,   13,   14,   15,   13,   14,   15],\n",
       "        [  10,   11,   12,   14,   15,   16,   14,   15,   16],\n",
       "        [  13,   14,   15,   13,   14,   15,    1,    2,    3],\n",
       "        [  14,   15,   16,   14,   15,   16,    2,    3,    4]],\n",
       "\n",
       "       [[  10,   20,   30,   50,   60,   70,   90,  100,  110],\n",
       "        [  20,   30,   40,   60,   70,   80,  100,  110,  120],\n",
       "        [  50,   60,   70,   90,  100,  110,  130,  140,  150],\n",
       "        [  60,   70,   80,  100,  110,  120,  140,  150,  160],\n",
       "        [  90,  100,  110,  130,  140,  150,  130,  140,  150],\n",
       "        [ 100,  110,  120,  140,  150,  160,  140,  150,  160],\n",
       "        [ 130,  140,  150,  130,  140,  150,   10,   20,   30],\n",
       "        [ 140,  150,  160,  140,  150,  160,   20,   30,   40]],\n",
       "\n",
       "       [[ 100,  200,  300,  500,  600,  700,  900, 1000, 1100],\n",
       "        [ 200,  300,  400,  600,  700,  800, 1000, 1100, 1200],\n",
       "        [ 500,  600,  700,  900, 1000, 1100, 1300, 1400, 1500],\n",
       "        [ 600,  700,  800, 1000, 1100, 1200, 1400, 1500, 1600],\n",
       "        [ 900, 1000, 1100, 1300, 1400, 1500, 1300, 1400, 1500],\n",
       "        [1000, 1100, 1200, 1400, 1500, 1600, 1400, 1500, 1600],\n",
       "        [1300, 1400, 1500, 1300, 1400, 1500,  100,  200,  300],\n",
       "        [1400, 1500, 1600, 1400, 1500, 1600,  200,  300,  400]],\n",
       "\n",
       "       [[   1,    2,    3,    5,    6,    7,    9,   10,   11],\n",
       "        [   2,    3,    4,    6,    7,    8,   10,   11,   12],\n",
       "        [   5,    6,    7,    9,   10,   11,   13,   14,   15],\n",
       "        [   6,    7,    8,   10,   11,   12,   14,   15,   16],\n",
       "        [   9,   10,   11,   13,   14,   15,   13,   14,   15],\n",
       "        [  10,   11,   12,   14,   15,   16,   14,   15,   16],\n",
       "        [  13,   14,   15,   13,   14,   15,    1,    2,    3],\n",
       "        [  14,   15,   16,   14,   15,   16,    2,    3,    4]]])"
      ]
     },
     "execution_count": 179,
     "metadata": {},
     "output_type": "execute_result"
    }
   ],
   "source": [
    "patches = patches.reshape([x_depth, patches.shape[0]//x_depth, k_height*k_width])\n",
    "patches"
   ]
  },
  {
   "cell_type": "code",
   "execution_count": 180,
   "metadata": {},
   "outputs": [
    {
     "data": {
      "text/plain": [
       "(4, 8, 9)"
      ]
     },
     "execution_count": 180,
     "metadata": {},
     "output_type": "execute_result"
    }
   ],
   "source": [
    "patches.shape"
   ]
  },
  {
   "cell_type": "code",
   "execution_count": 182,
   "metadata": {},
   "outputs": [
    {
     "data": {
      "text/plain": [
       "(2, 4, 8, 9)"
      ]
     },
     "execution_count": 182,
     "metadata": {},
     "output_type": "execute_result"
    }
   ],
   "source": [
    "kernel_repeat = np.repeat(kernel.reshape([k_channel, k_depth, 1, k_height*k_width]), patches.shape[1], axis=2)\n",
    "kernel_repeat.shape"
   ]
  },
  {
   "cell_type": "code",
   "execution_count": 187,
   "metadata": {},
   "outputs": [
    {
     "data": {
      "text/plain": [
       "array([   348,    393,    528,    573,   3480,   3930,   5280,   5730,\n",
       "         3480,   3930,   5280,   5730,  34800,  39300,  52800,  57300,\n",
       "        34800,  39300,  52800,  57300, 348000, 393000, 528000, 573000,\n",
       "          348,    393,    528,    573,   3480,   3930,   5280,   5730,\n",
       "          348,    393,    528,    573,   3480,   3930,   5280,   5730,\n",
       "         3480,   3930,   5280,   5730,  34800,  39300,  52800,  57300,\n",
       "        34800,  39300,  52800,  57300, 348000, 393000, 528000, 573000,\n",
       "          348,    393,    528,    573,   3480,   3930,   5280,   5730])"
      ]
     },
     "execution_count": 187,
     "metadata": {},
     "output_type": "execute_result"
    }
   ],
   "source": [
    "result = np.asarray([np.matmul(kernel_repeat[o, i, j,:], patches[c,j,:])\n",
    "                     for o in range(k_output)\n",
    "                     for c in range(patches.shape[0])\n",
    "                     for i in range(kernel_repeat.shape[0])\n",
    "                     for j in range(kernel_repeat.shape[1])])\n",
    "result"
   ]
  },
  {
   "cell_type": "code",
   "execution_count": 188,
   "metadata": {},
   "outputs": [
    {
     "data": {
      "text/plain": [
       "(64,)"
      ]
     },
     "execution_count": 188,
     "metadata": {},
     "output_type": "execute_result"
    }
   ],
   "source": [
    "result.shape"
   ]
  },
  {
   "cell_type": "code",
   "execution_count": 192,
   "metadata": {},
   "outputs": [
    {
     "data": {
      "text/plain": [
       "array([[[[   348,    393],\n",
       "         [   528,    573],\n",
       "         [  3480,   3930],\n",
       "         [  5280,   5730]],\n",
       "\n",
       "        [[  3480,   3930],\n",
       "         [  5280,   5730],\n",
       "         [ 34800,  39300],\n",
       "         [ 52800,  57300]],\n",
       "\n",
       "        [[ 34800,  39300],\n",
       "         [ 52800,  57300],\n",
       "         [348000, 393000],\n",
       "         [528000, 573000]],\n",
       "\n",
       "        [[   348,    393],\n",
       "         [   528,    573],\n",
       "         [  3480,   3930],\n",
       "         [  5280,   5730]]],\n",
       "\n",
       "\n",
       "       [[[   348,    393],\n",
       "         [   528,    573],\n",
       "         [  3480,   3930],\n",
       "         [  5280,   5730]],\n",
       "\n",
       "        [[  3480,   3930],\n",
       "         [  5280,   5730],\n",
       "         [ 34800,  39300],\n",
       "         [ 52800,  57300]],\n",
       "\n",
       "        [[ 34800,  39300],\n",
       "         [ 52800,  57300],\n",
       "         [348000, 393000],\n",
       "         [528000, 573000]],\n",
       "\n",
       "        [[   348,    393],\n",
       "         [   528,    573],\n",
       "         [  3480,   3930],\n",
       "         [  5280,   5730]]]])"
      ]
     },
     "execution_count": 192,
     "metadata": {},
     "output_type": "execute_result"
    }
   ],
   "source": [
    "result = result.reshape([kernel_repeat.shape[0], kernel_repeat.shape[1], x_height-k_height+1, x_width-k_width+1])\n",
    "result"
   ]
  },
  {
   "cell_type": "code",
   "execution_count": 193,
   "metadata": {},
   "outputs": [
    {
     "data": {
      "text/plain": [
       "(2, 4, 4, 2)"
      ]
     },
     "execution_count": 193,
     "metadata": {},
     "output_type": "execute_result"
    }
   ],
   "source": [
    "result.shape"
   ]
  },
  {
   "cell_type": "code",
   "execution_count": 197,
   "metadata": {},
   "outputs": [],
   "source": [
    "output = np.sum(result, axis=1)"
   ]
  },
  {
   "cell_type": "code",
   "execution_count": 198,
   "metadata": {},
   "outputs": [
    {
     "data": {
      "text/plain": [
       "(2, 4, 2)"
      ]
     },
     "execution_count": 198,
     "metadata": {},
     "output_type": "execute_result"
    }
   ],
   "source": [
    "output.shape"
   ]
  },
  {
   "cell_type": "markdown",
   "metadata": {},
   "source": [
    "# Final forward pass"
   ]
  },
  {
   "cell_type": "code",
   "execution_count": 37,
   "metadata": {},
   "outputs": [
    {
     "data": {
      "text/plain": [
       "(2, 5, 6, 5)"
      ]
     },
     "execution_count": 37,
     "metadata": {},
     "output_type": "execute_result"
    }
   ],
   "source": [
    "x = np.array([[[[1,2,3,4,5], [5,6,7,8,5], [9,10,11,12,5], [13,14,15,16,5], [13,14,15,16,5], [1,2,3,4,5]],\n",
    "              [[10,20,30,40,5], [50,60,70,80,5], [90,100,110,120,5], [130,140,150,160,5], [130,140,150,160,5], [10,20,30,40,5]],\n",
    "              [[100,200,300,400,5], [500,600,700,800,5], [900,1000,1100,1200,5], [1300,1400,1500,1600,5], [1300,1400,1500,1600,5], [100,200,300,400,5]],\n",
    "             [[1,2,3,4,5], [5,6,7,8,5], [9,10,11,12,5], [13,14,15,16,5], [13,14,15,16,5], [1,2,3,4,5]],\n",
    "             [[1,2,3,4,5], [5,6,7,8,5], [9,10,11,12,5], [13,14,15,16,5], [13,14,15,16,5], [1,2,3,4,5]],\n",
    "              ],\n",
    "             [[[1,2,3,4,5], [5,6,7,8,5], [9,10,11,12,5], [13,14,15,16,5], [13,14,15,16,5], [1,2,3,4,5]],\n",
    "              [[10,20,30,40,5], [50,60,70,80,5], [90,100,110,120,5], [130,140,150,160,5], [130,140,150,160,5], [10,20,30,40,5]],\n",
    "              [[100,200,300,400,5], [500,600,700,800,5], [900,1000,1100,1200,5], [1300,1400,1500,1600,5], [1300,1400,1500,1600,5], [100,200,300,400,5]],\n",
    "             [[1,2,3,4,5], [5,6,7,8,5], [9,10,11,12,5], [13,14,15,16,5], [13,14,15,16,5], [1,2,3,4,5]],\n",
    "             [[1,2,3,4,5], [5,6,7,8,5], [9,10,11,12,5], [13,14,15,16,5], [13,14,15,16,5], [1,2,3,4,5]],\n",
    "              ]])\n",
    "x.shape"
   ]
  },
  {
   "cell_type": "code",
   "execution_count": 38,
   "metadata": {},
   "outputs": [
    {
     "data": {
      "text/plain": [
       "(3, 5, 3, 3)"
      ]
     },
     "execution_count": 38,
     "metadata": {},
     "output_type": "execute_result"
    }
   ],
   "source": [
    "kernel = np.array([[[[1,2,3], [4,5,6], [7,8,9]],\n",
    "                   [[10,20,30], [40,50,60], [70,80,90]],\n",
    "                   [[10,20,30], [40,50,60], [70,80,90]],\n",
    "                   [[10,20,30], [40,50,60], [70,80,90]],\n",
    "                   [[10,20,30], [40,50,60], [70,80,90]]],\n",
    "                   [[[1,2,3], [4,5,6], [7,8,9]],\n",
    "                   [[10,20,30], [40,50,60], [70,80,90]],\n",
    "                   [[10,20,30], [40,50,60], [70,80,90]],\n",
    "                   [[10,20,30], [40,50,60], [70,80,90]],\n",
    "                   [[10,20,30], [40,50,60], [70,80,90]]],\n",
    "                   [[[1,2,3], [4,5,6], [7,8,9]],\n",
    "                   [[10,20,30], [40,50,60], [70,80,90]],\n",
    "                   [[10,20,30], [40,50,60], [70,80,90]],\n",
    "                   [[10,20,30], [40,50,60], [70,80,90]],\n",
    "                   [[10,20,30], [40,50,60], [70,80,90]]]])\n",
    "kernel.shape"
   ]
  },
  {
   "cell_type": "code",
   "execution_count": null,
   "metadata": {},
   "outputs": [],
   "source": []
  },
  {
   "cell_type": "code",
   "execution_count": 46,
   "metadata": {},
   "outputs": [
    {
     "data": {
      "text/plain": [
       "(3, 1)"
      ]
     },
     "execution_count": 46,
     "metadata": {},
     "output_type": "execute_result"
    }
   ],
   "source": [
    "bias = np.array([[1],[2],[3]])\n",
    "bias.shape"
   ]
  },
  {
   "cell_type": "code",
   "execution_count": 41,
   "metadata": {},
   "outputs": [],
   "source": [
    "def convolution(x, kernel):\n",
    "        N = x.shape[0]\n",
    "        in_channel = x.shape[1]\n",
    "        x_height = x.shape[2]\n",
    "        x_width = x.shape[3]\n",
    "\n",
    "        out_channel = kernel.shape[0]\n",
    "        in_channel = kernel.shape[1]\n",
    "        k_height = kernel.shape[2]\n",
    "        k_width = kernel.shape[3]\n",
    "        stride = 1\n",
    "\n",
    "        # print(\"x shape\", x.shape)\n",
    "        # print(\"kernel shape\", kernel.shape)\n",
    "\n",
    "        patches = np.asarray([x[n, c, stride*j:stride*j+k_height,\n",
    "                                stride*k:stride*k+k_width]\n",
    "                              for n in range(N)\n",
    "                              for c in range(in_channel)\n",
    "                              for j in range(x_height-k_height+1)\n",
    "                              for k in range(x_width-k_width+1)])\n",
    "        # print(\"patches shape\", patches.shape)\n",
    "        patches = patches.reshape([N, in_channel,\n",
    "                                   (x_height-k_height+1)*(x_width-k_width+1),\n",
    "                                   k_height*k_width])\n",
    "        # print(\"patches shape\", patches.shape)\n",
    "        kernel_repeat = np.repeat(kernel.reshape([out_channel, in_channel, 1,\n",
    "                                                  k_height*k_width]),\n",
    "                                  patches.shape[2], axis=2)\n",
    "        # print(\"kernel_repeat shape\", kernel_repeat.shape)\n",
    "        result = np.asarray([np.matmul(kernel_repeat[o, c, j, :],\n",
    "                                       patches[n, c, j, :])\n",
    "                             for n in range(N)\n",
    "                             for o in range(out_channel)\n",
    "                             for c in range(patches.shape[1])\n",
    "                             for j in range(patches.shape[2])])\n",
    "        # print(\"result shape\", result.shape)\n",
    "        result = result.reshape([N, kernel_repeat.shape[0],\n",
    "                                 kernel_repeat.shape[1],\n",
    "                                 x_height-k_height+1, x_width-k_width+1])\n",
    "        y = np.sum(result, axis=2)\n",
    "        # print(\"y shape\", y.shape)\n",
    "        return y"
   ]
  },
  {
   "cell_type": "code",
   "execution_count": 54,
   "metadata": {},
   "outputs": [
    {
     "name": "stdout",
     "output_type": "stream",
     "text": [
      "patches shape (120, 3, 3)\n",
      "patches shape (2, 5, 12, 9)\n",
      "kernel_repeat shape (3, 5, 12, 9)\n",
      "result shape (360,)\n",
      "y shape (2, 3, 4, 3)\n"
     ]
    }
   ],
   "source": [
    "N = x.shape[0]\n",
    "in_channel = x.shape[1]\n",
    "x_height = x.shape[2]\n",
    "x_width = x.shape[3]\n",
    "\n",
    "out_channel = kernel.shape[0]\n",
    "in_channel = kernel.shape[1]\n",
    "k_height = kernel.shape[2]\n",
    "k_width = kernel.shape[3]\n",
    "stride=1\n",
    "\n",
    "patches = np.asarray([x[n, c, stride*j:stride*j+k_height, stride*k:stride*k+k_width] \n",
    "                      for n in range(N)\n",
    "                      for c in range(in_channel)\n",
    "                      for j in range(x_height-k_height+1)\n",
    "                      for k in range(x_width-k_width+1)])\n",
    "print(\"patches shape\", patches.shape)\n",
    "patches = patches.reshape([N, in_channel, (x_height-k_height+1)*(x_width-k_width+1), k_height*k_width])\n",
    "print(\"patches shape\", patches.shape)\n",
    "kernel_repeat = np.repeat(kernel.reshape([out_channel, in_channel, 1, k_height*k_width]), patches.shape[2], axis=2)\n",
    "print(\"kernel_repeat shape\", kernel_repeat.shape)\n",
    "result = np.asarray([np.matmul(kernel_repeat[o, c, j,:], patches[n, c, j,:])\n",
    "                     for n in range(N)\n",
    "                     for o in range(out_channel)\n",
    "                     for c in range(patches.shape[1])\n",
    "                     for j in range(patches.shape[2])])\n",
    "print(\"result shape\", result.shape)\n",
    "result = result.reshape([N, kernel_repeat.shape[0], kernel_repeat.shape[1], x_height-k_height+1, x_width-k_width+1])\n",
    "y = np.sum(result, axis=2)\n",
    "y_ = np.array([y[n,:,:,:] + bias.reshape([3,1,1]) for n in range(y.shape[0])])\n",
    "print(\"y shape\", y.shape)"
   ]
  },
  {
   "cell_type": "markdown",
   "metadata": {},
   "source": [
    "# Backward pass convolution"
   ]
  },
  {
   "cell_type": "code",
   "execution_count": 3,
   "metadata": {},
   "outputs": [
    {
     "data": {
      "text/plain": [
       "(3, 3, 3)"
      ]
     },
     "execution_count": 3,
     "metadata": {},
     "output_type": "execute_result"
    }
   ],
   "source": [
    "kernel_test = np.array([[[1,2,3], [4,5,6], [7,8,9]],[[1,2,3], [4,5,6], [7,8,9]],[[1,2,3], [4,5,6], [7,8,9]]])\n",
    "kernel_test.shape"
   ]
  },
  {
   "cell_type": "code",
   "execution_count": 4,
   "metadata": {},
   "outputs": [
    {
     "data": {
      "text/plain": [
       "array([[[1, 2, 3],\n",
       "        [4, 5, 6],\n",
       "        [7, 8, 9]],\n",
       "\n",
       "       [[1, 2, 3],\n",
       "        [4, 5, 6],\n",
       "        [7, 8, 9]],\n",
       "\n",
       "       [[1, 2, 3],\n",
       "        [4, 5, 6],\n",
       "        [7, 8, 9]]])"
      ]
     },
     "execution_count": 4,
     "metadata": {},
     "output_type": "execute_result"
    }
   ],
   "source": [
    "kernel_test"
   ]
  },
  {
   "cell_type": "code",
   "execution_count": 44,
   "metadata": {},
   "outputs": [
    {
     "data": {
      "text/plain": [
       "array([[[9, 8, 7],\n",
       "        [6, 5, 4],\n",
       "        [3, 2, 1]],\n",
       "\n",
       "       [[9, 8, 7],\n",
       "        [6, 5, 4],\n",
       "        [3, 2, 1]],\n",
       "\n",
       "       [[9, 8, 7],\n",
       "        [6, 5, 4],\n",
       "        [3, 2, 1]]])"
      ]
     },
     "execution_count": 44,
     "metadata": {},
     "output_type": "execute_result"
    }
   ],
   "source": [
    "np.flip(kernel_test)"
   ]
  },
  {
   "cell_type": "code",
   "execution_count": 51,
   "metadata": {},
   "outputs": [
    {
     "data": {
      "text/plain": [
       "(3, 4, 5)"
      ]
     },
     "execution_count": 51,
     "metadata": {},
     "output_type": "execute_result"
    }
   ],
   "source": [
    "x_test = np.array([[[1,2,3,4,5], [4,5,6,4,5], [7,8,9,4,5], [7,8,9,4,5]],\n",
    "              [[1,2,3,4,5], [4,5,6,4,5], [7,8,9,4,5], [7,8,9,4,5]],\n",
    "              [[1,2,3,4,5], [4,5,6,4,5], [7,8,9,4,5], [7,8,9,4,5]]])\n",
    "x_test.shape"
   ]
  },
  {
   "cell_type": "code",
   "execution_count": 63,
   "metadata": {},
   "outputs": [
    {
     "data": {
      "text/plain": [
       "(3, 3, 3)"
      ]
     },
     "execution_count": 63,
     "metadata": {},
     "output_type": "execute_result"
    }
   ],
   "source": [
    "kernel_test.shape"
   ]
  },
  {
   "cell_type": "code",
   "execution_count": 70,
   "metadata": {},
   "outputs": [
    {
     "data": {
      "text/plain": [
       "(3, 2, 3)"
      ]
     },
     "execution_count": 70,
     "metadata": {},
     "output_type": "execute_result"
    }
   ],
   "source": [
    "output_test = np.array([[[1,2,5], [4,4,5]],\n",
    "              [[1,4,5], [4,5,5]],\n",
    "              [[1,2,5], [4,5,5]]])\n",
    "output_test.shape"
   ]
  },
  {
   "cell_type": "code",
   "execution_count": 61,
   "metadata": {},
   "outputs": [
    {
     "data": {
      "text/plain": [
       "array([3, 2, 3])"
      ]
     },
     "execution_count": 61,
     "metadata": {},
     "output_type": "execute_result"
    }
   ],
   "source": [
    "output_size = np.array([x.shape[0], x_test.shape[1]-kernel_test.shape[1]+1, x_test.shape[2]-kernel_test.shape[2]+1])\n",
    "output_size"
   ]
  },
  {
   "cell_type": "code",
   "execution_count": 62,
   "metadata": {},
   "outputs": [
    {
     "data": {
      "text/plain": [
       "array([3, 4, 5])"
      ]
     },
     "execution_count": 62,
     "metadata": {},
     "output_type": "execute_result"
    }
   ],
   "source": [
    "reshape_x = np.array([output_size[0], output_size[1]+kernel_test.shape[1]-1, output_size[2]+kernel_test.shape[2]-1])\n",
    "reshape_x"
   ]
  },
  {
   "cell_type": "code",
   "execution_count": 95,
   "metadata": {},
   "outputs": [
    {
     "data": {
      "text/plain": [
       "(2, 2)"
      ]
     },
     "execution_count": 95,
     "metadata": {},
     "output_type": "execute_result"
    }
   ],
   "source": [
    "padding = (kernel_test.shape[1]-1, kernel_test.shape[2]-1)\n",
    "padding"
   ]
  },
  {
   "cell_type": "code",
   "execution_count": 96,
   "metadata": {},
   "outputs": [
    {
     "data": {
      "text/plain": [
       "(3, 6, 7)"
      ]
     },
     "execution_count": 96,
     "metadata": {},
     "output_type": "execute_result"
    }
   ],
   "source": [
    "output_pad = np.array([np.pad(output_test[i, :, :], [padding, padding], mode='constant', constant_values=0) for i in range(output_test.shape[0])])\n",
    "output_pad.shape"
   ]
  },
  {
   "cell_type": "code",
   "execution_count": 97,
   "metadata": {},
   "outputs": [
    {
     "data": {
      "text/plain": [
       "array([[[0, 0, 0, 0, 0, 0, 0],\n",
       "        [0, 0, 0, 0, 0, 0, 0],\n",
       "        [0, 0, 1, 2, 5, 0, 0],\n",
       "        [0, 0, 4, 4, 5, 0, 0],\n",
       "        [0, 0, 0, 0, 0, 0, 0],\n",
       "        [0, 0, 0, 0, 0, 0, 0]],\n",
       "\n",
       "       [[0, 0, 0, 0, 0, 0, 0],\n",
       "        [0, 0, 0, 0, 0, 0, 0],\n",
       "        [0, 0, 1, 4, 5, 0, 0],\n",
       "        [0, 0, 4, 5, 5, 0, 0],\n",
       "        [0, 0, 0, 0, 0, 0, 0],\n",
       "        [0, 0, 0, 0, 0, 0, 0]],\n",
       "\n",
       "       [[0, 0, 0, 0, 0, 0, 0],\n",
       "        [0, 0, 0, 0, 0, 0, 0],\n",
       "        [0, 0, 1, 2, 5, 0, 0],\n",
       "        [0, 0, 4, 5, 5, 0, 0],\n",
       "        [0, 0, 0, 0, 0, 0, 0],\n",
       "        [0, 0, 0, 0, 0, 0, 0]]])"
      ]
     },
     "execution_count": 97,
     "metadata": {},
     "output_type": "execute_result"
    }
   ],
   "source": [
    "output_pad"
   ]
  },
  {
   "cell_type": "markdown",
   "metadata": {},
   "source": [
    "# max pooling"
   ]
  },
  {
   "cell_type": "code",
   "execution_count": 15,
   "metadata": {},
   "outputs": [
    {
     "data": {
      "text/plain": [
       "array([[[[   1,    2,    3,    4,    5],\n",
       "         [   5,    6,    7,    8,    5],\n",
       "         [   9,   10,   11,   12,    5],\n",
       "         [  13,   14,   15,   16,    5],\n",
       "         [  13,   14,   15,   16,    5],\n",
       "         [   1,    2,    3,    4,    5]],\n",
       "\n",
       "        [[  10,   20,   30,   40,    5],\n",
       "         [  50,   60,   70,   80,    5],\n",
       "         [  90,  100,  110,  120,    5],\n",
       "         [ 130,  140,  150,  160,    5],\n",
       "         [ 130,  140,  150,  160,    5],\n",
       "         [  10,   20,   30,   40,    5]],\n",
       "\n",
       "        [[ 100,  200,  300,  400,    5],\n",
       "         [ 500,  600,  700,  800,    5],\n",
       "         [ 900, 1000, 1100, 1200,    5],\n",
       "         [1300, 1400, 1500, 1600,    5],\n",
       "         [1300, 1400, 1500, 1600,    5],\n",
       "         [ 100,  200,  300,  400,    5]],\n",
       "\n",
       "        [[   1,    2,    3,    4,    5],\n",
       "         [   5,    6,    7,    8,    5],\n",
       "         [   9,   10,   11,   12,    5],\n",
       "         [  13,   14,   15,   16,    5],\n",
       "         [  13,   14,   15,   16,    5],\n",
       "         [   1,    2,    3,    4,    5]],\n",
       "\n",
       "        [[   1,    2,    3,    4,    5],\n",
       "         [   5,    6,    7,    8,    5],\n",
       "         [   9,   10,   11,   12,    5],\n",
       "         [  13,   14,   15,   16,    5],\n",
       "         [  13,   14,   15,   16,    5],\n",
       "         [   1,    2,    3,    4,    5]]],\n",
       "\n",
       "\n",
       "       [[[   1,    2,    3,    4,    5],\n",
       "         [   5,    6,    7,    8,    5],\n",
       "         [   9,   10,   11,   12,    5],\n",
       "         [  13,   14,   15,   16,    5],\n",
       "         [  13,   14,   15,   16,    5],\n",
       "         [   1,    2,    3,    4,    5]],\n",
       "\n",
       "        [[  10,   20,   30,   40,    5],\n",
       "         [  50,   60,   70,   80,    5],\n",
       "         [  90,  100,  110,  120,    5],\n",
       "         [ 130,  140,  150,  160,    5],\n",
       "         [ 130,  140,  150,  160,    5],\n",
       "         [  10,   20,   30,   40,    5]],\n",
       "\n",
       "        [[1000,  200,  300,  400,    5],\n",
       "         [ 500,  600,  700,  800,    5],\n",
       "         [ 900, 1000, 1100, 1200,    5],\n",
       "         [1300, 1400, 1500, 1600,    5],\n",
       "         [1300, 1400, 1500, 1600,    5],\n",
       "         [ 100,  200,  300,  400,    5]],\n",
       "\n",
       "        [[   1,    2,    3,    4,    5],\n",
       "         [   5,    6,    7,    8,    5],\n",
       "         [   9,   10,   11,   12,    5],\n",
       "         [  13,   14,   15,   16,    5],\n",
       "         [  13,   14,   15,   16,    5],\n",
       "         [   1,    2,    3,    4,  500]],\n",
       "\n",
       "        [[  10,    2,    3,    4,    5],\n",
       "         [   5,    6,    7,    8,    5],\n",
       "         [   9,   10,   11,   12,    5],\n",
       "         [  13,   14,   15,   16,    5],\n",
       "         [  13,   14,   15,   16,    5],\n",
       "         [   1,    2,    3,    4,    5]]]])"
      ]
     },
     "execution_count": 15,
     "metadata": {},
     "output_type": "execute_result"
    }
   ],
   "source": [
    "x = np.array([[[[1,2,3,4,5], [5,6,7,8,5], [9,10,11,12,5], [13,14,15,16,5], [13,14,15,16,5], [1,2,3,4,5]],\n",
    "              [[10,20,30,40,5], [50,60,70,80,5], [90,100,110,120,5], [130,140,150,160,5], [130,140,150,160,5], [10,20,30,40,5]],\n",
    "              [[100,200,300,400,5], [500,600,700,800,5], [900,1000,1100,1200,5], [1300,1400,1500,1600,5], [1300,1400,1500,1600,5], [100,200,300,400,5]],\n",
    "             [[1,2,3,4,5], [5,6,7,8,5], [9,10,11,12,5], [13,14,15,16,5], [13,14,15,16,5], [1,2,3,4,5]],\n",
    "             [[1,2,3,4,5], [5,6,7,8,5], [9,10,11,12,5], [13,14,15,16,5], [13,14,15,16,5], [1,2,3,4,5]],\n",
    "              ],\n",
    "             [[[1,2,3,4,5], [5,6,7,8,5], [9,10,11,12,5], [13,14,15,16,5], [13,14,15,16,5], [1,2,3,4,5]],\n",
    "              [[10,20,30,40,5], [50,60,70,80,5], [90,100,110,120,5], [130,140,150,160,5], [130,140,150,160,5], [10,20,30,40,5]],\n",
    "              [[1000,200,300,400,5], [500,600,700,800,5], [900,1000,1100,1200,5], [1300,1400,1500,1600,5], [1300,1400,1500,1600,5], [100,200,300,400,5]],\n",
    "             [[1,2,3,4,5], [5,6,7,8,5], [9,10,11,12,5], [13,14,15,16,5], [13,14,15,16,5], [1,2,3,4,500]],\n",
    "             [[10,2,3,4,5], [5,6,7,8,5], [9,10,11,12,5], [13,14,15,16,5], [13,14,15,16,5], [1,2,3,4,5]],\n",
    "              ]])\n",
    "x"
   ]
  },
  {
   "cell_type": "code",
   "execution_count": 19,
   "metadata": {},
   "outputs": [
    {
     "data": {
      "text/plain": [
       "(2, 5, 6, 6)"
      ]
     },
     "execution_count": 19,
     "metadata": {},
     "output_type": "execute_result"
    }
   ],
   "source": [
    "x_shape_origin = x.shape\n",
    "x_height = x.shape[2]\n",
    "x_width = x.shape[3]\n",
    "\n",
    "k_height = 2\n",
    "k_width = 2\n",
    "stride = 2\n",
    "\n",
    "npad = ((0, 0), (0, 0), (0, x_height%2),(0, x_width%2))\n",
    "x = np.pad(x, pad_width=npad, mode='constant', constant_values=0)\n",
    "\n",
    "x_n = x.shape[0]\n",
    "x_depth = x.shape[1]\n",
    "x_height = x.shape[2]\n",
    "x_width = x.shape[3]\n",
    "\n",
    "x.shape"
   ]
  },
  {
   "cell_type": "markdown",
   "metadata": {},
   "source": [
    "### forward pass"
   ]
  },
  {
   "cell_type": "code",
   "execution_count": 20,
   "metadata": {},
   "outputs": [
    {
     "name": "stdout",
     "output_type": "stream",
     "text": [
      "[[[[0. 0. 0. 0. 1.]\n",
      "   [0. 1. 0. 1. 0.]\n",
      "   [0. 0. 0. 0. 1.]\n",
      "   [0. 1. 0. 1. 0.]\n",
      "   [0. 1. 0. 1. 1.]\n",
      "   [0. 0. 0. 0. 0.]]\n",
      "\n",
      "  [[0. 0. 0. 0. 1.]\n",
      "   [0. 1. 0. 1. 0.]\n",
      "   [0. 0. 0. 0. 1.]\n",
      "   [0. 1. 0. 1. 0.]\n",
      "   [0. 1. 0. 1. 1.]\n",
      "   [0. 0. 0. 0. 0.]]\n",
      "\n",
      "  [[0. 0. 0. 0. 1.]\n",
      "   [0. 1. 0. 1. 0.]\n",
      "   [0. 0. 0. 0. 1.]\n",
      "   [0. 1. 0. 1. 0.]\n",
      "   [0. 1. 0. 1. 1.]\n",
      "   [0. 0. 0. 0. 0.]]\n",
      "\n",
      "  [[0. 0. 0. 0. 1.]\n",
      "   [0. 1. 0. 1. 0.]\n",
      "   [0. 0. 0. 0. 1.]\n",
      "   [0. 1. 0. 1. 0.]\n",
      "   [0. 1. 0. 1. 1.]\n",
      "   [0. 0. 0. 0. 0.]]\n",
      "\n",
      "  [[0. 0. 0. 0. 1.]\n",
      "   [0. 1. 0. 1. 0.]\n",
      "   [0. 0. 0. 0. 1.]\n",
      "   [0. 1. 0. 1. 0.]\n",
      "   [0. 1. 0. 1. 1.]\n",
      "   [0. 0. 0. 0. 0.]]]\n",
      "\n",
      "\n",
      " [[[0. 0. 0. 0. 1.]\n",
      "   [0. 1. 0. 1. 0.]\n",
      "   [0. 0. 0. 0. 1.]\n",
      "   [0. 1. 0. 1. 0.]\n",
      "   [0. 1. 0. 1. 1.]\n",
      "   [0. 0. 0. 0. 0.]]\n",
      "\n",
      "  [[0. 0. 0. 0. 1.]\n",
      "   [0. 1. 0. 1. 0.]\n",
      "   [0. 0. 0. 0. 1.]\n",
      "   [0. 1. 0. 1. 0.]\n",
      "   [0. 1. 0. 1. 1.]\n",
      "   [0. 0. 0. 0. 0.]]\n",
      "\n",
      "  [[1. 0. 0. 0. 1.]\n",
      "   [0. 0. 0. 1. 0.]\n",
      "   [0. 0. 0. 0. 1.]\n",
      "   [0. 1. 0. 1. 0.]\n",
      "   [0. 1. 0. 1. 1.]\n",
      "   [0. 0. 0. 0. 0.]]\n",
      "\n",
      "  [[0. 0. 0. 0. 1.]\n",
      "   [0. 1. 0. 1. 0.]\n",
      "   [0. 0. 0. 0. 1.]\n",
      "   [0. 1. 0. 1. 0.]\n",
      "   [0. 1. 0. 1. 0.]\n",
      "   [0. 0. 0. 0. 1.]]\n",
      "\n",
      "  [[1. 0. 0. 0. 1.]\n",
      "   [0. 0. 0. 1. 0.]\n",
      "   [0. 0. 0. 0. 1.]\n",
      "   [0. 1. 0. 1. 0.]\n",
      "   [0. 1. 0. 1. 1.]\n",
      "   [0. 0. 0. 0. 0.]]]]\n",
      "[[[[   6.    8.    5.]\n",
      "   [  14.   16.    5.]\n",
      "   [  14.   16.    5.]]\n",
      "\n",
      "  [[  60.   80.    5.]\n",
      "   [ 140.  160.    5.]\n",
      "   [ 140.  160.    5.]]\n",
      "\n",
      "  [[ 600.  800.    5.]\n",
      "   [1400. 1600.    5.]\n",
      "   [1400. 1600.    5.]]\n",
      "\n",
      "  [[   6.    8.    5.]\n",
      "   [  14.   16.    5.]\n",
      "   [  14.   16.    5.]]\n",
      "\n",
      "  [[   6.    8.    5.]\n",
      "   [  14.   16.    5.]\n",
      "   [  14.   16.    5.]]]\n",
      "\n",
      "\n",
      " [[[   6.    8.    5.]\n",
      "   [  14.   16.    5.]\n",
      "   [  14.   16.    5.]]\n",
      "\n",
      "  [[  60.   80.    5.]\n",
      "   [ 140.  160.    5.]\n",
      "   [ 140.  160.    5.]]\n",
      "\n",
      "  [[1000.  800.    5.]\n",
      "   [1400. 1600.    5.]\n",
      "   [1400. 1600.    5.]]\n",
      "\n",
      "  [[   6.    8.    5.]\n",
      "   [  14.   16.    5.]\n",
      "   [  14.   16.  500.]]\n",
      "\n",
      "  [[  10.    8.    5.]\n",
      "   [  14.   16.    5.]\n",
      "   [  14.   16.    5.]]]]\n",
      "(2, 5, 3, 3)\n"
     ]
    }
   ],
   "source": [
    "x_max_idx = np.zeros(x_shape_origin)\n",
    "out = np.zeros([x_n, x_depth, int(x_height/stride), int(x_width/stride)])\n",
    "x_max_idx.shape\n",
    "for n in range(x_n):\n",
    "    for c in range(x_depth):\n",
    "        for j in range(int(x_height/stride)):\n",
    "            for k in range(int(x_width/stride)):\n",
    "                idx_max = np.argmax(x[n, c, stride*j:stride*j+k_height, stride*k:stride*k+k_width])\n",
    "                idx = [int(idx_max > 1) + stride*j, int(idx_max == 1 or idx_max == 3) + stride*k]\n",
    "                x_max_idx[n, c, idx[0], idx[1]] = 1\n",
    "                out[n, c, j, k] = x[n, c, idx[0], idx[1]]\n",
    "print(x_max_idx)\n",
    "print(out)\n",
    "print(out.shape)"
   ]
  },
  {
   "cell_type": "code",
   "execution_count": 16,
   "metadata": {},
   "outputs": [],
   "source": [
    "mpool = NN.Max_Pooling(2)"
   ]
  },
  {
   "cell_type": "code",
   "execution_count": 17,
   "metadata": {},
   "outputs": [
    {
     "data": {
      "text/plain": [
       "array([[[[   6.,    8.,    5.],\n",
       "         [  14.,   16.,    5.],\n",
       "         [  14.,   16.,    5.]],\n",
       "\n",
       "        [[  60.,   80.,    5.],\n",
       "         [ 140.,  160.,    5.],\n",
       "         [ 140.,  160.,    5.]],\n",
       "\n",
       "        [[ 600.,  800.,    5.],\n",
       "         [1400., 1600.,    5.],\n",
       "         [1400., 1600.,    5.]],\n",
       "\n",
       "        [[   6.,    8.,    5.],\n",
       "         [  14.,   16.,    5.],\n",
       "         [  14.,   16.,    5.]],\n",
       "\n",
       "        [[   6.,    8.,    5.],\n",
       "         [  14.,   16.,    5.],\n",
       "         [  14.,   16.,    5.]]],\n",
       "\n",
       "\n",
       "       [[[   6.,    8.,    5.],\n",
       "         [  14.,   16.,    5.],\n",
       "         [  14.,   16.,    5.]],\n",
       "\n",
       "        [[  60.,   80.,    5.],\n",
       "         [ 140.,  160.,    5.],\n",
       "         [ 140.,  160.,    5.]],\n",
       "\n",
       "        [[1000.,  800.,    5.],\n",
       "         [1400., 1600.,    5.],\n",
       "         [1400., 1600.,    5.]],\n",
       "\n",
       "        [[   6.,    8.,    5.],\n",
       "         [  14.,   16.,    5.],\n",
       "         [  14.,   16.,  500.]],\n",
       "\n",
       "        [[  10.,    8.,    5.],\n",
       "         [  14.,   16.,    5.],\n",
       "         [  14.,   16.,    5.]]]])"
      ]
     },
     "execution_count": 17,
     "metadata": {},
     "output_type": "execute_result"
    }
   ],
   "source": [
    "mpool.forward(x)"
   ]
  },
  {
   "cell_type": "code",
   "execution_count": 18,
   "metadata": {},
   "outputs": [
    {
     "data": {
      "text/plain": [
       "array([[[[0., 0., 0., 0., 1.],\n",
       "         [0., 1., 0., 1., 0.],\n",
       "         [0., 0., 0., 0., 1.],\n",
       "         [0., 1., 0., 1., 0.],\n",
       "         [0., 1., 0., 1., 1.],\n",
       "         [0., 0., 0., 0., 0.]],\n",
       "\n",
       "        [[0., 0., 0., 0., 1.],\n",
       "         [0., 1., 0., 1., 0.],\n",
       "         [0., 0., 0., 0., 1.],\n",
       "         [0., 1., 0., 1., 0.],\n",
       "         [0., 1., 0., 1., 1.],\n",
       "         [0., 0., 0., 0., 0.]],\n",
       "\n",
       "        [[0., 0., 0., 0., 1.],\n",
       "         [0., 1., 0., 1., 0.],\n",
       "         [0., 0., 0., 0., 1.],\n",
       "         [0., 1., 0., 1., 0.],\n",
       "         [0., 1., 0., 1., 1.],\n",
       "         [0., 0., 0., 0., 0.]],\n",
       "\n",
       "        [[0., 0., 0., 0., 1.],\n",
       "         [0., 1., 0., 1., 0.],\n",
       "         [0., 0., 0., 0., 1.],\n",
       "         [0., 1., 0., 1., 0.],\n",
       "         [0., 1., 0., 1., 1.],\n",
       "         [0., 0., 0., 0., 0.]],\n",
       "\n",
       "        [[0., 0., 0., 0., 1.],\n",
       "         [0., 1., 0., 1., 0.],\n",
       "         [0., 0., 0., 0., 1.],\n",
       "         [0., 1., 0., 1., 0.],\n",
       "         [0., 1., 0., 1., 1.],\n",
       "         [0., 0., 0., 0., 0.]]],\n",
       "\n",
       "\n",
       "       [[[0., 0., 0., 0., 1.],\n",
       "         [0., 1., 0., 1., 0.],\n",
       "         [0., 0., 0., 0., 1.],\n",
       "         [0., 1., 0., 1., 0.],\n",
       "         [0., 1., 0., 1., 1.],\n",
       "         [0., 0., 0., 0., 0.]],\n",
       "\n",
       "        [[0., 0., 0., 0., 1.],\n",
       "         [0., 1., 0., 1., 0.],\n",
       "         [0., 0., 0., 0., 1.],\n",
       "         [0., 1., 0., 1., 0.],\n",
       "         [0., 1., 0., 1., 1.],\n",
       "         [0., 0., 0., 0., 0.]],\n",
       "\n",
       "        [[1., 0., 0., 0., 1.],\n",
       "         [0., 0., 0., 1., 0.],\n",
       "         [0., 0., 0., 0., 1.],\n",
       "         [0., 1., 0., 1., 0.],\n",
       "         [0., 1., 0., 1., 1.],\n",
       "         [0., 0., 0., 0., 0.]],\n",
       "\n",
       "        [[0., 0., 0., 0., 1.],\n",
       "         [0., 1., 0., 1., 0.],\n",
       "         [0., 0., 0., 0., 1.],\n",
       "         [0., 1., 0., 1., 0.],\n",
       "         [0., 1., 0., 1., 0.],\n",
       "         [0., 0., 0., 0., 1.]],\n",
       "\n",
       "        [[1., 0., 0., 0., 1.],\n",
       "         [0., 0., 0., 1., 0.],\n",
       "         [0., 0., 0., 0., 1.],\n",
       "         [0., 1., 0., 1., 0.],\n",
       "         [0., 1., 0., 1., 1.],\n",
       "         [0., 0., 0., 0., 0.]]]])"
      ]
     },
     "execution_count": 18,
     "metadata": {},
     "output_type": "execute_result"
    }
   ],
   "source": [
    "mpool.x_max_idx"
   ]
  },
  {
   "cell_type": "markdown",
   "metadata": {},
   "source": [
    "### backward pass"
   ]
  },
  {
   "cell_type": "code",
   "execution_count": 17,
   "metadata": {},
   "outputs": [
    {
     "data": {
      "text/plain": [
       "array([[[[   0.,    0.,    0.,    0.,    5.],\n",
       "         [   0.,    6.,    0.,    8.,    0.],\n",
       "         [   0.,    0.,    0.,    0.,    5.],\n",
       "         [   0.,   14.,    0.,   16.,    0.],\n",
       "         [   0.,   14.,    0.,   16.,    5.],\n",
       "         [   0.,    0.,    0.,    0.,    0.]],\n",
       "\n",
       "        [[   0.,    0.,    0.,    0.,    5.],\n",
       "         [   0.,   60.,    0.,   80.,    0.],\n",
       "         [   0.,    0.,    0.,    0.,    5.],\n",
       "         [   0.,  140.,    0.,  160.,    0.],\n",
       "         [   0.,  140.,    0.,  160.,    5.],\n",
       "         [   0.,    0.,    0.,    0.,    0.]],\n",
       "\n",
       "        [[   0.,    0.,    0.,    0.,    5.],\n",
       "         [   0.,  600.,    0.,  800.,    0.],\n",
       "         [   0.,    0.,    0.,    0.,    5.],\n",
       "         [   0., 1400.,    0., 1600.,    0.],\n",
       "         [   0., 1400.,    0., 1600.,    5.],\n",
       "         [   0.,    0.,    0.,    0.,    0.]],\n",
       "\n",
       "        [[   0.,    0.,    0.,    0.,    5.],\n",
       "         [   0.,    6.,    0.,    8.,    0.],\n",
       "         [   0.,    0.,    0.,    0.,    5.],\n",
       "         [   0.,   14.,    0.,   16.,    0.],\n",
       "         [   0.,   14.,    0.,   16.,    5.],\n",
       "         [   0.,    0.,    0.,    0.,    0.]],\n",
       "\n",
       "        [[   0.,    0.,    0.,    0.,    5.],\n",
       "         [   0.,    6.,    0.,    8.,    0.],\n",
       "         [   0.,    0.,    0.,    0.,    5.],\n",
       "         [   0.,   14.,    0.,   16.,    0.],\n",
       "         [   0.,   14.,    0.,   16.,    5.],\n",
       "         [   0.,    0.,    0.,    0.,    0.]]],\n",
       "\n",
       "\n",
       "       [[[   0.,    0.,    0.,    0.,    5.],\n",
       "         [   0.,    6.,    0.,    8.,    0.],\n",
       "         [   0.,    0.,    0.,    0.,    5.],\n",
       "         [   0.,   14.,    0.,   16.,    0.],\n",
       "         [   0.,   14.,    0.,   16.,    5.],\n",
       "         [   0.,    0.,    0.,    0.,    0.]],\n",
       "\n",
       "        [[   0.,    0.,    0.,    0.,    5.],\n",
       "         [   0.,   60.,    0.,   80.,    0.],\n",
       "         [   0.,    0.,    0.,    0.,    5.],\n",
       "         [   0.,  140.,    0.,  160.,    0.],\n",
       "         [   0.,  140.,    0.,  160.,    5.],\n",
       "         [   0.,    0.,    0.,    0.,    0.]],\n",
       "\n",
       "        [[1000.,    0.,    0.,    0.,    5.],\n",
       "         [   0.,    0.,    0.,  800.,    0.],\n",
       "         [   0.,    0.,    0.,    0.,    5.],\n",
       "         [   0., 1400.,    0., 1600.,    0.],\n",
       "         [   0., 1400.,    0., 1600.,    5.],\n",
       "         [   0.,    0.,    0.,    0.,    0.]],\n",
       "\n",
       "        [[   0.,    0.,    0.,    0.,    5.],\n",
       "         [   0.,    6.,    0.,    8.,    0.],\n",
       "         [   0.,    0.,    0.,    0.,    5.],\n",
       "         [   0.,   14.,    0.,   16.,    0.],\n",
       "         [   0.,   14.,    0.,   16.,    0.],\n",
       "         [   0.,    0.,    0.,    0.,  500.]],\n",
       "\n",
       "        [[  10.,    0.,    0.,    0.,    5.],\n",
       "         [   0.,    0.,    0.,    8.,    0.],\n",
       "         [   0.,    0.,    0.,    0.,    5.],\n",
       "         [   0.,   14.,    0.,   16.,    0.],\n",
       "         [   0.,   14.,    0.,   16.,    5.],\n",
       "         [   0.,    0.,    0.,    0.,    0.]]]])"
      ]
     },
     "execution_count": 17,
     "metadata": {},
     "output_type": "execute_result"
    }
   ],
   "source": [
    "dout = np.zeros(x_shape_origin)\n",
    "x_n = x_shape_origin[0]\n",
    "x_depth = x_shape_origin[1]\n",
    "x_height = x_shape_origin[2]\n",
    "x_width = x_shape_origin[3]\n",
    "\n",
    "for n in range(x_n):\n",
    "    for c in range(x_depth):\n",
    "        for j in range(int(x_height)):\n",
    "            for k in range(int(x_width)):\n",
    "                dout[n, c, j, k] = x_max_idx[n, c, j, k] * out[n, c, j//stride, k//stride]\n",
    "dout"
   ]
  },
  {
   "cell_type": "code",
   "execution_count": 21,
   "metadata": {},
   "outputs": [
    {
     "data": {
      "text/plain": [
       "array([[[[   0.,    0.,    0.,    0.,    5.],\n",
       "         [   0.,    6.,    0.,    8.,    0.],\n",
       "         [   0.,    0.,    0.,    0.,    5.],\n",
       "         [   0.,   14.,    0.,   16.,    0.],\n",
       "         [   0.,   14.,    0.,   16.,    5.],\n",
       "         [   0.,    0.,    0.,    0.,    0.]],\n",
       "\n",
       "        [[   0.,    0.,    0.,    0.,    5.],\n",
       "         [   0.,   60.,    0.,   80.,    0.],\n",
       "         [   0.,    0.,    0.,    0.,    5.],\n",
       "         [   0.,  140.,    0.,  160.,    0.],\n",
       "         [   0.,  140.,    0.,  160.,    5.],\n",
       "         [   0.,    0.,    0.,    0.,    0.]],\n",
       "\n",
       "        [[   0.,    0.,    0.,    0.,    5.],\n",
       "         [   0.,  600.,    0.,  800.,    0.],\n",
       "         [   0.,    0.,    0.,    0.,    5.],\n",
       "         [   0., 1400.,    0., 1600.,    0.],\n",
       "         [   0., 1400.,    0., 1600.,    5.],\n",
       "         [   0.,    0.,    0.,    0.,    0.]],\n",
       "\n",
       "        [[   0.,    0.,    0.,    0.,    5.],\n",
       "         [   0.,    6.,    0.,    8.,    0.],\n",
       "         [   0.,    0.,    0.,    0.,    5.],\n",
       "         [   0.,   14.,    0.,   16.,    0.],\n",
       "         [   0.,   14.,    0.,   16.,    5.],\n",
       "         [   0.,    0.,    0.,    0.,    0.]],\n",
       "\n",
       "        [[   0.,    0.,    0.,    0.,    5.],\n",
       "         [   0.,    6.,    0.,    8.,    0.],\n",
       "         [   0.,    0.,    0.,    0.,    5.],\n",
       "         [   0.,   14.,    0.,   16.,    0.],\n",
       "         [   0.,   14.,    0.,   16.,    5.],\n",
       "         [   0.,    0.,    0.,    0.,    0.]]],\n",
       "\n",
       "\n",
       "       [[[   0.,    0.,    0.,    0.,    5.],\n",
       "         [   0.,    6.,    0.,    8.,    0.],\n",
       "         [   0.,    0.,    0.,    0.,    5.],\n",
       "         [   0.,   14.,    0.,   16.,    0.],\n",
       "         [   0.,   14.,    0.,   16.,    5.],\n",
       "         [   0.,    0.,    0.,    0.,    0.]],\n",
       "\n",
       "        [[   0.,    0.,    0.,    0.,    5.],\n",
       "         [   0.,   60.,    0.,   80.,    0.],\n",
       "         [   0.,    0.,    0.,    0.,    5.],\n",
       "         [   0.,  140.,    0.,  160.,    0.],\n",
       "         [   0.,  140.,    0.,  160.,    5.],\n",
       "         [   0.,    0.,    0.,    0.,    0.]],\n",
       "\n",
       "        [[1000.,    0.,    0.,    0.,    5.],\n",
       "         [   0.,    0.,    0.,  800.,    0.],\n",
       "         [   0.,    0.,    0.,    0.,    5.],\n",
       "         [   0., 1400.,    0., 1600.,    0.],\n",
       "         [   0., 1400.,    0., 1600.,    5.],\n",
       "         [   0.,    0.,    0.,    0.,    0.]],\n",
       "\n",
       "        [[   0.,    0.,    0.,    0.,    5.],\n",
       "         [   0.,    6.,    0.,    8.,    0.],\n",
       "         [   0.,    0.,    0.,    0.,    5.],\n",
       "         [   0.,   14.,    0.,   16.,    0.],\n",
       "         [   0.,   14.,    0.,   16.,    0.],\n",
       "         [   0.,    0.,    0.,    0.,  500.]],\n",
       "\n",
       "        [[  10.,    0.,    0.,    0.,    5.],\n",
       "         [   0.,    0.,    0.,    8.,    0.],\n",
       "         [   0.,    0.,    0.,    0.,    5.],\n",
       "         [   0.,   14.,    0.,   16.,    0.],\n",
       "         [   0.,   14.,    0.,   16.,    5.],\n",
       "         [   0.,    0.,    0.,    0.,    0.]]]])"
      ]
     },
     "execution_count": 21,
     "metadata": {},
     "output_type": "execute_result"
    }
   ],
   "source": [
    "mpool.backward(out)"
   ]
  },
  {
   "cell_type": "code",
   "execution_count": null,
   "metadata": {},
   "outputs": [],
   "source": []
  },
  {
   "cell_type": "code",
   "execution_count": 12,
   "metadata": {},
   "outputs": [
    {
     "data": {
      "text/plain": [
       "(2, 5, 6, 5)"
      ]
     },
     "execution_count": 12,
     "metadata": {},
     "output_type": "execute_result"
    }
   ],
   "source": [
    "dout.shape"
   ]
  },
  {
   "cell_type": "markdown",
   "metadata": {},
   "source": [
    "# Mean pooling"
   ]
  },
  {
   "cell_type": "code",
   "execution_count": 2,
   "metadata": {},
   "outputs": [
    {
     "data": {
      "text/plain": [
       "array([[[[   1,    2,    3,    4,    5],\n",
       "         [   5,    6,    7,    8,    5],\n",
       "         [   9,   10,   11,   12,    5],\n",
       "         [  13,   14,   15,   16,    5],\n",
       "         [  13,   14,   15,   16,    5],\n",
       "         [   1,    2,    3,    4,    5]],\n",
       "\n",
       "        [[  10,   20,   30,   40,    5],\n",
       "         [  50,   60,   70,   80,    5],\n",
       "         [  90,  100,  110,  120,    5],\n",
       "         [ 130,  140,  150,  160,    5],\n",
       "         [ 130,  140,  150,  160,    5],\n",
       "         [  10,   20,   30,   40,    5]],\n",
       "\n",
       "        [[ 100,  200,  300,  400,    5],\n",
       "         [ 500,  600,  700,  800,    5],\n",
       "         [ 900, 1000, 1100, 1200,    5],\n",
       "         [1300, 1400, 1500, 1600,    5],\n",
       "         [1300, 1400, 1500, 1600,    5],\n",
       "         [ 100,  200,  300,  400,    5]],\n",
       "\n",
       "        [[   1,    2,    3,    4,    5],\n",
       "         [   5,    6,    7,    8,    5],\n",
       "         [   9,   10,   11,   12,    5],\n",
       "         [  13,   14,   15,   16,    5],\n",
       "         [  13,   14,   15,   16,    5],\n",
       "         [   1,    2,    3,    4,    5]],\n",
       "\n",
       "        [[   1,    2,    3,    4,    5],\n",
       "         [   5,    6,    7,    8,    5],\n",
       "         [   9,   10,   11,   12,    5],\n",
       "         [  13,   14,   15,   16,    5],\n",
       "         [  13,   14,   15,   16,    5],\n",
       "         [   1,    2,    3,    4,    5]]],\n",
       "\n",
       "\n",
       "       [[[   1,    2,    3,    4,    5],\n",
       "         [   5,    6,    7,    8,    5],\n",
       "         [   9,   10,   11,   12,    5],\n",
       "         [  13,   14,   15,   16,    5],\n",
       "         [  13,   14,   15,   16,    5],\n",
       "         [   1,    2,    3,    4,    5]],\n",
       "\n",
       "        [[  10,   20,   30,   40,    5],\n",
       "         [  50,   60,   70,   80,    5],\n",
       "         [  90,  100,  110,  120,    5],\n",
       "         [ 130,  140,  150,  160,    5],\n",
       "         [ 130,  140,  150,  160,    5],\n",
       "         [  10,   20,   30,   40,    5]],\n",
       "\n",
       "        [[1000,  200,  300,  400,    5],\n",
       "         [ 500,  600,  700,  800,    5],\n",
       "         [ 900, 1000, 1100, 1200,    5],\n",
       "         [1300, 1400, 1500, 1600,    5],\n",
       "         [1300, 1400, 1500, 1600,    5],\n",
       "         [ 100,  200,  300,  400,    5]],\n",
       "\n",
       "        [[   1,    2,    3,    4,    5],\n",
       "         [   5,    6,    7,    8,    5],\n",
       "         [   9,   10,   11,   12,    5],\n",
       "         [  13,   14,   15,   16,    5],\n",
       "         [  13,   14,   15,   16,    5],\n",
       "         [   1,    2,    3,    4,  500]],\n",
       "\n",
       "        [[  10,    2,    3,    4,    5],\n",
       "         [   5,    6,    7,    8,    5],\n",
       "         [   9,   10,   11,   12,    5],\n",
       "         [  13,   14,   15,   16,    5],\n",
       "         [  13,   14,   15,   16,    5],\n",
       "         [   1,    2,    3,    4,    5]]]])"
      ]
     },
     "execution_count": 2,
     "metadata": {},
     "output_type": "execute_result"
    }
   ],
   "source": [
    "x = np.array([[[[1,2,3,4,5], [5,6,7,8,5], [9,10,11,12,5], [13,14,15,16,5], [13,14,15,16,5], [1,2,3,4,5]],\n",
    "              [[10,20,30,40,5], [50,60,70,80,5], [90,100,110,120,5], [130,140,150,160,5], [130,140,150,160,5], [10,20,30,40,5]],\n",
    "              [[100,200,300,400,5], [500,600,700,800,5], [900,1000,1100,1200,5], [1300,1400,1500,1600,5], [1300,1400,1500,1600,5], [100,200,300,400,5]],\n",
    "             [[1,2,3,4,5], [5,6,7,8,5], [9,10,11,12,5], [13,14,15,16,5], [13,14,15,16,5], [1,2,3,4,5]],\n",
    "             [[1,2,3,4,5], [5,6,7,8,5], [9,10,11,12,5], [13,14,15,16,5], [13,14,15,16,5], [1,2,3,4,5]],\n",
    "              ],\n",
    "             [[[1,2,3,4,5], [5,6,7,8,5], [9,10,11,12,5], [13,14,15,16,5], [13,14,15,16,5], [1,2,3,4,5]],\n",
    "              [[10,20,30,40,5], [50,60,70,80,5], [90,100,110,120,5], [130,140,150,160,5], [130,140,150,160,5], [10,20,30,40,5]],\n",
    "              [[1000,200,300,400,5], [500,600,700,800,5], [900,1000,1100,1200,5], [1300,1400,1500,1600,5], [1300,1400,1500,1600,5], [100,200,300,400,5]],\n",
    "             [[1,2,3,4,5], [5,6,7,8,5], [9,10,11,12,5], [13,14,15,16,5], [13,14,15,16,5], [1,2,3,4,500]],\n",
    "             [[10,2,3,4,5], [5,6,7,8,5], [9,10,11,12,5], [13,14,15,16,5], [13,14,15,16,5], [1,2,3,4,5]],\n",
    "              ]])\n",
    "x"
   ]
  },
  {
   "cell_type": "markdown",
   "metadata": {},
   "source": [
    "# forward pass"
   ]
  },
  {
   "cell_type": "code",
   "execution_count": 3,
   "metadata": {},
   "outputs": [
    {
     "data": {
      "text/plain": [
       "(2, 5, 6, 6)"
      ]
     },
     "execution_count": 3,
     "metadata": {},
     "output_type": "execute_result"
    }
   ],
   "source": [
    "x_shape_origin = x.shape\n",
    "x_height = x.shape[2]\n",
    "x_width = x.shape[3]\n",
    "\n",
    "k_height = 2\n",
    "k_width = 2\n",
    "stride = 2\n",
    "\n",
    "npad = ((0, 0), (0, 0), (0, x_height%2),(0, x_width%2))\n",
    "x = np.pad(x, pad_width=npad, mode='constant', constant_values=0)\n",
    "\n",
    "x_n = x.shape[0]\n",
    "x_depth = x.shape[1]\n",
    "x_height = x.shape[2]\n",
    "x_width = x.shape[3]\n",
    "\n",
    "x.shape"
   ]
  },
  {
   "cell_type": "code",
   "execution_count": 4,
   "metadata": {},
   "outputs": [
    {
     "name": "stdout",
     "output_type": "stream",
     "text": [
      "[[[[   3.5     5.5     2.5 ]\n",
      "   [  11.5    13.5     2.5 ]\n",
      "   [   7.5     9.5     2.5 ]]\n",
      "\n",
      "  [[  35.     55.      2.5 ]\n",
      "   [ 115.    135.      2.5 ]\n",
      "   [  75.     95.      2.5 ]]\n",
      "\n",
      "  [[ 350.    550.      2.5 ]\n",
      "   [1150.   1350.      2.5 ]\n",
      "   [ 750.    950.      2.5 ]]\n",
      "\n",
      "  [[   3.5     5.5     2.5 ]\n",
      "   [  11.5    13.5     2.5 ]\n",
      "   [   7.5     9.5     2.5 ]]\n",
      "\n",
      "  [[   3.5     5.5     2.5 ]\n",
      "   [  11.5    13.5     2.5 ]\n",
      "   [   7.5     9.5     2.5 ]]]\n",
      "\n",
      "\n",
      " [[[   3.5     5.5     2.5 ]\n",
      "   [  11.5    13.5     2.5 ]\n",
      "   [   7.5     9.5     2.5 ]]\n",
      "\n",
      "  [[  35.     55.      2.5 ]\n",
      "   [ 115.    135.      2.5 ]\n",
      "   [  75.     95.      2.5 ]]\n",
      "\n",
      "  [[ 575.    550.      2.5 ]\n",
      "   [1150.   1350.      2.5 ]\n",
      "   [ 750.    950.      2.5 ]]\n",
      "\n",
      "  [[   3.5     5.5     2.5 ]\n",
      "   [  11.5    13.5     2.5 ]\n",
      "   [   7.5     9.5   126.25]]\n",
      "\n",
      "  [[   5.75    5.5     2.5 ]\n",
      "   [  11.5    13.5     2.5 ]\n",
      "   [   7.5     9.5     2.5 ]]]]\n",
      "(2, 5, 3, 3)\n"
     ]
    }
   ],
   "source": [
    "out = np.zeros([x_n, x_depth, int(x_height/stride), int(x_width/stride)])\n",
    "for n in range(x_n):\n",
    "    for c in range(x_depth):\n",
    "        for j in range(int(x_height/stride)):\n",
    "            for k in range(int(x_width/stride)):\n",
    "                out[n, c, j, k] = np.mean(x[n, c, stride*j:stride*j+k_height, stride*k:stride*k+k_width])\n",
    "print(out)\n",
    "print(out.shape)"
   ]
  },
  {
   "cell_type": "markdown",
   "metadata": {},
   "source": [
    "# backward pass"
   ]
  },
  {
   "cell_type": "code",
   "execution_count": 5,
   "metadata": {},
   "outputs": [
    {
     "data": {
      "text/plain": [
       "array([[[[  0.875 ,   0.875 ,   1.375 ,   1.375 ,   0.625 ],\n",
       "         [  0.875 ,   0.875 ,   1.375 ,   1.375 ,   0.625 ],\n",
       "         [  2.875 ,   2.875 ,   3.375 ,   3.375 ,   0.625 ],\n",
       "         [  2.875 ,   2.875 ,   3.375 ,   3.375 ,   0.625 ],\n",
       "         [  1.875 ,   1.875 ,   2.375 ,   2.375 ,   0.625 ],\n",
       "         [  1.875 ,   1.875 ,   2.375 ,   2.375 ,   0.625 ]],\n",
       "\n",
       "        [[  8.75  ,   8.75  ,  13.75  ,  13.75  ,   0.625 ],\n",
       "         [  8.75  ,   8.75  ,  13.75  ,  13.75  ,   0.625 ],\n",
       "         [ 28.75  ,  28.75  ,  33.75  ,  33.75  ,   0.625 ],\n",
       "         [ 28.75  ,  28.75  ,  33.75  ,  33.75  ,   0.625 ],\n",
       "         [ 18.75  ,  18.75  ,  23.75  ,  23.75  ,   0.625 ],\n",
       "         [ 18.75  ,  18.75  ,  23.75  ,  23.75  ,   0.625 ]],\n",
       "\n",
       "        [[ 87.5   ,  87.5   , 137.5   , 137.5   ,   0.625 ],\n",
       "         [ 87.5   ,  87.5   , 137.5   , 137.5   ,   0.625 ],\n",
       "         [287.5   , 287.5   , 337.5   , 337.5   ,   0.625 ],\n",
       "         [287.5   , 287.5   , 337.5   , 337.5   ,   0.625 ],\n",
       "         [187.5   , 187.5   , 237.5   , 237.5   ,   0.625 ],\n",
       "         [187.5   , 187.5   , 237.5   , 237.5   ,   0.625 ]],\n",
       "\n",
       "        [[  0.875 ,   0.875 ,   1.375 ,   1.375 ,   0.625 ],\n",
       "         [  0.875 ,   0.875 ,   1.375 ,   1.375 ,   0.625 ],\n",
       "         [  2.875 ,   2.875 ,   3.375 ,   3.375 ,   0.625 ],\n",
       "         [  2.875 ,   2.875 ,   3.375 ,   3.375 ,   0.625 ],\n",
       "         [  1.875 ,   1.875 ,   2.375 ,   2.375 ,   0.625 ],\n",
       "         [  1.875 ,   1.875 ,   2.375 ,   2.375 ,   0.625 ]],\n",
       "\n",
       "        [[  0.875 ,   0.875 ,   1.375 ,   1.375 ,   0.625 ],\n",
       "         [  0.875 ,   0.875 ,   1.375 ,   1.375 ,   0.625 ],\n",
       "         [  2.875 ,   2.875 ,   3.375 ,   3.375 ,   0.625 ],\n",
       "         [  2.875 ,   2.875 ,   3.375 ,   3.375 ,   0.625 ],\n",
       "         [  1.875 ,   1.875 ,   2.375 ,   2.375 ,   0.625 ],\n",
       "         [  1.875 ,   1.875 ,   2.375 ,   2.375 ,   0.625 ]]],\n",
       "\n",
       "\n",
       "       [[[  0.875 ,   0.875 ,   1.375 ,   1.375 ,   0.625 ],\n",
       "         [  0.875 ,   0.875 ,   1.375 ,   1.375 ,   0.625 ],\n",
       "         [  2.875 ,   2.875 ,   3.375 ,   3.375 ,   0.625 ],\n",
       "         [  2.875 ,   2.875 ,   3.375 ,   3.375 ,   0.625 ],\n",
       "         [  1.875 ,   1.875 ,   2.375 ,   2.375 ,   0.625 ],\n",
       "         [  1.875 ,   1.875 ,   2.375 ,   2.375 ,   0.625 ]],\n",
       "\n",
       "        [[  8.75  ,   8.75  ,  13.75  ,  13.75  ,   0.625 ],\n",
       "         [  8.75  ,   8.75  ,  13.75  ,  13.75  ,   0.625 ],\n",
       "         [ 28.75  ,  28.75  ,  33.75  ,  33.75  ,   0.625 ],\n",
       "         [ 28.75  ,  28.75  ,  33.75  ,  33.75  ,   0.625 ],\n",
       "         [ 18.75  ,  18.75  ,  23.75  ,  23.75  ,   0.625 ],\n",
       "         [ 18.75  ,  18.75  ,  23.75  ,  23.75  ,   0.625 ]],\n",
       "\n",
       "        [[143.75  , 143.75  , 137.5   , 137.5   ,   0.625 ],\n",
       "         [143.75  , 143.75  , 137.5   , 137.5   ,   0.625 ],\n",
       "         [287.5   , 287.5   , 337.5   , 337.5   ,   0.625 ],\n",
       "         [287.5   , 287.5   , 337.5   , 337.5   ,   0.625 ],\n",
       "         [187.5   , 187.5   , 237.5   , 237.5   ,   0.625 ],\n",
       "         [187.5   , 187.5   , 237.5   , 237.5   ,   0.625 ]],\n",
       "\n",
       "        [[  0.875 ,   0.875 ,   1.375 ,   1.375 ,   0.625 ],\n",
       "         [  0.875 ,   0.875 ,   1.375 ,   1.375 ,   0.625 ],\n",
       "         [  2.875 ,   2.875 ,   3.375 ,   3.375 ,   0.625 ],\n",
       "         [  2.875 ,   2.875 ,   3.375 ,   3.375 ,   0.625 ],\n",
       "         [  1.875 ,   1.875 ,   2.375 ,   2.375 ,  31.5625],\n",
       "         [  1.875 ,   1.875 ,   2.375 ,   2.375 ,  31.5625]],\n",
       "\n",
       "        [[  1.4375,   1.4375,   1.375 ,   1.375 ,   0.625 ],\n",
       "         [  1.4375,   1.4375,   1.375 ,   1.375 ,   0.625 ],\n",
       "         [  2.875 ,   2.875 ,   3.375 ,   3.375 ,   0.625 ],\n",
       "         [  2.875 ,   2.875 ,   3.375 ,   3.375 ,   0.625 ],\n",
       "         [  1.875 ,   1.875 ,   2.375 ,   2.375 ,   0.625 ],\n",
       "         [  1.875 ,   1.875 ,   2.375 ,   2.375 ,   0.625 ]]]])"
      ]
     },
     "execution_count": 5,
     "metadata": {},
     "output_type": "execute_result"
    }
   ],
   "source": [
    "dout = np.zeros(x_shape_origin)\n",
    "x_n = x_shape_origin[0]\n",
    "x_depth = x_shape_origin[1]\n",
    "x_height = x_shape_origin[2]\n",
    "x_width = x_shape_origin[3]\n",
    "\n",
    "for n in range(x_n):\n",
    "    for c in range(x_depth):\n",
    "        for j in range(int(x_height)):\n",
    "            for k in range(int(x_width)):\n",
    "                dout[n, c, j, k] = out[n, c, j//stride, k//stride] / 4\n",
    "dout"
   ]
  },
  {
   "cell_type": "code",
   "execution_count": null,
   "metadata": {},
   "outputs": [],
   "source": []
  }
 ],
 "metadata": {
  "kernelspec": {
   "display_name": "Python 3",
   "language": "python",
   "name": "python3"
  },
  "language_info": {
   "codemirror_mode": {
    "name": "ipython",
    "version": 3
   },
   "file_extension": ".py",
   "mimetype": "text/x-python",
   "name": "python",
   "nbconvert_exporter": "python",
   "pygments_lexer": "ipython3",
   "version": "3.7.6"
  }
 },
 "nbformat": 4,
 "nbformat_minor": 4
}
