{
 "cells": [
  {
   "cell_type": "code",
   "execution_count": 2,
   "metadata": {},
   "outputs": [],
   "source": [
    "import datetime\n",
    "import matplotlib.pyplot as plt\n",
    "import math\n",
    "import numpy as np\n",
    "import os"
   ]
  },
  {
   "cell_type": "code",
   "execution_count": 3,
   "metadata": {},
   "outputs": [],
   "source": [
    "import torch\n",
    "from torchvision import datasets"
   ]
  },
  {
   "cell_type": "markdown",
   "metadata": {},
   "source": [
    "# Get MNIST data"
   ]
  },
  {
   "cell_type": "code",
   "execution_count": 4,
   "metadata": {},
   "outputs": [],
   "source": [
    "def generate_pair_sets():\n",
    "    data_dir = os.environ.get('PYTORCH_DATA_DIR')\n",
    "    if data_dir is None:\n",
    "        data_dir = './data'\n",
    "\n",
    "    train_set = datasets.MNIST(data_dir + '/mnist/', train = True, download = True)\n",
    "    train_features = train_set.train_data.view(-1, 1, 28, 28).float()\n",
    "    train_target = train_set.train_labels\n",
    "    train_features = torch.functional.F.avg_pool2d(train_features, kernel_size = 2)\n",
    "\n",
    "    test_set = datasets.MNIST(data_dir + '/mnist/', train = False, download = True)\n",
    "    test_features = test_set.test_data.view(-1, 1, 28, 28).float()\n",
    "    test_target = test_set.test_labels\n",
    "    test_features = torch.functional.F.avg_pool2d(test_features, kernel_size = 2)\n",
    "\n",
    "    return train_features, train_target, test_features, test_target"
   ]
  },
  {
   "cell_type": "code",
   "execution_count": 5,
   "metadata": {},
   "outputs": [],
   "source": [
    "import warnings\n",
    "warnings.filterwarnings('ignore')\n",
    "train_features, train_target, test_features, test_target = generate_pair_sets()"
   ]
  },
  {
   "cell_type": "code",
   "execution_count": 6,
   "metadata": {},
   "outputs": [
    {
     "name": "stdout",
     "output_type": "stream",
     "text": [
      "torch.Size([60000, 1, 14, 14]) torch.Size([60000])\n",
      "torch.Size([10000, 1, 14, 14]) torch.Size([10000])\n"
     ]
    }
   ],
   "source": [
    "print(train_features.shape, train_target.shape)\n",
    "print(test_features.shape, test_target.shape)"
   ]
  },
  {
   "cell_type": "code",
   "execution_count": 7,
   "metadata": {},
   "outputs": [],
   "source": [
    "data_size = 1000\n",
    "train_perm = torch.randperm(train_features.size(0))\n",
    "idx = train_perm[:data_size]\n",
    "train_features = train_features[idx].reshape([data_size, train_features.size(2)**2])\n",
    "train_target = train_target[idx]\n",
    "\n",
    "test_perm = torch.randperm(test_features.size(0))\n",
    "idx = test_perm[:data_size]\n",
    "test_features = test_features[idx].reshape([data_size, test_features.size(2)**2])\n",
    "test_target = test_target[idx]"
   ]
  },
  {
   "cell_type": "code",
   "execution_count": 8,
   "metadata": {},
   "outputs": [
    {
     "name": "stdout",
     "output_type": "stream",
     "text": [
      "torch.Size([1000, 196]) torch.Size([1000])\n",
      "torch.Size([1000, 196]) torch.Size([1000])\n"
     ]
    }
   ],
   "source": [
    "def normalize(tensor):\n",
    "    mean, std = tensor.mean(), tensor.std()\n",
    "    return tensor.sub_(mean).div_(std)\n",
    "\n",
    "normalize(train_features)\n",
    "normalize(test_features)\n",
    "print(train_features.shape, train_target.shape)\n",
    "print(test_features.shape, test_target.shape)"
   ]
  },
  {
   "cell_type": "code",
   "execution_count": 9,
   "metadata": {},
   "outputs": [
    {
     "data": {
      "image/png": "[encoded data removed]",
      "text/plain": [
       "<Figure size 432x288 with 6 Axes>"
      ]
     },
     "metadata": {},
     "output_type": "display_data"
    }
   ],
   "source": [
    "# displaying samples of data\n",
    "fig = plt.figure()\n",
    "for i in range(6):\n",
    "    plt.subplot(2,3,i+1)\n",
    "    plt.imshow(test_features[i].reshape([14, 14]), cmap='gray', interpolation='none')\n",
    "    plt.title(\"Value: {}\".format(test_target[i]))  \n",
    "    plt.tight_layout()\n",
    "    plt.xticks([])\n",
    "    plt.yticks([])"
   ]
  },
  {
   "cell_type": "markdown",
   "metadata": {},
   "source": [
    "# Pytorch model"
   ]
  },
  {
   "cell_type": "code",
   "execution_count": 10,
   "metadata": {},
   "outputs": [],
   "source": [
    "# device\n",
    "# device = torch.device('cuda' if torch.cuda.is_available() else 'cpu')\n",
    "\n",
    "# Fully connected neural network\n",
    "class NeuralNet(torch.nn.Module):\n",
    "    def __init__(self, input_size, hidden_size, num_class, dropout_p):\n",
    "        super(NeuralNet, self).__init__()\n",
    "        self.fc1 = torch.nn.Linear(input_size, hidden_size) \n",
    "        self.ReLU = torch.nn.ReLU() \n",
    "        self.softmax = torch.nn.Softmax(dim=1)\n",
    "        self.fc2 = torch.nn.Linear(hidden_size, hidden_size)  \n",
    "        self.fc3 = torch.nn.Linear(hidden_size, num_class) \n",
    "        self.dropout = torch.nn.Dropout(dropout_p) \n",
    "    \n",
    "    def forward(self, x):\n",
    "        x = self.ReLU(self.fc1(x))\n",
    "        x = self.ReLU(self.fc2(x))\n",
    "        x = self.softmax(self.fc3(x))\n",
    "        return x"
   ]
  },
  {
   "cell_type": "code",
   "execution_count": 11,
   "metadata": {},
   "outputs": [],
   "source": [
    "# function to train each model\n",
    "def train_model(model_, train_features_, train_target_, criterion_, optimizer_, num_epochs_, batch_size_, learning_rate_decay):\n",
    "    # getting start time of train to get the train time at the end thanks to \"end_time\"\n",
    "    start_time = datetime.datetime.now()\n",
    "    # list to get train and test errors at each epoch\n",
    "    train_error = []\n",
    "    test_error = []\n",
    "    # train function\n",
    "    # Learning rate decay can be enabled or disabled than to an input in the function's parameters\n",
    "    if learning_rate_decay:\n",
    "        lambda_ = lambda epoch: 0.8 ** epoch\n",
    "        scheduler = torch.optim.lr_scheduler.LambdaLR(optimizer_, lr_lambda=lambda_)\n",
    "    for epoch in range(1, num_epochs_+1):\n",
    "        # using technique of mini batch (size of the batch in the function's parameters)\n",
    "        for i in range(int(len(train_features_)/batch_size_)):  \n",
    "            # getting images and labels in right format\n",
    "            images = train_features_.narrow(0,i*batch_size_,batch_size_)\n",
    "            labels = train_target_.narrow(0,i*batch_size_,batch_size_)\n",
    "\n",
    "            # Forward pass\n",
    "            outputs = model_(images)\n",
    "            loss = criterion_(outputs, labels)\n",
    "\n",
    "            # Backward and optimize\n",
    "            optimizer_.zero_grad()\n",
    "            loss.backward()\n",
    "            optimizer_.step()\n",
    "\n",
    "        if learning_rate_decay:\n",
    "            scheduler.step()\n",
    "        # getting train error at each epoch\n",
    "        train_error.append(test_accuracy(model_, train_features_, train_target_))\n",
    "        test_error.append(test_accuracy(model_, test_features, test_target))\n",
    "    # getting end time and training time\n",
    "    training_time = datetime.datetime.now() - start_time\n",
    "    print('Training time: {}'.format(training_time))\n",
    "    print('Loss: {:.4f} on final epoch: {}. Train error: {:.5f}%, Test error: {:.5f}%'.format(loss.item(),epoch,train_error[-1],test_error[-1]))\n",
    "    return train_error, test_error, training_time"
   ]
  },
  {
   "cell_type": "code",
   "execution_count": 12,
   "metadata": {},
   "outputs": [],
   "source": [
    "def test_accuracy(model_, my_test_features_, my_test_target_):\n",
    "    outputs = model_(my_test_features_)\n",
    "    _, predictions = torch.max(outputs.data, 1)\n",
    "    count_errors = (predictions.long() != my_test_target_.long()).sum().item()\n",
    "    return count_errors / my_test_features_.size(0) * 100"
   ]
  },
  {
   "cell_type": "markdown",
   "metadata": {},
   "source": [
    "# Homemade framework"
   ]
  },
  {
   "cell_type": "code",
   "execution_count": 13,
   "metadata": {},
   "outputs": [],
   "source": [
    "%load_ext autoreload\n",
    "%autoreload 2\n",
    "from homemade_framework import framework as NN"
   ]
  },
  {
   "cell_type": "markdown",
   "metadata": {},
   "source": [
    "# Models parameters"
   ]
  },
  {
   "cell_type": "code",
   "execution_count": 14,
   "metadata": {},
   "outputs": [],
   "source": [
    "# number of epoch\n",
    "num_epochs = 200\n",
    "# batch size to compute mini-batch\n",
    "batch_size = 10\n",
    "# number of pixels in the image \n",
    "input_size = 196\n",
    "# number of possible digit: 0 to 9 \n",
    "num_class = 10\n",
    "# small step to find a minima\n",
    "learning_rate = 0.01\n",
    "# hidden size\n",
    "hidden_size = 128\n",
    "# p dropout\n",
    "p_dropout = 0\n",
    "# learning rate decay\n",
    "LRD = False"
   ]
  },
  {
   "cell_type": "markdown",
   "metadata": {},
   "source": [
    "# Train pytorch model"
   ]
  },
  {
   "cell_type": "markdown",
   "metadata": {},
   "source": [
    "model = NeuralNet(input_size, hidden_size, num_class, p_dropout)\n",
    "criterion = torch.nn.CrossEntropyLoss()\n",
    "optimizer = torch.optim.SGD(model.parameters(), lr=learning_rate)  \n",
    "train_error, test_error, train_time = train_model(model, train_features, train_target, criterion, optimizer, num_epochs, batch_size, LRD)"
   ]
  },
  {
   "cell_type": "markdown",
   "metadata": {},
   "source": [
    "# Train homemade model"
   ]
  },
  {
   "cell_type": "code",
   "execution_count": 15,
   "metadata": {},
   "outputs": [
    {
     "name": "stdout",
     "output_type": "stream",
     "text": [
      "Model description: Linear in green, Activation in blue, Loss in magenta, Softmax in red, Flatten in Gray, Convolution in Cyan, Batch_normalization in Black\n",
      "\u001b[32m\tLinear layer shape: [196, 128]\u001b[0m\n",
      "\u001b[34m\tLeakyReLU activation\u001b[0m\n",
      "\u001b[32m\tLinear layer shape: [128, 128]\u001b[0m\n",
      "\u001b[34m\tLeakyReLU activation\u001b[0m\n",
      "\u001b[39m\tBatch normalization function\u001b[0m\n",
      "\u001b[32m\tLinear layer shape: [128, 10]\u001b[0m\n",
      "\u001b[31m\tSoftmax function\u001b[0m\n",
      "\u001b[35m\tMSE\u001b[0m\n",
      "Before training: Epoch: 0, Train Error: 89.2000%,        Test Error: 88.2000%, Loss  0.0000\n",
      "Epoch: 1, Train Error: 21.6000%,        Test Error: 27.9000%, Loss  65.8977\n",
      "Epoch: 31, Train Error: 1.7000%,        Test Error: 14.0000%, Loss  0.2048\n",
      "Epoch: 61, Train Error: 1.3000%,        Test Error: 13.9000%, Loss  0.0897\n",
      "Epoch: 91, Train Error: 1.2000%,        Test Error: 13.6000%, Loss  0.0580\n",
      "Epoch: 121, Train Error: 1.0000%,        Test Error: 13.6000%, Loss  0.0428\n",
      "Epoch: 151, Train Error: 1.0000%,        Test Error: 13.6000%, Loss  0.0337\n",
      "Epoch: 181, Train Error: 0.9000%,        Test Error: 13.5000%, Loss  0.0278\n",
      "\n",
      "Training time: 0:00:13.033994\n",
      "After training: Epoch: 199, Train Error: 0.8000%,        Test Error: 13.5000%, Loss  0.0250\n"
     ]
    }
   ],
   "source": [
    "# convert data to numpy array\n",
    "train_features_np, train_target_np = train_features.numpy(), train_target.numpy()\n",
    "test_features_np, test_target_np = test_features.numpy(), test_target.numpy()\n",
    "\n",
    "# Build the model\n",
    "Model = NN.Sequential([NN.Linear(input_size, hidden_size), NN.LeakyReLU(),\n",
    "                       NN.Linear(hidden_size, hidden_size), NN.LeakyReLU(), NN.Batch_normalization(),\n",
    "                       NN.Linear(hidden_size, num_class), NN.Softmax()], NN.LossMSE())\n",
    "# Set the learning rate\n",
    "Model.set_Lr(learning_rate)\n",
    "# Print model's parameters\n",
    "Model.print(print_color=True)\n",
    "\n",
    "NN.train_homemade_model(Model, num_epochs, train_features_np, train_target_np, test_features_np, test_target_np, batch_size)"
   ]
  },
  {
   "cell_type": "code",
   "execution_count": 16,
   "metadata": {},
   "outputs": [],
   "source": [
    "nb = 2\n",
    "train_features_tmp, train_target_tmp = train_features_np.reshape([1000,14,14])[0:nb], train_target_np[0:nb]\n",
    "test_features_tmp, test_target_tmp = test_features_np.reshape([1000,14,14])[0:nb], test_target_np[0:nb]"
   ]
  },
  {
   "cell_type": "code",
   "execution_count": 17,
   "metadata": {},
   "outputs": [
    {
     "name": "stdout",
     "output_type": "stream",
     "text": [
      "train features shape: (2, 14, 14) \n",
      "train target shape: (2,),      \n",
      "test features shape: (2, 14, 14),\n",
      "test target shape: (2,)\n"
     ]
    }
   ],
   "source": [
    "print(\"train features shape: {} \\ntrain target shape: {},\\\n",
    "      \\ntest features shape: {},\\ntest target shape: {}\".format(train_features_tmp.shape, train_target_tmp.shape,\n",
    "                                                             test_features_tmp.shape, test_target_tmp.shape))"
   ]
  },
  {
   "cell_type": "code",
   "execution_count": 18,
   "metadata": {},
   "outputs": [
    {
     "name": "stdout",
     "output_type": "stream",
     "text": [
      "Model description: Linear in green, Activation in blue, Loss in magenta, Softmax in red, Flatten in Gray, Convolution in Cyan, Batch_normalization in Black\n",
      "\u001b[36m\tConvolution feature maps: 16, kernel size: (16, 1, 3, 0)\u001b[0m\n",
      "\u001b[34m\tLeakyReLU activation\u001b[0m\n",
      "\u001b[36m\tConvolution feature maps: 16, kernel size: (16, 1, 3, 0)\u001b[0m\n",
      "\u001b[34m\tLeakyReLU activation\u001b[0m\n",
      "\u001b[37m\tFlatten function\u001b[0m\n",
      "\u001b[32m\tLinear layer shape: [100, 10]\u001b[0m\n",
      "\u001b[31m\tSoftmax function\u001b[0m\n",
      "\u001b[35m\tMSE\u001b[0m\n"
     ]
    }
   ],
   "source": [
    "# Build the model\n",
    "Model = NN.Sequential([NN.Convolution(), NN.LeakyReLU(),\n",
    "                       NN.Convolution(), NN.LeakyReLU(),\n",
    "                       NN.Flatten(),\n",
    "                       NN.Linear(100, num_class), NN.Softmax()], NN.LossMSE())\n",
    "# Set the learning rate\n",
    "Model.set_Lr(learning_rate)\n",
    "# Print model's parameters\n",
    "Model.print(print_color=True)"
   ]
  },
  {
   "cell_type": "code",
   "execution_count": 19,
   "metadata": {},
   "outputs": [],
   "source": [
    "# NN.train_homemade_model(Model, num_epochs, train_features_np, train_target_np, test_features_np, test_target_np, batch_size)"
   ]
  },
  {
   "cell_type": "markdown",
   "metadata": {},
   "source": [
    "# Forward pass: 1 channel data, 1 feature map"
   ]
  },
  {
   "cell_type": "code",
   "execution_count": 69,
   "metadata": {},
   "outputs": [
    {
     "data": {
      "text/plain": [
       "array([[ 1,  2,  3,  4],\n",
       "       [ 5,  6,  7,  8],\n",
       "       [ 9, 10, 11, 12],\n",
       "       [13, 14, 15, 16],\n",
       "       [13, 14, 15, 16],\n",
       "       [ 1,  2,  3,  4]])"
      ]
     },
     "execution_count": 69,
     "metadata": {},
     "output_type": "execute_result"
    }
   ],
   "source": [
    "x = np.array([[1,2,3,4], [5,6,7,8], [9,10,11,12], [13,14,15,16], [13,14,15,16], [1,2,3,4]])\n",
    "x"
   ]
  },
  {
   "cell_type": "code",
   "execution_count": 70,
   "metadata": {},
   "outputs": [
    {
     "data": {
      "text/plain": [
       "array([[1, 2, 3],\n",
       "       [4, 5, 6],\n",
       "       [7, 8, 9]])"
      ]
     },
     "execution_count": 70,
     "metadata": {},
     "output_type": "execute_result"
    }
   ],
   "source": [
    "kernel = np.array([[1,2,3], [4,5,6], [7,8,9]])\n",
    "kernel"
   ]
  },
  {
   "cell_type": "code",
   "execution_count": 71,
   "metadata": {},
   "outputs": [
    {
     "data": {
      "text/plain": [
       "285"
      ]
     },
     "execution_count": 71,
     "metadata": {},
     "output_type": "execute_result"
    }
   ],
   "source": [
    "np.matmul(kernel.reshape([np.prod(kernel.shape)]), kernel.reshape([np.prod(kernel.shape)]))"
   ]
  },
  {
   "cell_type": "code",
   "execution_count": 72,
   "metadata": {},
   "outputs": [
    {
     "data": {
      "text/plain": [
       "3"
      ]
     },
     "execution_count": 72,
     "metadata": {},
     "output_type": "execute_result"
    }
   ],
   "source": [
    "math.ceil(x.shape[0]/2)"
   ]
  },
  {
   "cell_type": "code",
   "execution_count": 73,
   "metadata": {},
   "outputs": [
    {
     "data": {
      "text/plain": [
       "array([[[ 1,  2,  3],\n",
       "        [ 5,  6,  7],\n",
       "        [ 9, 10, 11]],\n",
       "\n",
       "       [[ 2,  3,  4],\n",
       "        [ 6,  7,  8],\n",
       "        [10, 11, 12]],\n",
       "\n",
       "       [[ 5,  6,  7],\n",
       "        [ 9, 10, 11],\n",
       "        [13, 14, 15]],\n",
       "\n",
       "       [[ 6,  7,  8],\n",
       "        [10, 11, 12],\n",
       "        [14, 15, 16]],\n",
       "\n",
       "       [[ 9, 10, 11],\n",
       "        [13, 14, 15],\n",
       "        [13, 14, 15]],\n",
       "\n",
       "       [[10, 11, 12],\n",
       "        [14, 15, 16],\n",
       "        [14, 15, 16]],\n",
       "\n",
       "       [[13, 14, 15],\n",
       "        [13, 14, 15],\n",
       "        [ 1,  2,  3]],\n",
       "\n",
       "       [[14, 15, 16],\n",
       "        [14, 15, 16],\n",
       "        [ 2,  3,  4]]])"
      ]
     },
     "execution_count": 73,
     "metadata": {},
     "output_type": "execute_result"
    }
   ],
   "source": [
    "kernel_size = 3\n",
    "stride = 1\n",
    "\n",
    "patches = np.asarray([x[stride*j:stride*j+kernel.shape[0], stride*k:stride*k+kernel.shape[1]] \n",
    "                      for j in range(x.shape[0]-kernel.shape[0]+1)\n",
    "                      for k in range(x.shape[1]-kernel.shape[1]+1)])\n",
    "patches"
   ]
  },
  {
   "cell_type": "code",
   "execution_count": 74,
   "metadata": {},
   "outputs": [
    {
     "data": {
      "text/plain": [
       "array([[ 1,  2,  3,  5,  6,  7,  9, 10, 11],\n",
       "       [ 2,  3,  4,  6,  7,  8, 10, 11, 12],\n",
       "       [ 5,  6,  7,  9, 10, 11, 13, 14, 15],\n",
       "       [ 6,  7,  8, 10, 11, 12, 14, 15, 16],\n",
       "       [ 9, 10, 11, 13, 14, 15, 13, 14, 15],\n",
       "       [10, 11, 12, 14, 15, 16, 14, 15, 16],\n",
       "       [13, 14, 15, 13, 14, 15,  1,  2,  3],\n",
       "       [14, 15, 16, 14, 15, 16,  2,  3,  4]])"
      ]
     },
     "execution_count": 74,
     "metadata": {},
     "output_type": "execute_result"
    }
   ],
   "source": [
    "patches = patches.reshape([patches.shape[0], kernel.shape[0]*kernel.shape[1]])\n",
    "patches"
   ]
  },
  {
   "cell_type": "code",
   "execution_count": 75,
   "metadata": {},
   "outputs": [
    {
     "data": {
      "text/plain": [
       "array([[1, 2, 3, 4, 5, 6, 7, 8, 9],\n",
       "       [1, 2, 3, 4, 5, 6, 7, 8, 9],\n",
       "       [1, 2, 3, 4, 5, 6, 7, 8, 9],\n",
       "       [1, 2, 3, 4, 5, 6, 7, 8, 9],\n",
       "       [1, 2, 3, 4, 5, 6, 7, 8, 9],\n",
       "       [1, 2, 3, 4, 5, 6, 7, 8, 9],\n",
       "       [1, 2, 3, 4, 5, 6, 7, 8, 9],\n",
       "       [1, 2, 3, 4, 5, 6, 7, 8, 9]])"
      ]
     },
     "execution_count": 75,
     "metadata": {},
     "output_type": "execute_result"
    }
   ],
   "source": [
    "kernel_repeat = np.repeat(kernel.reshape([1, np.prod(kernel.shape)]), patches.shape[0], axis=0)\n",
    "kernel_repeat"
   ]
  },
  {
   "cell_type": "code",
   "execution_count": 76,
   "metadata": {},
   "outputs": [
    {
     "data": {
      "text/plain": [
       "array([348, 393, 528, 573, 612, 657, 348, 393])"
      ]
     },
     "execution_count": 76,
     "metadata": {},
     "output_type": "execute_result"
    }
   ],
   "source": [
    "result = np.asarray([np.matmul(kernel_repeat[i,:], patches[i,:]) for i in range(kernel_repeat.shape[0])])\n",
    "result"
   ]
  },
  {
   "cell_type": "code",
   "execution_count": 77,
   "metadata": {},
   "outputs": [
    {
     "data": {
      "text/plain": [
       "array([[348, 393],\n",
       "       [528, 573],\n",
       "       [612, 657],\n",
       "       [348, 393]])"
      ]
     },
     "execution_count": 77,
     "metadata": {},
     "output_type": "execute_result"
    }
   ],
   "source": [
    "result = result.reshape([x.shape[0]-kernel.shape[0]+1, x.shape[1]-kernel.shape[1]+1])\n",
    "result"
   ]
  },
  {
   "cell_type": "code",
   "execution_count": null,
   "metadata": {},
   "outputs": [],
   "source": []
  },
  {
   "cell_type": "code",
   "execution_count": 107,
   "metadata": {},
   "outputs": [
    {
     "data": {
      "text/plain": [
       "array([[348, 393],\n",
       "       [528, 573],\n",
       "       [612, 657],\n",
       "       [348, 393],\n",
       "       [168, 213],\n",
       "       [ 96, 141]])"
      ]
     },
     "execution_count": 107,
     "metadata": {},
     "output_type": "execute_result"
    }
   ],
   "source": [
    "x = np.array([[1,2,3,4], [5,6,7,8], [9,10,11,12], [13,14,15,16], [13,14,15,16], [1,2,3,4], [1,2,3,4], [1,2,3,4]])\n",
    "kernel = np.array([[1,2,3], [4,5,6], [7,8,9]])\n",
    "patches = np.asarray([x[stride*j:stride*j+kernel.shape[0], stride*k:stride*k+kernel.shape[1]] \n",
    "                      for j in range(x.shape[0]-kernel.shape[0]+1)\n",
    "                      for k in range(x.shape[1]-kernel.shape[1]+1)])\n",
    "patches = patches.reshape([patches.shape[0], kernel.shape[0]*kernel.shape[1]])\n",
    "kernel_repeat = np.repeat(kernel.reshape([1, np.prod(kernel.shape)]), patches.shape[0], axis=0)\n",
    "result = np.asarray([np.matmul(kernel_repeat[i,:], patches[i,:]) for i in range(kernel_repeat.shape[0])])\n",
    "result = result.reshape([x.shape[0]-kernel.shape[0]+1, x.shape[1]-kernel.shape[1]+1])\n",
    "result"
   ]
  },
  {
   "cell_type": "markdown",
   "metadata": {},
   "source": [
    "# Forward pass: 1 channel data, several feature maps"
   ]
  },
  {
   "cell_type": "code",
   "execution_count": 108,
   "metadata": {},
   "outputs": [
    {
     "data": {
      "text/plain": [
       "(2, 3, 3)"
      ]
     },
     "execution_count": 108,
     "metadata": {},
     "output_type": "execute_result"
    }
   ],
   "source": [
    "kernel = np.array([[[1,2,3], [4,5,6], [7,8,9]], [[10,20,30], [40,50,60], [70,80,90]]])\n",
    "kernel.shape"
   ]
  },
  {
   "cell_type": "code",
   "execution_count": 109,
   "metadata": {},
   "outputs": [
    {
     "data": {
      "text/plain": [
       "array([[[ 1,  2,  3],\n",
       "        [ 5,  6,  7],\n",
       "        [ 9, 10, 11]],\n",
       "\n",
       "       [[ 2,  3,  4],\n",
       "        [ 6,  7,  8],\n",
       "        [10, 11, 12]],\n",
       "\n",
       "       [[ 5,  6,  7],\n",
       "        [ 9, 10, 11],\n",
       "        [13, 14, 15]],\n",
       "\n",
       "       [[ 6,  7,  8],\n",
       "        [10, 11, 12],\n",
       "        [14, 15, 16]],\n",
       "\n",
       "       [[ 9, 10, 11],\n",
       "        [13, 14, 15],\n",
       "        [13, 14, 15]],\n",
       "\n",
       "       [[10, 11, 12],\n",
       "        [14, 15, 16],\n",
       "        [14, 15, 16]],\n",
       "\n",
       "       [[13, 14, 15],\n",
       "        [13, 14, 15],\n",
       "        [ 1,  2,  3]],\n",
       "\n",
       "       [[14, 15, 16],\n",
       "        [14, 15, 16],\n",
       "        [ 2,  3,  4]],\n",
       "\n",
       "       [[13, 14, 15],\n",
       "        [ 1,  2,  3],\n",
       "        [ 1,  2,  3]],\n",
       "\n",
       "       [[14, 15, 16],\n",
       "        [ 2,  3,  4],\n",
       "        [ 2,  3,  4]],\n",
       "\n",
       "       [[ 1,  2,  3],\n",
       "        [ 1,  2,  3],\n",
       "        [ 1,  2,  3]],\n",
       "\n",
       "       [[ 2,  3,  4],\n",
       "        [ 2,  3,  4],\n",
       "        [ 2,  3,  4]]])"
      ]
     },
     "execution_count": 109,
     "metadata": {},
     "output_type": "execute_result"
    }
   ],
   "source": [
    "depth = kernel.shape[0]\n",
    "k_height = kernel.shape[1]\n",
    "k_width = kernel.shape[2]\n",
    "\n",
    "patches = np.asarray([x[stride*j:stride*j+k_height, stride*k:stride*k+k_width] \n",
    "                      for j in range(x.shape[0]-k_height+1)\n",
    "                      for k in range(x.shape[1]-k_width+1)])\n",
    "patches"
   ]
  },
  {
   "cell_type": "code",
   "execution_count": 110,
   "metadata": {},
   "outputs": [
    {
     "data": {
      "text/plain": [
       "array([[ 1,  2,  3,  5,  6,  7,  9, 10, 11],\n",
       "       [ 2,  3,  4,  6,  7,  8, 10, 11, 12],\n",
       "       [ 5,  6,  7,  9, 10, 11, 13, 14, 15],\n",
       "       [ 6,  7,  8, 10, 11, 12, 14, 15, 16],\n",
       "       [ 9, 10, 11, 13, 14, 15, 13, 14, 15],\n",
       "       [10, 11, 12, 14, 15, 16, 14, 15, 16],\n",
       "       [13, 14, 15, 13, 14, 15,  1,  2,  3],\n",
       "       [14, 15, 16, 14, 15, 16,  2,  3,  4],\n",
       "       [13, 14, 15,  1,  2,  3,  1,  2,  3],\n",
       "       [14, 15, 16,  2,  3,  4,  2,  3,  4],\n",
       "       [ 1,  2,  3,  1,  2,  3,  1,  2,  3],\n",
       "       [ 2,  3,  4,  2,  3,  4,  2,  3,  4]])"
      ]
     },
     "execution_count": 110,
     "metadata": {},
     "output_type": "execute_result"
    }
   ],
   "source": [
    "patches = patches.reshape([patches.shape[0], k_height*k_width])\n",
    "patches"
   ]
  },
  {
   "cell_type": "code",
   "execution_count": 111,
   "metadata": {},
   "outputs": [
    {
     "data": {
      "text/plain": [
       "(2, 12, 9)"
      ]
     },
     "execution_count": 111,
     "metadata": {},
     "output_type": "execute_result"
    }
   ],
   "source": [
    "kernel_repeat = np.repeat(kernel.reshape([depth, 1, k_height*k_width]), patches.shape[0], axis=1)\n",
    "kernel_repeat.shape"
   ]
  },
  {
   "cell_type": "code",
   "execution_count": 112,
   "metadata": {},
   "outputs": [
    {
     "data": {
      "text/plain": [
       "array([[[ 1,  2,  3,  4,  5,  6,  7,  8,  9],\n",
       "        [ 1,  2,  3,  4,  5,  6,  7,  8,  9],\n",
       "        [ 1,  2,  3,  4,  5,  6,  7,  8,  9],\n",
       "        [ 1,  2,  3,  4,  5,  6,  7,  8,  9],\n",
       "        [ 1,  2,  3,  4,  5,  6,  7,  8,  9],\n",
       "        [ 1,  2,  3,  4,  5,  6,  7,  8,  9],\n",
       "        [ 1,  2,  3,  4,  5,  6,  7,  8,  9],\n",
       "        [ 1,  2,  3,  4,  5,  6,  7,  8,  9],\n",
       "        [ 1,  2,  3,  4,  5,  6,  7,  8,  9],\n",
       "        [ 1,  2,  3,  4,  5,  6,  7,  8,  9],\n",
       "        [ 1,  2,  3,  4,  5,  6,  7,  8,  9],\n",
       "        [ 1,  2,  3,  4,  5,  6,  7,  8,  9]],\n",
       "\n",
       "       [[10, 20, 30, 40, 50, 60, 70, 80, 90],\n",
       "        [10, 20, 30, 40, 50, 60, 70, 80, 90],\n",
       "        [10, 20, 30, 40, 50, 60, 70, 80, 90],\n",
       "        [10, 20, 30, 40, 50, 60, 70, 80, 90],\n",
       "        [10, 20, 30, 40, 50, 60, 70, 80, 90],\n",
       "        [10, 20, 30, 40, 50, 60, 70, 80, 90],\n",
       "        [10, 20, 30, 40, 50, 60, 70, 80, 90],\n",
       "        [10, 20, 30, 40, 50, 60, 70, 80, 90],\n",
       "        [10, 20, 30, 40, 50, 60, 70, 80, 90],\n",
       "        [10, 20, 30, 40, 50, 60, 70, 80, 90],\n",
       "        [10, 20, 30, 40, 50, 60, 70, 80, 90],\n",
       "        [10, 20, 30, 40, 50, 60, 70, 80, 90]]])"
      ]
     },
     "execution_count": 112,
     "metadata": {},
     "output_type": "execute_result"
    }
   ],
   "source": [
    "kernel_repeat"
   ]
  },
  {
   "cell_type": "code",
   "execution_count": 113,
   "metadata": {},
   "outputs": [
    {
     "data": {
      "text/plain": [
       "array([ 348,  393,  528,  573,  612,  657,  348,  393,  168,  213,   96,\n",
       "        141, 3480, 3930, 5280, 5730, 6120, 6570, 3480, 3930, 1680, 2130,\n",
       "        960, 1410])"
      ]
     },
     "execution_count": 113,
     "metadata": {},
     "output_type": "execute_result"
    }
   ],
   "source": [
    "result = np.asarray([np.matmul(kernel_repeat[i, j,:], patches[j,:]) for i in range(kernel_repeat.shape[0]) for j in range(kernel_repeat.shape[1])])\n",
    "result"
   ]
  },
  {
   "cell_type": "code",
   "execution_count": 114,
   "metadata": {},
   "outputs": [
    {
     "data": {
      "text/plain": [
       "array([[[ 348,  393],\n",
       "        [ 528,  573],\n",
       "        [ 612,  657],\n",
       "        [ 348,  393],\n",
       "        [ 168,  213],\n",
       "        [  96,  141]],\n",
       "\n",
       "       [[3480, 3930],\n",
       "        [5280, 5730],\n",
       "        [6120, 6570],\n",
       "        [3480, 3930],\n",
       "        [1680, 2130],\n",
       "        [ 960, 1410]]])"
      ]
     },
     "execution_count": 114,
     "metadata": {},
     "output_type": "execute_result"
    }
   ],
   "source": [
    "result = result.reshape([kernel_repeat.shape[0], x.shape[0]-k_height+1, x.shape[1]-k_width+1])\n",
    "result"
   ]
  },
  {
   "cell_type": "code",
   "execution_count": 115,
   "metadata": {},
   "outputs": [
    {
     "data": {
      "text/plain": [
       "(2, 6, 2)"
      ]
     },
     "execution_count": 115,
     "metadata": {},
     "output_type": "execute_result"
    }
   ],
   "source": [
    "result.shape"
   ]
  },
  {
   "cell_type": "markdown",
   "metadata": {},
   "source": [
    "# Forward pass: several channels input, several feature maps"
   ]
  },
  {
   "cell_type": "code",
   "execution_count": 141,
   "metadata": {},
   "outputs": [
    {
     "data": {
      "text/plain": [
       "(4, 6, 4)"
      ]
     },
     "execution_count": 141,
     "metadata": {},
     "output_type": "execute_result"
    }
   ],
   "source": [
    "x = np.array([[[1,2,3,4], [5,6,7,8], [9,10,11,12], [13,14,15,16], [13,14,15,16], [1,2,3,4]],\n",
    "              [[10,20,30,40], [50,60,70,80], [90,100,110,120], [130,140,150,160], [130,140,150,160], [10,20,30,40]],\n",
    "              [[100,200,300,400], [500,600,700,800], [900,1000,1100,1200], [1300,1400,1500,1600], [1300,1400,1500,1600], [100,200,300,400]],\n",
    "             [[1,2,3,4], [5,6,7,8], [9,10,11,12], [13,14,15,16], [13,14,15,16], [1,2,3,4]],\n",
    "              ])\n",
    "x.shape"
   ]
  },
  {
   "cell_type": "code",
   "execution_count": 163,
   "metadata": {},
   "outputs": [
    {
     "data": {
      "text/plain": [
       "(2, 4, 3, 3)"
      ]
     },
     "execution_count": 163,
     "metadata": {},
     "output_type": "execute_result"
    }
   ],
   "source": [
    "kernel = np.array([[[[1,2,3], [4,5,6], [7,8,9]],\n",
    "                   [[10,20,30], [40,50,60], [70,80,90]],\n",
    "                   [[10,20,30], [40,50,60], [70,80,90]],\n",
    "                   [[10,20,30], [40,50,60], [70,80,90]]],\n",
    "                   [[[1,2,3], [4,5,6], [7,8,9]],\n",
    "                   [[10,20,30], [40,50,60], [70,80,90]],\n",
    "                   [[10,20,30], [40,50,60], [70,80,90]],\n",
    "                   [[10,20,30], [40,50,60], [70,80,90]]]])\n",
    "kernel.shape"
   ]
  },
  {
   "cell_type": "code",
   "execution_count": 176,
   "metadata": {},
   "outputs": [],
   "source": [
    "x_depth = x.shape[0]\n",
    "x_height = x.shape[1]\n",
    "x_width = x.shape[2]\n",
    "\n",
    "k_output = kernel.shape[0]\n",
    "k_depth = kernel.shape[1]\n",
    "k_height = kernel.shape[2]\n",
    "k_width = kernel.shape[3]"
   ]
  },
  {
   "cell_type": "code",
   "execution_count": 177,
   "metadata": {},
   "outputs": [
    {
     "data": {
      "text/plain": [
       "(32, 3, 3)"
      ]
     },
     "execution_count": 177,
     "metadata": {},
     "output_type": "execute_result"
    }
   ],
   "source": [
    "patches = np.asarray([x[c, stride*j:stride*j+k_height, stride*k:stride*k+k_width] \n",
    "                      for c in range(x_depth)\n",
    "                      for j in range(x_height-k_height+1)\n",
    "                      for k in range(x_width-k_width+1)])\n",
    "patches.shape"
   ]
  },
  {
   "cell_type": "code",
   "execution_count": 178,
   "metadata": {},
   "outputs": [
    {
     "data": {
      "text/plain": [
       "(32, 3, 3)"
      ]
     },
     "execution_count": 178,
     "metadata": {},
     "output_type": "execute_result"
    }
   ],
   "source": [
    "patches.shape"
   ]
  },
  {
   "cell_type": "code",
   "execution_count": 179,
   "metadata": {},
   "outputs": [
    {
     "data": {
      "text/plain": [
       "array([[[   1,    2,    3,    5,    6,    7,    9,   10,   11],\n",
       "        [   2,    3,    4,    6,    7,    8,   10,   11,   12],\n",
       "        [   5,    6,    7,    9,   10,   11,   13,   14,   15],\n",
       "        [   6,    7,    8,   10,   11,   12,   14,   15,   16],\n",
       "        [   9,   10,   11,   13,   14,   15,   13,   14,   15],\n",
       "        [  10,   11,   12,   14,   15,   16,   14,   15,   16],\n",
       "        [  13,   14,   15,   13,   14,   15,    1,    2,    3],\n",
       "        [  14,   15,   16,   14,   15,   16,    2,    3,    4]],\n",
       "\n",
       "       [[  10,   20,   30,   50,   60,   70,   90,  100,  110],\n",
       "        [  20,   30,   40,   60,   70,   80,  100,  110,  120],\n",
       "        [  50,   60,   70,   90,  100,  110,  130,  140,  150],\n",
       "        [  60,   70,   80,  100,  110,  120,  140,  150,  160],\n",
       "        [  90,  100,  110,  130,  140,  150,  130,  140,  150],\n",
       "        [ 100,  110,  120,  140,  150,  160,  140,  150,  160],\n",
       "        [ 130,  140,  150,  130,  140,  150,   10,   20,   30],\n",
       "        [ 140,  150,  160,  140,  150,  160,   20,   30,   40]],\n",
       "\n",
       "       [[ 100,  200,  300,  500,  600,  700,  900, 1000, 1100],\n",
       "        [ 200,  300,  400,  600,  700,  800, 1000, 1100, 1200],\n",
       "        [ 500,  600,  700,  900, 1000, 1100, 1300, 1400, 1500],\n",
       "        [ 600,  700,  800, 1000, 1100, 1200, 1400, 1500, 1600],\n",
       "        [ 900, 1000, 1100, 1300, 1400, 1500, 1300, 1400, 1500],\n",
       "        [1000, 1100, 1200, 1400, 1500, 1600, 1400, 1500, 1600],\n",
       "        [1300, 1400, 1500, 1300, 1400, 1500,  100,  200,  300],\n",
       "        [1400, 1500, 1600, 1400, 1500, 1600,  200,  300,  400]],\n",
       "\n",
       "       [[   1,    2,    3,    5,    6,    7,    9,   10,   11],\n",
       "        [   2,    3,    4,    6,    7,    8,   10,   11,   12],\n",
       "        [   5,    6,    7,    9,   10,   11,   13,   14,   15],\n",
       "        [   6,    7,    8,   10,   11,   12,   14,   15,   16],\n",
       "        [   9,   10,   11,   13,   14,   15,   13,   14,   15],\n",
       "        [  10,   11,   12,   14,   15,   16,   14,   15,   16],\n",
       "        [  13,   14,   15,   13,   14,   15,    1,    2,    3],\n",
       "        [  14,   15,   16,   14,   15,   16,    2,    3,    4]]])"
      ]
     },
     "execution_count": 179,
     "metadata": {},
     "output_type": "execute_result"
    }
   ],
   "source": [
    "patches = patches.reshape([x_depth, patches.shape[0]//x_depth, k_height*k_width])\n",
    "patches"
   ]
  },
  {
   "cell_type": "code",
   "execution_count": 180,
   "metadata": {},
   "outputs": [
    {
     "data": {
      "text/plain": [
       "(4, 8, 9)"
      ]
     },
     "execution_count": 180,
     "metadata": {},
     "output_type": "execute_result"
    }
   ],
   "source": [
    "patches.shape"
   ]
  },
  {
   "cell_type": "code",
   "execution_count": 182,
   "metadata": {},
   "outputs": [
    {
     "data": {
      "text/plain": [
       "(2, 4, 8, 9)"
      ]
     },
     "execution_count": 182,
     "metadata": {},
     "output_type": "execute_result"
    }
   ],
   "source": [
    "kernel_repeat = np.repeat(kernel.reshape([k_channel, k_depth, 1, k_height*k_width]), patches.shape[1], axis=2)\n",
    "kernel_repeat.shape"
   ]
  },
  {
   "cell_type": "code",
   "execution_count": 187,
   "metadata": {},
   "outputs": [
    {
     "data": {
      "text/plain": [
       "array([   348,    393,    528,    573,   3480,   3930,   5280,   5730,\n",
       "         3480,   3930,   5280,   5730,  34800,  39300,  52800,  57300,\n",
       "        34800,  39300,  52800,  57300, 348000, 393000, 528000, 573000,\n",
       "          348,    393,    528,    573,   3480,   3930,   5280,   5730,\n",
       "          348,    393,    528,    573,   3480,   3930,   5280,   5730,\n",
       "         3480,   3930,   5280,   5730,  34800,  39300,  52800,  57300,\n",
       "        34800,  39300,  52800,  57300, 348000, 393000, 528000, 573000,\n",
       "          348,    393,    528,    573,   3480,   3930,   5280,   5730])"
      ]
     },
     "execution_count": 187,
     "metadata": {},
     "output_type": "execute_result"
    }
   ],
   "source": [
    "result = np.asarray([np.matmul(kernel_repeat[o, i, j,:], patches[c,j,:])\n",
    "                     for o in range(k_output)\n",
    "                     for c in range(patches.shape[0])\n",
    "                     for i in range(kernel_repeat.shape[0])\n",
    "                     for j in range(kernel_repeat.shape[1])])\n",
    "result"
   ]
  },
  {
   "cell_type": "code",
   "execution_count": 188,
   "metadata": {},
   "outputs": [
    {
     "data": {
      "text/plain": [
       "(64,)"
      ]
     },
     "execution_count": 188,
     "metadata": {},
     "output_type": "execute_result"
    }
   ],
   "source": [
    "result.shape"
   ]
  },
  {
   "cell_type": "code",
   "execution_count": 192,
   "metadata": {},
   "outputs": [
    {
     "data": {
      "text/plain": [
       "array([[[[   348,    393],\n",
       "         [   528,    573],\n",
       "         [  3480,   3930],\n",
       "         [  5280,   5730]],\n",
       "\n",
       "        [[  3480,   3930],\n",
       "         [  5280,   5730],\n",
       "         [ 34800,  39300],\n",
       "         [ 52800,  57300]],\n",
       "\n",
       "        [[ 34800,  39300],\n",
       "         [ 52800,  57300],\n",
       "         [348000, 393000],\n",
       "         [528000, 573000]],\n",
       "\n",
       "        [[   348,    393],\n",
       "         [   528,    573],\n",
       "         [  3480,   3930],\n",
       "         [  5280,   5730]]],\n",
       "\n",
       "\n",
       "       [[[   348,    393],\n",
       "         [   528,    573],\n",
       "         [  3480,   3930],\n",
       "         [  5280,   5730]],\n",
       "\n",
       "        [[  3480,   3930],\n",
       "         [  5280,   5730],\n",
       "         [ 34800,  39300],\n",
       "         [ 52800,  57300]],\n",
       "\n",
       "        [[ 34800,  39300],\n",
       "         [ 52800,  57300],\n",
       "         [348000, 393000],\n",
       "         [528000, 573000]],\n",
       "\n",
       "        [[   348,    393],\n",
       "         [   528,    573],\n",
       "         [  3480,   3930],\n",
       "         [  5280,   5730]]]])"
      ]
     },
     "execution_count": 192,
     "metadata": {},
     "output_type": "execute_result"
    }
   ],
   "source": [
    "result = result.reshape([kernel_repeat.shape[0], kernel_repeat.shape[1], x_height-k_height+1, x_width-k_width+1])\n",
    "result"
   ]
  },
  {
   "cell_type": "code",
   "execution_count": 193,
   "metadata": {},
   "outputs": [
    {
     "data": {
      "text/plain": [
       "(2, 4, 4, 2)"
      ]
     },
     "execution_count": 193,
     "metadata": {},
     "output_type": "execute_result"
    }
   ],
   "source": [
    "result.shape"
   ]
  },
  {
   "cell_type": "code",
   "execution_count": 197,
   "metadata": {},
   "outputs": [],
   "source": [
    "output = np.sum(result, axis=1)"
   ]
  },
  {
   "cell_type": "code",
   "execution_count": 198,
   "metadata": {},
   "outputs": [
    {
     "data": {
      "text/plain": [
       "(2, 4, 2)"
      ]
     },
     "execution_count": 198,
     "metadata": {},
     "output_type": "execute_result"
    }
   ],
   "source": [
    "output.shape"
   ]
  },
  {
   "cell_type": "markdown",
   "metadata": {},
   "source": [
    "# Final forward pass"
   ]
  },
  {
   "cell_type": "code",
   "execution_count": 231,
   "metadata": {},
   "outputs": [
    {
     "data": {
      "text/plain": [
       "(5, 6, 5)"
      ]
     },
     "execution_count": 231,
     "metadata": {},
     "output_type": "execute_result"
    }
   ],
   "source": [
    "x = np.array([[[1,2,3,4,5], [5,6,7,8,5], [9,10,11,12,5], [13,14,15,16,5], [13,14,15,16,5], [1,2,3,4,5]],\n",
    "              [[10,20,30,40,5], [50,60,70,80,5], [90,100,110,120,5], [130,140,150,160,5], [130,140,150,160,5], [10,20,30,40,5]],\n",
    "              [[100,200,300,400,5], [500,600,700,800,5], [900,1000,1100,1200,5], [1300,1400,1500,1600,5], [1300,1400,1500,1600,5], [100,200,300,400,5]],\n",
    "             [[1,2,3,4,5], [5,6,7,8,5], [9,10,11,12,5], [13,14,15,16,5], [13,14,15,16,5], [1,2,3,4,5]],\n",
    "             [[1,2,3,4,5], [5,6,7,8,5], [9,10,11,12,5], [13,14,15,16,5], [13,14,15,16,5], [1,2,3,4,5]],\n",
    "              ])\n",
    "x.shape"
   ]
  },
  {
   "cell_type": "code",
   "execution_count": 232,
   "metadata": {},
   "outputs": [
    {
     "data": {
      "text/plain": [
       "(3, 5, 3, 3)"
      ]
     },
     "execution_count": 232,
     "metadata": {},
     "output_type": "execute_result"
    }
   ],
   "source": [
    "kernel = np.array([[[[1,2,3], [4,5,6], [7,8,9]],\n",
    "                   [[10,20,30], [40,50,60], [70,80,90]],\n",
    "                   [[10,20,30], [40,50,60], [70,80,90]],\n",
    "                   [[10,20,30], [40,50,60], [70,80,90]],\n",
    "                   [[10,20,30], [40,50,60], [70,80,90]]],\n",
    "                   [[[1,2,3], [4,5,6], [7,8,9]],\n",
    "                   [[10,20,30], [40,50,60], [70,80,90]],\n",
    "                   [[10,20,30], [40,50,60], [70,80,90]],\n",
    "                   [[10,20,30], [40,50,60], [70,80,90]],\n",
    "                   [[10,20,30], [40,50,60], [70,80,90]]],\n",
    "                   [[[1,2,3], [4,5,6], [7,8,9]],\n",
    "                   [[10,20,30], [40,50,60], [70,80,90]],\n",
    "                   [[10,20,30], [40,50,60], [70,80,90]],\n",
    "                   [[10,20,30], [40,50,60], [70,80,90]],\n",
    "                   [[10,20,30], [40,50,60], [70,80,90]]]])\n",
    "kernel.shape"
   ]
  },
  {
   "cell_type": "code",
   "execution_count": 234,
   "metadata": {},
   "outputs": [
    {
     "name": "stdout",
     "output_type": "stream",
     "text": [
      "patches shape (5, 12, 9)\n",
      "kernel_repeat shape (3, 5, 12, 9)\n",
      "result shape (180,)\n",
      "y shape (3, 4, 3)\n"
     ]
    }
   ],
   "source": [
    "in_channel = x.shape[0]\n",
    "x_height = x.shape[1]\n",
    "x_width = x.shape[2]\n",
    "\n",
    "out_channel = kernel.shape[0]\n",
    "in_channel = kernel.shape[1]\n",
    "k_height = kernel.shape[2]\n",
    "k_width = kernel.shape[3]\n",
    "\n",
    "patches = np.asarray([x[c, stride*j:stride*j+k_height, stride*k:stride*k+k_width] \n",
    "                      for c in range(in_channel)\n",
    "                      for j in range(x_height-k_height+1)\n",
    "                      for k in range(x_width-k_width+1)])\n",
    "patches = patches.reshape([in_channel, math.ceil(patches.shape[0]/in_channel), k_height*k_width])\n",
    "print(\"patches shape\", patches.shape)\n",
    "kernel_repeat = np.repeat(kernel.reshape([out_channel, in_channel, 1, k_height*k_width]), patches.shape[1], axis=2)\n",
    "print(\"kernel_repeat shape\", kernel_repeat.shape)\n",
    "result = np.asarray([np.matmul(kernel_repeat[o, c, j,:], patches[c, j,:])\n",
    "                     for o in range(out_channel)\n",
    "                     for c in range(patches.shape[0])\n",
    "                     for j in range(patches.shape[1])])\n",
    "print(\"result shape\", result.shape)\n",
    "result = result.reshape([kernel_repeat.shape[0], kernel_repeat.shape[1], x_height-k_height+1, x_width-k_width+1])\n",
    "y = np.sum(result, axis=1)\n",
    "print(\"y shape\", y.shape)"
   ]
  },
  {
   "cell_type": "markdown",
   "metadata": {},
   "source": [
    "# Backward pass convolution"
   ]
  },
  {
   "cell_type": "code",
   "execution_count": 42,
   "metadata": {},
   "outputs": [
    {
     "data": {
      "text/plain": [
       "(3, 3, 3)"
      ]
     },
     "execution_count": 42,
     "metadata": {},
     "output_type": "execute_result"
    }
   ],
   "source": [
    "kernel_test = np.array([[[1,2,3], [4,5,6], [7,8,9]],[[1,2,3], [4,5,6], [7,8,9]],[[1,2,3], [4,5,6], [7,8,9]]])\n",
    "kernel_test.shape"
   ]
  },
  {
   "cell_type": "code",
   "execution_count": 43,
   "metadata": {},
   "outputs": [
    {
     "data": {
      "text/plain": [
       "array([[[1, 2, 3],\n",
       "        [4, 5, 6],\n",
       "        [7, 8, 9]],\n",
       "\n",
       "       [[1, 2, 3],\n",
       "        [4, 5, 6],\n",
       "        [7, 8, 9]],\n",
       "\n",
       "       [[1, 2, 3],\n",
       "        [4, 5, 6],\n",
       "        [7, 8, 9]]])"
      ]
     },
     "execution_count": 43,
     "metadata": {},
     "output_type": "execute_result"
    }
   ],
   "source": [
    "kernel_test"
   ]
  },
  {
   "cell_type": "code",
   "execution_count": 44,
   "metadata": {},
   "outputs": [
    {
     "data": {
      "text/plain": [
       "array([[[9, 8, 7],\n",
       "        [6, 5, 4],\n",
       "        [3, 2, 1]],\n",
       "\n",
       "       [[9, 8, 7],\n",
       "        [6, 5, 4],\n",
       "        [3, 2, 1]],\n",
       "\n",
       "       [[9, 8, 7],\n",
       "        [6, 5, 4],\n",
       "        [3, 2, 1]]])"
      ]
     },
     "execution_count": 44,
     "metadata": {},
     "output_type": "execute_result"
    }
   ],
   "source": [
    "np.flip(kernel_test)"
   ]
  },
  {
   "cell_type": "code",
   "execution_count": 51,
   "metadata": {},
   "outputs": [
    {
     "data": {
      "text/plain": [
       "(3, 4, 5)"
      ]
     },
     "execution_count": 51,
     "metadata": {},
     "output_type": "execute_result"
    }
   ],
   "source": [
    "x_test = np.array([[[1,2,3,4,5], [4,5,6,4,5], [7,8,9,4,5], [7,8,9,4,5]],\n",
    "              [[1,2,3,4,5], [4,5,6,4,5], [7,8,9,4,5], [7,8,9,4,5]],\n",
    "              [[1,2,3,4,5], [4,5,6,4,5], [7,8,9,4,5], [7,8,9,4,5]]])\n",
    "x_test.shape"
   ]
  },
  {
   "cell_type": "code",
   "execution_count": 63,
   "metadata": {},
   "outputs": [
    {
     "data": {
      "text/plain": [
       "(3, 3, 3)"
      ]
     },
     "execution_count": 63,
     "metadata": {},
     "output_type": "execute_result"
    }
   ],
   "source": [
    "kernel_test.shape"
   ]
  },
  {
   "cell_type": "code",
   "execution_count": 70,
   "metadata": {},
   "outputs": [
    {
     "data": {
      "text/plain": [
       "(3, 2, 3)"
      ]
     },
     "execution_count": 70,
     "metadata": {},
     "output_type": "execute_result"
    }
   ],
   "source": [
    "output_test = np.array([[[1,2,5], [4,4,5]],\n",
    "              [[1,4,5], [4,5,5]],\n",
    "              [[1,2,5], [4,5,5]]])\n",
    "output_test.shape"
   ]
  },
  {
   "cell_type": "code",
   "execution_count": 61,
   "metadata": {},
   "outputs": [
    {
     "data": {
      "text/plain": [
       "array([3, 2, 3])"
      ]
     },
     "execution_count": 61,
     "metadata": {},
     "output_type": "execute_result"
    }
   ],
   "source": [
    "output_size = np.array([x.shape[0], x_test.shape[1]-kernel_test.shape[1]+1, x_test.shape[2]-kernel_test.shape[2]+1])\n",
    "output_size"
   ]
  },
  {
   "cell_type": "code",
   "execution_count": 62,
   "metadata": {},
   "outputs": [
    {
     "data": {
      "text/plain": [
       "array([3, 4, 5])"
      ]
     },
     "execution_count": 62,
     "metadata": {},
     "output_type": "execute_result"
    }
   ],
   "source": [
    "reshape_x = np.array([output_size[0], output_size[1]+kernel_test.shape[1]-1, output_size[2]+kernel_test.shape[2]-1])\n",
    "reshape_x"
   ]
  },
  {
   "cell_type": "code",
   "execution_count": 72,
   "metadata": {},
   "outputs": [
    {
     "data": {
      "text/plain": [
       "[3, 2, 2]"
      ]
     },
     "execution_count": 72,
     "metadata": {},
     "output_type": "execute_result"
    }
   ],
   "source": [
    "padding = [output_size[0], kernel_test.shape[1]-1, kernel_test.shape[2]-1]\n",
    "padding"
   ]
  },
  {
   "cell_type": "code",
   "execution_count": 92,
   "metadata": {},
   "outputs": [
    {
     "data": {
      "text/plain": [
       "(3, 6, 7)"
      ]
     },
     "execution_count": 92,
     "metadata": {},
     "output_type": "execute_result"
    }
   ],
   "source": [
    "output_pad = np.array([np.pad(output_test[i, :, :], [(2, 2), (2, 2)], mode='constant', constant_values=0) for i in range(output_test.shape[0])])\n",
    "output_pad.shape"
   ]
  },
  {
   "cell_type": "code",
   "execution_count": 93,
   "metadata": {},
   "outputs": [
    {
     "data": {
      "text/plain": [
       "array([[[0, 0, 0, 0, 0, 0, 0],\n",
       "        [0, 0, 0, 0, 0, 0, 0],\n",
       "        [0, 0, 1, 2, 5, 0, 0],\n",
       "        [0, 0, 4, 4, 5, 0, 0],\n",
       "        [0, 0, 0, 0, 0, 0, 0],\n",
       "        [0, 0, 0, 0, 0, 0, 0]],\n",
       "\n",
       "       [[0, 0, 0, 0, 0, 0, 0],\n",
       "        [0, 0, 0, 0, 0, 0, 0],\n",
       "        [0, 0, 1, 4, 5, 0, 0],\n",
       "        [0, 0, 4, 5, 5, 0, 0],\n",
       "        [0, 0, 0, 0, 0, 0, 0],\n",
       "        [0, 0, 0, 0, 0, 0, 0]],\n",
       "\n",
       "       [[0, 0, 0, 0, 0, 0, 0],\n",
       "        [0, 0, 0, 0, 0, 0, 0],\n",
       "        [0, 0, 1, 2, 5, 0, 0],\n",
       "        [0, 0, 4, 5, 5, 0, 0],\n",
       "        [0, 0, 0, 0, 0, 0, 0],\n",
       "        [0, 0, 0, 0, 0, 0, 0]]])"
      ]
     },
     "execution_count": 93,
     "metadata": {},
     "output_type": "execute_result"
    }
   ],
   "source": [
    "output_pad"
   ]
  },
  {
   "cell_type": "code",
   "execution_count": null,
   "metadata": {},
   "outputs": [],
   "source": []
  }
 ],
 "metadata": {
  "kernelspec": {
   "display_name": "Python 3",
   "language": "python",
   "name": "python3"
  },
  "language_info": {
   "codemirror_mode": {
    "name": "ipython",
    "version": 3
   },
   "file_extension": ".py",
   "mimetype": "text/x-python",
   "name": "python",
   "nbconvert_exporter": "python",
   "pygments_lexer": "ipython3",
   "version": "3.7.6"
  }
 },
 "nbformat": 4,
 "nbformat_minor": 4
}
