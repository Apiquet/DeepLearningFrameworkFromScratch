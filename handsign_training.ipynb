{
 "cells": [
  {
   "cell_type": "code",
   "execution_count": 1,
   "metadata": {},
   "outputs": [],
   "source": [
    "import matplotlib.pyplot as plt\n",
    "import numpy as np\n",
    "import os"
   ]
  },
  {
   "cell_type": "code",
   "execution_count": 2,
   "metadata": {},
   "outputs": [],
   "source": [
    "from DB.db_manager import DBManager"
   ]
  },
  {
   "cell_type": "code",
   "execution_count": 3,
   "metadata": {},
   "outputs": [],
   "source": [
    "train_imgs, train_labels, test_imgs, test_labels = DBManager.load_data(\"C:/Users/antho/Documents/GitHub/data/handsigns/\")"
   ]
  },
  {
   "cell_type": "code",
   "execution_count": 4,
   "metadata": {},
   "outputs": [
    {
     "data": {
      "image/png": "[encoded data removed]",
      "text/plain": [
       "<Figure size 432x288 with 6 Axes>"
      ]
     },
     "metadata": {},
     "output_type": "display_data"
    }
   ],
   "source": [
    "# displaying samples of data\n",
    "fig = plt.figure()\n",
    "for i in range(6):\n",
    "    plt.subplot(2,3,i+1)\n",
    "    plt.imshow(train_imgs[i].reshape([28, 28]), cmap='gray', interpolation='none')\n",
    "    plt.title(\"Value: {}\".format(train_labels[i]), color='g')  \n",
    "    plt.tight_layout()\n",
    "    plt.xticks([])\n",
    "    plt.yticks([])"
   ]
  },
  {
   "cell_type": "code",
   "execution_count": 5,
   "metadata": {},
   "outputs": [],
   "source": [
    "from homemade_framework import framework as NN"
   ]
  },
  {
   "cell_type": "code",
   "execution_count": 9,
   "metadata": {},
   "outputs": [],
   "source": [
    "# number of epoch\n",
    "num_epochs = 10\n",
    "# batch size to compute mini-batch\n",
    "batch_size = 100\n",
    "# number of pixels in the image \n",
    "input_size = 28*28\n",
    "# number of possible digit: 0 to 9 \n",
    "num_class = 4\n",
    "# small step to find a minima\n",
    "learning_rate = 0.01\n",
    "# hidden size\n",
    "hidden_size = 128\n",
    "# p dropout\n",
    "p_dropout = 0\n",
    "# learning rate decay\n",
    "LRD = False"
   ]
  },
  {
   "cell_type": "markdown",
   "metadata": {},
   "source": [
    "## CNN"
   ]
  },
  {
   "cell_type": "code",
   "execution_count": 7,
   "metadata": {},
   "outputs": [
    {
     "name": "stdout",
     "output_type": "stream",
     "text": [
      "Model description: Linear in green, Activation in blue, Loss in magenta, Softmax in red, Flatten in Gray, Convolution in Cyan, BatchNormalization in Black, MaxPooling2D in Yellow, AveragePooling2D in highlight\n",
      "\u001b[36m\tConvolution feature maps: 2, kernel size: (2, 1, 3, 3)\u001b[0m\n",
      "\u001b[34m\tLeakyReLU activation, a=0.01\u001b[0m\n",
      "\u001b[33m\tMax Pooling layer, size: 2\u001b[0m\n",
      "\u001b[36m\tConvolution feature maps: 2, kernel size: (2, 2, 3, 3)\u001b[0m\n",
      "\u001b[34m\tLeakyReLU activation, a=0.01\u001b[0m\n",
      "\u001b[37m\tFlatten function\u001b[0m\n",
      "\u001b[39m\tBatch normalization function: a=1, b=0\u001b[0m\n",
      "\u001b[32m\tLinear layer shape: [242, 128]\u001b[0m\n",
      "\u001b[34m\tLeakyReLU activation, a=0.01\u001b[0m\n",
      "\u001b[39m\tBatch normalization function: a=1, b=0\u001b[0m\n",
      "\u001b[32m\tLinear layer shape: [128, 10]\u001b[0m\n",
      "\u001b[31m\tSoftmax function\u001b[0m\n",
      "\u001b[35m\tMSE\u001b[0m\n"
     ]
    }
   ],
   "source": [
    "# Build the model\n",
    "kernel_size = 3\n",
    "in_channels = 1\n",
    "out_channels = 2\n",
    "data_size = train_imgs.shape[2]\n",
    "nb_maxpool = 1\n",
    "out_first_conv = (data_size - kernel_size + 1) // (2*nb_maxpool) - kernel_size + 1\n",
    "\n",
    "# Build the model\n",
    "cnn_model = NN.Sequential([NN.Convolution(in_channels=in_channels, out_channels=out_channels, kernel_size=kernel_size),\n",
    "                           NN.LeakyReLU(), NN.MaxPooling2D(2),\n",
    "                           NN.Convolution(in_channels=out_channels, out_channels=out_channels, kernel_size=kernel_size),\n",
    "                           NN.LeakyReLU(), NN.Flatten(), NN.BatchNorm(),\n",
    "                           NN.Linear((out_first_conv**2)*out_channels, hidden_size), NN.LeakyReLU(), NN.BatchNorm(),\n",
    "                           NN.Linear(hidden_size, num_class), NN.Softmax()], NN.LossMSE())\n",
    "# Set the learning rate\n",
    "cnn_model.set_Lr(learning_rate)\n",
    "# Print model's parameters\n",
    "cnn_model.print(print_color=True)"
   ]
  },
  {
   "cell_type": "code",
   "execution_count": null,
   "metadata": {},
   "outputs": [],
   "source": [
    "NN.train_homemade_model(cnn_model, num_epochs, train_imgs, train_labels, test_imgs, test_labels, batch_size)"
   ]
  },
  {
   "cell_type": "markdown",
   "metadata": {},
   "source": [
    "## FCN"
   ]
  },
  {
   "cell_type": "code",
   "execution_count": 12,
   "metadata": {},
   "outputs": [
    {
     "name": "stdout",
     "output_type": "stream",
     "text": [
      "Model description: Linear in green, Activation in blue, Loss in magenta, Softmax in red, Flatten in Gray, Convolution in Cyan, BatchNormalization in Black, MaxPooling2D in Yellow, AveragePooling2D in highlight\n",
      "\u001b[32m\tLinear layer shape: [784, 40]\u001b[0m\n",
      "\u001b[34m\tLeakyReLU activation, a=0.01\u001b[0m\n",
      "\u001b[39m\tBatch normalization function: a=1, b=0\u001b[0m\n",
      "\u001b[32m\tLinear layer shape: [40, 40]\u001b[0m\n",
      "\u001b[34m\tLeakyReLU activation, a=0.01\u001b[0m\n",
      "\u001b[39m\tBatch normalization function: a=1, b=0\u001b[0m\n",
      "\u001b[32m\tLinear layer shape: [40, 4]\u001b[0m\n",
      "\u001b[31m\tSoftmax function\u001b[0m\n",
      "\u001b[35m\tMSE\u001b[0m\n",
      "Before training: Epoch: 0, Train Error: 76.2923%,        Test Error: 69.0377%, Loss  0.0000\n",
      "Epoch: 1, Train Error: 37.2549%,        Test Error: 42.6778%, Loss  97.3998\n",
      "Epoch: 2, Train Error: 24.7772%,        Test Error: 34.7280%, Loss  55.4329\n",
      "Epoch: 3, Train Error: 17.1123%,        Test Error: 30.9623%, Loss  40.9419\n",
      "Epoch: 4, Train Error: 14.7950%,        Test Error: 28.0335%, Loss  33.2617\n",
      "Epoch: 5, Train Error: 13.1907%,        Test Error: 26.7782%, Loss  28.7550\n",
      "Epoch: 6, Train Error: 8.7344%,        Test Error: 24.2678%, Loss  24.1721\n",
      "Epoch: 7, Train Error: 7.4866%,        Test Error: 21.7573%, Loss  19.6721\n",
      "Epoch: 8, Train Error: 6.9519%,        Test Error: 20.0837%, Loss  16.9388\n",
      "Epoch: 9, Train Error: 5.7041%,        Test Error: 17.5732%, Loss  15.1570\n",
      "Epoch: 10, Train Error: 4.6346%,        Test Error: 19.6653%, Loss  12.7718\n",
      "\n",
      "Training time: 0:00:00.144612\n",
      "After training: Epoch: 9, Train Error: 4.6346%,        Test Error: 19.6653%, Loss  12.7718\n"
     ]
    }
   ],
   "source": [
    "# number of pixels in the image \n",
    "input_size = 28*28\n",
    "# number of hidden neurons\n",
    "hidden_size = 40\n",
    "\n",
    "train_imgs_flatten = train_imgs.reshape([train_imgs.shape[0], np.prod(train_imgs.shape[1:])])\n",
    "test_imgs_flatten = test_imgs.reshape([test_imgs.shape[0], np.prod(test_imgs.shape[1:])])\n",
    "\n",
    "# Build the model\n",
    "fcn_model = NN.Sequential([NN.Linear(input_size, hidden_size), NN.LeakyReLU(), NN.BatchNorm(),\n",
    "                           NN.Linear(hidden_size, hidden_size), NN.LeakyReLU(), NN.BatchNorm(),\n",
    "                           NN.Linear(hidden_size, num_class), NN.Softmax()], NN.LossMSE())\n",
    "# Set the learning rate\n",
    "fcn_model.set_Lr(learning_rate)\n",
    "# Print model's parameters\n",
    "fcn_model.print(print_color=True)\n",
    "\n",
    "NN.train_homemade_model(fcn_model, 10, train_imgs_flatten, train_labels, test_imgs_flatten, test_labels, batch_size)"
   ]
  },
  {
   "cell_type": "code",
   "execution_count": null,
   "metadata": {},
   "outputs": [],
   "source": []
  }
 ],
 "metadata": {
  "kernelspec": {
   "display_name": "Python 3",
   "language": "python",
   "name": "python3"
  },
  "language_info": {
   "codemirror_mode": {
    "name": "ipython",
    "version": 3
   },
   "file_extension": ".py",
   "mimetype": "text/x-python",
   "name": "python",
   "nbconvert_exporter": "python",
   "pygments_lexer": "ipython3",
   "version": "3.8.5"
  }
 },
 "nbformat": 4,
 "nbformat_minor": 4
}
