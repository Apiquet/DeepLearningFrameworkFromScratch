{
 "cells": [
  {
   "cell_type": "code",
   "execution_count": 1,
   "metadata": {},
   "outputs": [],
   "source": [
    "import matplotlib.pyplot as plt\n",
    "import numpy as np\n",
    "import os"
   ]
  },
  {
   "cell_type": "code",
   "execution_count": 2,
   "metadata": {},
   "outputs": [],
   "source": [
    "from DB.db_manager import DBManager"
   ]
  },
  {
   "cell_type": "code",
   "execution_count": 3,
   "metadata": {},
   "outputs": [],
   "source": [
    "train_imgs, train_labels, test_imgs, test_labels = DBManager.load_data(\"C:/Users/antho/Documents/GitHub/data/handsigns/\")"
   ]
  },
  {
   "cell_type": "code",
   "execution_count": 4,
   "metadata": {},
   "outputs": [
    {
     "data": {
      "image/png": "[encoded data removed]",
      "text/plain": [
       "<Figure size 432x288 with 6 Axes>"
      ]
     },
     "metadata": {},
     "output_type": "display_data"
    }
   ],
   "source": [
    "# displaying samples of data\n",
    "fig = plt.figure()\n",
    "for i in range(6):\n",
    "    plt.subplot(2,3,i+1)\n",
    "    plt.imshow(train_imgs[i].reshape([train_imgs.shape[2],\n",
    "                                      train_imgs.shape[3]]),\n",
    "               cmap='gray', interpolation='none')\n",
    "    plt.title(\"Label: {}\".format(train_labels[i]), color='g')  \n",
    "    plt.xticks([])\n",
    "    plt.yticks([])"
   ]
  },
  {
   "cell_type": "code",
   "execution_count": 5,
   "metadata": {},
   "outputs": [],
   "source": [
    "from homemade_framework import framework as NN"
   ]
  },
  {
   "cell_type": "code",
   "execution_count": 6,
   "metadata": {},
   "outputs": [],
   "source": [
    "# number of epoch\n",
    "num_epochs = 20\n",
    "# batch size to compute mini-batch\n",
    "batch_size = 100\n",
    "# number of pixels in the image \n",
    "input_size = 28*28\n",
    "# number of possible digit: 0 to 9 \n",
    "num_class = 7\n",
    "# small step to find a minima\n",
    "learning_rate = 0.01\n",
    "# hidden size\n",
    "hidden_size = 128\n",
    "# p dropout\n",
    "p_dropout = 0\n",
    "# learning rate decay\n",
    "LRD = False"
   ]
  },
  {
   "cell_type": "markdown",
   "metadata": {},
   "source": [
    "## CNN"
   ]
  },
  {
   "cell_type": "code",
   "execution_count": 9,
   "metadata": {},
   "outputs": [
    {
     "name": "stdout",
     "output_type": "stream",
     "text": [
      "Model description: Linear in green, Activation in blue, Loss in magenta, Softmax in red, Flatten in Gray, Convolution in Cyan, BatchNormalization in Black, MaxPooling2D in Yellow, AveragePooling2D in highlight\n",
      "\u001b[36m\tConvolution feature maps: 2, kernel size: (2, 1, 3, 3)\u001b[0m\n",
      "\u001b[34m\tLeakyReLU activation, a=0.01\u001b[0m\n",
      "\u001b[33m\tMax Pooling layer, size: 2\u001b[0m\n",
      "\u001b[36m\tConvolution feature maps: 2, kernel size: (2, 2, 3, 3)\u001b[0m\n",
      "\u001b[34m\tLeakyReLU activation, a=0.01\u001b[0m\n",
      "\u001b[37m\tFlatten function\u001b[0m\n",
      "\u001b[39m\tBatch normalization function: a=1, b=0\u001b[0m\n",
      "\u001b[32m\tLinear layer shape: [242, 128]\u001b[0m\n",
      "\u001b[34m\tLeakyReLU activation, a=0.01\u001b[0m\n",
      "\u001b[39m\tBatch normalization function: a=1, b=0\u001b[0m\n",
      "\u001b[32m\tLinear layer shape: [128, 7]\u001b[0m\n",
      "\u001b[31m\tSoftmax function\u001b[0m\n",
      "\u001b[35m\tMSE\u001b[0m\n"
     ]
    }
   ],
   "source": [
    "# Build the model\n",
    "kernel_size = 3\n",
    "in_channels = 1\n",
    "out_channels = 2\n",
    "data_size = train_imgs.shape[2]\n",
    "nb_maxpool = 1\n",
    "out_first_conv = (data_size - kernel_size + 1) // (2*nb_maxpool) - kernel_size + 1\n",
    "\n",
    "# Build the model\n",
    "cnn_model = NN.Sequential([NN.Convolution(in_channels=in_channels, out_channels=out_channels, kernel_size=kernel_size),\n",
    "                           NN.LeakyReLU(), NN.MaxPooling2D(2),\n",
    "                           NN.Convolution(in_channels=out_channels, out_channels=out_channels, kernel_size=kernel_size),\n",
    "                           NN.LeakyReLU(), NN.Flatten(), NN.BatchNorm(),\n",
    "                           NN.Linear((out_first_conv**2)*out_channels, hidden_size), NN.LeakyReLU(), NN.BatchNorm(),\n",
    "                           NN.Linear(hidden_size, num_class), NN.Softmax()], NN.LossMSE())\n",
    "# Set the learning rate\n",
    "cnn_model.set_Lr(learning_rate)\n",
    "# Print model's parameters\n",
    "cnn_model.print(print_color=True)"
   ]
  },
  {
   "cell_type": "code",
   "execution_count": 10,
   "metadata": {},
   "outputs": [
    {
     "name": "stdout",
     "output_type": "stream",
     "text": [
      "Before training: Epoch: 0, Train Error: 90.9702%,        Test Error: 89.5753%, Loss  0.0000\n",
      "Epoch: 1, Train Error: 39.5773%,        Test Error: 45.9459%, Loss  125.2717\n",
      "Epoch: 2, Train Error: 24.7839%,        Test Error: 35.1351%, Loss  69.0509\n",
      "Epoch: 3, Train Error: 24.5917%,        Test Error: 40.1544%, Loss  56.3211\n",
      "Epoch: 4, Train Error: 17.0029%,        Test Error: 32.8185%, Loss  48.3549\n",
      "Epoch: 5, Train Error: 13.2565%,        Test Error: 29.3436%, Loss  36.9961\n",
      "Epoch: 6, Train Error: 10.2786%,        Test Error: 25.0965%, Loss  28.8879\n",
      "Epoch: 7, Train Error: 8.5495%,        Test Error: 25.8687%, Loss  24.0490\n",
      "Epoch: 8, Train Error: 7.6849%,        Test Error: 25.0965%, Loss  20.9459\n",
      "Epoch: 9, Train Error: 6.8204%,        Test Error: 22.0077%, Loss  17.7803\n",
      "Epoch: 10, Train Error: 5.6676%,        Test Error: 21.6216%, Loss  15.6973\n",
      "Epoch: 11, Train Error: 5.2834%,        Test Error: 21.2355%, Loss  13.9164\n",
      "Epoch: 12, Train Error: 4.6110%,        Test Error: 21.2355%, Loss  12.5657\n",
      "Epoch: 13, Train Error: 4.3228%,        Test Error: 20.8494%, Loss  11.3479\n",
      "Epoch: 14, Train Error: 3.6503%,        Test Error: 19.3050%, Loss  10.2462\n",
      "Epoch: 15, Train Error: 3.4582%,        Test Error: 20.4633%, Loss  9.3820\n",
      "Epoch: 16, Train Error: 3.1700%,        Test Error: 19.3050%, Loss  8.5679\n",
      "Epoch: 17, Train Error: 2.7858%,        Test Error: 19.3050%, Loss  7.8241\n",
      "Epoch: 18, Train Error: 2.6897%,        Test Error: 18.9189%, Loss  7.1208\n",
      "Epoch: 19, Train Error: 2.3055%,        Test Error: 18.9189%, Loss  6.5715\n",
      "Epoch: 20, Train Error: 2.1134%,        Test Error: 19.3050%, Loss  5.9926\n",
      "\n",
      "Training time: 0:06:58.238763\n",
      "After training: Epoch: 19, Train Error: 2.1134%,        Test Error: 19.3050%, Loss  5.9926\n"
     ]
    }
   ],
   "source": [
    "NN.train(cnn_model, num_epochs, train_imgs, train_labels, test_imgs, test_labels, batch_size)"
   ]
  },
  {
   "cell_type": "code",
   "execution_count": 11,
   "metadata": {},
   "outputs": [
    {
     "data": {
      "text/plain": [
       "32069"
      ]
     },
     "execution_count": 11,
     "metadata": {},
     "output_type": "execute_result"
    }
   ],
   "source": [
    "cnn_model.getParametersCount()"
   ]
  },
  {
   "cell_type": "code",
   "execution_count": 12,
   "metadata": {},
   "outputs": [],
   "source": [
    "cnn_model.save(\"data/model/cnn/\")"
   ]
  },
  {
   "cell_type": "markdown",
   "metadata": {},
   "source": [
    "## Confusion matrix"
   ]
  },
  {
   "cell_type": "code",
   "execution_count": 45,
   "metadata": {},
   "outputs": [],
   "source": [
    "cnn_model.load(\"data/model/cnn/\")"
   ]
  },
  {
   "cell_type": "code",
   "execution_count": 48,
   "metadata": {},
   "outputs": [
    {
     "data": {
      "text/plain": [
       "array([[34,  1,  2,  0,  6,  0,  0],\n",
       "       [ 0, 33,  1,  5,  5,  0,  0],\n",
       "       [ 1,  0, 22,  3,  0,  0,  0],\n",
       "       [ 0,  0,  7, 39,  0,  1,  0],\n",
       "       [ 1,  0,  4,  3, 25,  2,  0],\n",
       "       [ 0,  1,  1,  1,  4, 33,  0],\n",
       "       [ 0,  1,  0,  0,  0,  0, 23]])"
      ]
     },
     "execution_count": 48,
     "metadata": {},
     "output_type": "execute_result"
    }
   ],
   "source": [
    "test_pred = NN.get_inferences(cnn_model, test_imgs)\n",
    "NN.get_confusion_matrix(test_pred, test_labels, num_class)"
   ]
  },
  {
   "cell_type": "markdown",
   "metadata": {},
   "source": [
    "# FCN"
   ]
  },
  {
   "cell_type": "code",
   "execution_count": 7,
   "metadata": {},
   "outputs": [],
   "source": [
    "train_imgs_flatten = train_imgs.reshape([train_imgs.shape[0], np.prod(train_imgs.shape[1:])])\n",
    "test_imgs_flatten = test_imgs.reshape([test_imgs.shape[0], np.prod(test_imgs.shape[1:])])"
   ]
  },
  {
   "cell_type": "code",
   "execution_count": 8,
   "metadata": {},
   "outputs": [
    {
     "name": "stdout",
     "output_type": "stream",
     "text": [
      "Model description: Linear in green, Activation in blue, Loss in magenta, Softmax in red, Flatten in Gray, Convolution in Cyan, BatchNormalization in Black, MaxPooling2D in Yellow, AveragePooling2D in highlight\n",
      "\u001b[32m\tLinear layer shape: [784, 128]\u001b[0m\n",
      "\u001b[34m\tLeakyReLU activation, a=0.01\u001b[0m\n",
      "\u001b[39m\tBatch normalization function: a=1, b=0\u001b[0m\n",
      "\u001b[32m\tLinear layer shape: [128, 128]\u001b[0m\n",
      "\u001b[34m\tLeakyReLU activation, a=0.01\u001b[0m\n",
      "\u001b[39m\tBatch normalization function: a=1, b=0\u001b[0m\n",
      "\u001b[32m\tLinear layer shape: [128, 7]\u001b[0m\n",
      "\u001b[31m\tSoftmax function\u001b[0m\n",
      "\u001b[35m\tMSE\u001b[0m\n"
     ]
    }
   ],
   "source": [
    "# Build the model\n",
    "fcn_model = NN.Sequential([NN.Linear(input_size, hidden_size),\n",
    "                           NN.LeakyReLU(), NN.BatchNorm(),\n",
    "                           NN.Linear(hidden_size, hidden_size),\n",
    "                           NN.LeakyReLU(), NN.BatchNorm(),\n",
    "                           NN.Linear(hidden_size, num_class),\n",
    "                           NN.Softmax()], NN.LossMSE())\n",
    "# Set the learning rate\n",
    "fcn_model.set_Lr(learning_rate)\n",
    "# Print model's parameters\n",
    "fcn_model.print(print_color=True)"
   ]
  },
  {
   "cell_type": "code",
   "execution_count": 39,
   "metadata": {},
   "outputs": [
    {
     "name": "stdout",
     "output_type": "stream",
     "text": [
      "Before training: Epoch: 0, Train Error: 80.5956%,        Test Error: 78.3784%, Loss  0.0000\n",
      "Epoch: 1, Train Error: 37.0797%,        Test Error: 44.4015%, Loss  118.9427\n",
      "Epoch: 2, Train Error: 23.2469%,        Test Error: 29.3436%, Loss  66.8622\n",
      "Epoch: 3, Train Error: 14.0250%,        Test Error: 20.8494%, Loss  40.3988\n",
      "Epoch: 4, Train Error: 8.6455%,        Test Error: 14.6718%, Loss  28.1964\n",
      "Epoch: 5, Train Error: 8.7416%,        Test Error: 16.6023%, Loss  19.4785\n",
      "Epoch: 6, Train Error: 5.4755%,        Test Error: 12.7413%, Loss  15.7811\n",
      "Epoch: 7, Train Error: 4.5149%,        Test Error: 12.3552%, Loss  12.1432\n",
      "Epoch: 8, Train Error: 3.2661%,        Test Error: 13.1274%, Loss  9.4418\n",
      "Epoch: 9, Train Error: 2.2094%,        Test Error: 12.7413%, Loss  7.7680\n",
      "Epoch: 10, Train Error: 1.9212%,        Test Error: 12.3552%, Loss  6.4798\n",
      "Epoch: 11, Train Error: 1.4409%,        Test Error: 10.8108%, Loss  4.8322\n",
      "Epoch: 12, Train Error: 0.7685%,        Test Error: 10.8108%, Loss  3.7608\n",
      "Epoch: 13, Train Error: 0.8646%,        Test Error: 11.1969%, Loss  2.7585\n",
      "Epoch: 14, Train Error: 0.8646%,        Test Error: 11.5830%, Loss  2.1755\n",
      "Epoch: 15, Train Error: 0.5764%,        Test Error: 10.4247%, Loss  1.7373\n",
      "Epoch: 16, Train Error: 0.5764%,        Test Error: 10.0386%, Loss  1.4727\n",
      "Epoch: 17, Train Error: 0.4803%,        Test Error: 10.0386%, Loss  1.2722\n",
      "Epoch: 18, Train Error: 0.3842%,        Test Error: 10.0386%, Loss  1.0940\n",
      "Epoch: 19, Train Error: 0.3842%,        Test Error: 10.4247%, Loss  0.9308\n",
      "Epoch: 20, Train Error: 0.3842%,        Test Error: 10.8108%, Loss  0.8182\n",
      "\n",
      "Training time: 0:00:00.899669\n",
      "After training: Epoch: 19, Train Error: 0.3842%,        Test Error: 10.8108%, Loss  0.8182\n"
     ]
    }
   ],
   "source": [
    "NN.train(fcn_model, num_epochs, train_imgs_flatten, train_labels,\n",
    "         test_imgs_flatten, test_labels, batch_size)"
   ]
  },
  {
   "cell_type": "code",
   "execution_count": 20,
   "metadata": {},
   "outputs": [
    {
     "data": {
      "text/plain": [
       "117899"
      ]
     },
     "execution_count": 20,
     "metadata": {},
     "output_type": "execute_result"
    }
   ],
   "source": [
    "fcn_model.getParametersCount()"
   ]
  },
  {
   "cell_type": "code",
   "execution_count": 21,
   "metadata": {},
   "outputs": [],
   "source": [
    "fcn_model.save(\"data/model/fcn/\")"
   ]
  },
  {
   "cell_type": "code",
   "execution_count": 9,
   "metadata": {},
   "outputs": [],
   "source": [
    "fcn_model.load(\"data/model/fcn/\")"
   ]
  },
  {
   "cell_type": "code",
   "execution_count": 13,
   "metadata": {},
   "outputs": [
    {
     "name": "stdout",
     "output_type": "stream",
     "text": [
      "[[1.76407026e-01 5.52122971e-04 5.21582860e-03 9.86836436e-04\n",
      "  7.02282158e-01 3.58021370e-03 1.10975815e-01]\n",
      " [9.86728403e-04 7.51943892e-01 6.36088539e-02 1.06214304e-01\n",
      "  5.68628947e-04 7.42464555e-02 2.43113730e-03]]\n"
     ]
    }
   ],
   "source": [
    "test_pred = NN.get_inferences(fcn_model, test_imgs_flatten[0:2])"
   ]
  },
  {
   "cell_type": "code",
   "execution_count": 15,
   "metadata": {},
   "outputs": [
    {
     "data": {
      "text/plain": [
       "(390, 784)"
      ]
     },
     "execution_count": 15,
     "metadata": {},
     "output_type": "execute_result"
    }
   ],
   "source": [
    "test_imgs_flatten.shape"
   ]
  },
  {
   "cell_type": "code",
   "execution_count": 17,
   "metadata": {},
   "outputs": [
    {
     "data": {
      "text/plain": [
       "array([[61,  2,  0,  0,  0,  0,  0],\n",
       "       [ 0, 55,  1,  1,  2,  0,  0],\n",
       "       [ 0,  1, 40,  5,  1,  0,  0],\n",
       "       [ 1,  0,  4, 67,  0,  0,  0],\n",
       "       [ 0,  1,  3,  1, 60,  2,  0],\n",
       "       [ 0,  0,  0,  0,  1, 51,  0],\n",
       "       [ 1,  0,  0,  0,  0,  0, 29]])"
      ]
     },
     "execution_count": 17,
     "metadata": {},
     "output_type": "execute_result"
    }
   ],
   "source": [
    "NN.get_confusion_matrix(test_pred, test_labels, num_class)"
   ]
  },
  {
   "cell_type": "code",
   "execution_count": null,
   "metadata": {},
   "outputs": [],
   "source": []
  }
 ],
 "metadata": {
  "kernelspec": {
   "display_name": "Python 3",
   "language": "python",
   "name": "python3"
  },
  "language_info": {
   "codemirror_mode": {
    "name": "ipython",
    "version": 3
   },
   "file_extension": ".py",
   "mimetype": "text/x-python",
   "name": "python",
   "nbconvert_exporter": "python",
   "pygments_lexer": "ipython3",
   "version": "3.8.5"
  }
 },
 "nbformat": 4,
 "nbformat_minor": 4
}
