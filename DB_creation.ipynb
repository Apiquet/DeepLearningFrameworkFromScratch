{
 "cells": [
  {
   "cell_type": "code",
   "execution_count": 1,
   "metadata": {},
   "outputs": [
    {
     "name": "stdin",
     "output_type": "stream",
     "text": [
      "Number of classes: 3\n"
     ]
    }
   ],
   "source": [
    "try:\n",
    "    nb_labels=int(input('Number of classes:'))\n",
    "except ValueError:\n",
    "    print(\"Not a number\")"
   ]
  },
  {
   "cell_type": "code",
   "execution_count": 3,
   "metadata": {},
   "outputs": [
    {
     "name": "stdout",
     "output_type": "stream",
     "text": [
      "Press SPACE to create the DB\n",
      "The images for label 0 will be saved every 0.5s\n",
      "Press SPACE once again to start the next label\n",
      "Press p to pause and ESC to exit\n",
      "frame_00000000_00.png written!\n",
      "frame_00000001_00.png written!\n",
      "frame_00000002_00.png written!\n",
      "frame_00000003_00.png written!\n",
      "frame_00000004_01.png written!\n",
      "frame_00000005_02.png written!\n",
      "Last label done, closing...\n"
     ]
    }
   ],
   "source": [
    "import cv2\n",
    "import time\n",
    "\n",
    "cam = cv2.VideoCapture(0)\n",
    "\n",
    "img_counter = 0\n",
    "pause = False\n",
    "label = -1\n",
    "\n",
    "print(\"Press SPACE to create the DB\")\n",
    "print(\"The images for label 0 will be saved every 0.5s\")\n",
    "print(\"Press SPACE once again to start the next label\")\n",
    "print(\"Press p to pause and ESC to exit\")\n",
    "\n",
    "while True:\n",
    "    ret, frame = cam.read()\n",
    "    if not ret:\n",
    "        print(\"failed to grab frame\")\n",
    "        break\n",
    "    cv2.imshow(\"Images viewer\", frame)\n",
    "\n",
    "    k = cv2.waitKey(1)\n",
    "    if k%256 == 27:\n",
    "        # ESC pressed\n",
    "        print(\"Escape hit, closing...\")\n",
    "        break\n",
    "    elif k%256 == 32:\n",
    "        # SPACE pressed\n",
    "        label = label + 1\n",
    "        if label>=nb_labels:\n",
    "            print(\"Last label done, closing...\")\n",
    "            break\n",
    "    elif k%256 == ord('p'):\n",
    "        # p pressed\n",
    "        if pause:\n",
    "            pause = False\n",
    "        else:\n",
    "            pause = True\n",
    "    \n",
    "    if label > -1 and not pause:\n",
    "        img_name = \"frame_{:08d}_{:02d}.png\".format(img_counter, label)\n",
    "        cv2.imwrite(img_name, frame)\n",
    "        print(\"{} written!\".format(img_name))\n",
    "        img_counter += 1\n",
    "        time.sleep(1)\n",
    "\n",
    "cam.release()\n",
    "\n",
    "cv2.destroyAllWindows()"
   ]
  },
  {
   "cell_type": "code",
   "execution_count": null,
   "metadata": {},
   "outputs": [],
   "source": []
  }
 ],
 "metadata": {
  "kernelspec": {
   "display_name": "Python 3",
   "language": "python",
   "name": "python3"
  },
  "language_info": {
   "codemirror_mode": {
    "name": "ipython",
    "version": 3
   },
   "file_extension": ".py",
   "mimetype": "text/x-python",
   "name": "python",
   "nbconvert_exporter": "python",
   "pygments_lexer": "ipython3",
   "version": "3.8.3"
  }
 },
 "nbformat": 4,
 "nbformat_minor": 4
}
