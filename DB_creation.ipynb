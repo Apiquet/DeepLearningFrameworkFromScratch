{
 "cells": [
  {
   "cell_type": "code",
   "execution_count": 1,
   "metadata": {},
   "outputs": [
    {
     "name": "stdin",
     "output_type": "stream",
     "text": [
      "Number of classes: 3\n"
     ]
    }
   ],
   "source": [
    "try:\n",
    "    nb_labels=int(input('Number of classes:'))\n",
    "except ValueError:\n",
    "    print(\"Not a number\")"
   ]
  },
  {
   "cell_type": "code",
   "execution_count": 2,
   "metadata": {},
   "outputs": [
    {
     "name": "stdout",
     "output_type": "stream",
     "text": [
      "Press SPACE to create the DB\n",
      "The images for label 0 will be saved every 0.5s\n",
      "Press SPACE once again to start the next label\n",
      "Press p to pause and ESC to exit\n",
      "frame_0_0.png written!\n",
      "frame_1_0.png written!\n",
      "frame_2_0.png written!\n",
      "frame_3_0.png written!\n",
      "frame_4_0.png written!\n",
      "frame_5_1.png written!\n",
      "frame_6_1.png written!\n",
      "frame_7_1.png written!\n",
      "frame_8_1.png written!\n",
      "frame_9_1.png written!\n",
      "frame_10_2.png written!\n",
      "frame_11_2.png written!\n",
      "frame_12_2.png written!\n",
      "frame_13_2.png written!\n",
      "Last label done, closing...\n"
     ]
    }
   ],
   "source": [
    "import cv2\n",
    "import time\n",
    "\n",
    "cam = cv2.VideoCapture(0)\n",
    "\n",
    "cv2.namedWindow(\"test\")\n",
    "\n",
    "img_counter = 0\n",
    "label = -1\n",
    "\n",
    "print(\"Press SPACE to create the DB\")\n",
    "print(\"The images for label 0 will be saved every 0.5s\")\n",
    "print(\"Press SPACE once again to start the next label\")\n",
    "print(\"Press p to pause and ESC to exit\")\n",
    "\n",
    "while True:\n",
    "    ret, frame = cam.read()\n",
    "    if not ret:\n",
    "        print(\"failed to grab frame\")\n",
    "        break\n",
    "    cv2.imshow(\"Images viewer\", frame)\n",
    "\n",
    "    k = cv2.waitKey(1)\n",
    "    if k%256 == 27:\n",
    "        # ESC pressed\n",
    "        print(\"Escape hit, closing...\")\n",
    "        break\n",
    "    elif k%256 == 32:\n",
    "        # SPACE pressed\n",
    "        label = label + 1\n",
    "        if label>=nb_labels:\n",
    "            print(\"Last label done, closing...\")\n",
    "            break\n",
    "    \n",
    "    if label > -1:\n",
    "        img_name = \"frame_{}_{}.png\".format(img_counter, label)\n",
    "        cv2.imwrite(img_name, frame)\n",
    "        print(\"{} written!\".format(img_name))\n",
    "        img_counter += 1\n",
    "        time.sleep(1)\n",
    "\n",
    "cam.release()\n",
    "\n",
    "cv2.destroyAllWindows()"
   ]
  },
  {
   "cell_type": "code",
   "execution_count": null,
   "metadata": {},
   "outputs": [],
   "source": []
  }
 ],
 "metadata": {
  "kernelspec": {
   "display_name": "Python 3",
   "language": "python",
   "name": "python3"
  },
  "language_info": {
   "codemirror_mode": {
    "name": "ipython",
    "version": 3
   },
   "file_extension": ".py",
   "mimetype": "text/x-python",
   "name": "python",
   "nbconvert_exporter": "python",
   "pygments_lexer": "ipython3",
   "version": "3.8.3"
  }
 },
 "nbformat": 4,
 "nbformat_minor": 4
}
